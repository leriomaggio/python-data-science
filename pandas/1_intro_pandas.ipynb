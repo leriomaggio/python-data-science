{
 "cells": [
  {
   "cell_type": "markdown",
   "metadata": {},
   "source": [
    "# Pandas\n",
    "\n",
    "Pandas is the Swiss-Multipurpose Knife for Data Analysis in Python. With Pandas dealing with data-analysis is easy and simple but there are some things you need to get your head around first as Data-Frames and Data-Series. \n",
    "\n",
    "The tutorial provides a compact introduction to Pandas for beginners for I/O, data visualisation, statistical data analysis and aggregation within Jupiter notebooks."
   ]
  },
  {
   "cell_type": "markdown",
   "metadata": {},
   "source": [
    "## Content at a glance\n",
    "\n",
    "#### A Practical Start: Reading and Writing Data Across Multiple Formats \n",
    "\n",
    "* CSV\n",
    "* Excel\n",
    "* JSON\n",
    "* Clipboard\n",
    " \n",
    "* data\n",
    "    * .info\n",
    "    * .describe\n",
    "\n",
    "#### DataSeries & DataFrames / NumPy\n",
    "\n",
    "* Ode to NumPy\n",
    "* Data-Series\n",
    "* Data-Frames\n",
    "\n",
    "#### Data selection & Indexing\n",
    "\n",
    "* Data-Series: \n",
    "    * Slicing\n",
    "    * Access by label\n",
    "    * Index\n",
    "* Data-Frames: \n",
    "    * Slicing\n",
    "    * Access by label\n",
    "    * Peek into joining data\n",
    "* Returns a copy / inplace\n",
    "* Boolean indexing\n",
    "\n",
    "#### Operations\n",
    "    \n",
    " * add/substract\n",
    " * multiply\n",
    " * mention Index but don't go deep\n",
    "\n",
    "#### Data Visualisation\n",
    "\n",
    " * plot your data directly into your notebook\n",
    " \n",
    "#### Anti Patterns\n",
    "\n",
    "  * a collection of (anti-)patterns when using Pandas"
   ]
  },
  {
   "cell_type": "markdown",
   "metadata": {},
   "source": [
    "---"
   ]
  },
  {
   "cell_type": "markdown",
   "metadata": {},
   "source": [
    "## Brief Introduction to Pandas\n",
    "\n",
    "Pandas builds on top of two main data structures: **Data Frame** and **Series**"
   ]
  },
  {
   "cell_type": "markdown",
   "metadata": {},
   "source": [
    "### Data Frame _from the outside_\n",
    "\n",
    "<img src=\"./img/df_outside.png\" width=\"50%\" />"
   ]
  },
  {
   "cell_type": "markdown",
   "metadata": {},
   "source": [
    "### Data Frame _from the inside_\n",
    "\n",
    "<img src=\"./img/df_inside.png\" width=\"60%\" />"
   ]
  },
  {
   "cell_type": "markdown",
   "metadata": {},
   "source": [
    "### Data Frame vs Numpy Array"
   ]
  },
  {
   "cell_type": "markdown",
   "metadata": {},
   "source": [
    "#### Numpy Array\n",
    "\n",
    "<img src=\"../numpy/images/ndarray.png\" />"
   ]
  },
  {
   "cell_type": "markdown",
   "metadata": {},
   "source": [
    "#### Pandas Data Frame"
   ]
  },
  {
   "cell_type": "markdown",
   "metadata": {},
   "source": [
    "<img src=\"./img/df_inside_numpy.png\" width=\"70%\" />"
   ]
  },
  {
   "cell_type": "code",
   "execution_count": null,
   "metadata": {},
   "outputs": [],
   "source": []
  }
 ],
 "metadata": {
  "kernelspec": {
   "display_name": "Python 3 (ipykernel)",
   "language": "python",
   "name": "python3"
  },
  "language_info": {
   "codemirror_mode": {
    "name": "ipython",
    "version": 3
   },
   "file_extension": ".py",
   "mimetype": "text/x-python",
   "name": "python",
   "nbconvert_exporter": "python",
   "pygments_lexer": "ipython3",
   "version": "3.9.7"
  }
 },
 "nbformat": 4,
 "nbformat_minor": 4
}
