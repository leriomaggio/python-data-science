{
 "cells": [
  {
   "cell_type": "raw",
   "id": "cc211f50-80da-452c-922b-4e6a31888335",
   "metadata": {},
   "source": [
    "asdasdasdasd  RAW TEXT"
   ]
  },
  {
   "cell_type": "code",
   "execution_count": 1,
   "id": "2f78e7a3-6655-4144-9e87-2e84e8e41715",
   "metadata": {},
   "outputs": [
    {
     "ename": "NameError",
     "evalue": "name 'sasdasd' is not defined",
     "output_type": "error",
     "traceback": [
      "\u001b[0;31m---------------------------------------------------------------------------\u001b[0m",
      "\u001b[0;31mNameError\u001b[0m                                 Traceback (most recent call last)",
      "\u001b[0;32m/var/folders/16/xdrp9d8s5510rt6fwr4j6llr0000gn/T/ipykernel_3657/3841536159.py\u001b[0m in \u001b[0;36m<module>\u001b[0;34m\u001b[0m\n\u001b[0;32m----> 1\u001b[0;31m \u001b[0msasdasd\u001b[0m\u001b[0;34m\u001b[0m\u001b[0;34m\u001b[0m\u001b[0m\n\u001b[0m",
      "\u001b[0;31mNameError\u001b[0m: name 'sasdasd' is not defined"
     ]
    }
   ],
   "source": [
    "sasdasd"
   ]
  },
  {
   "cell_type": "markdown",
   "id": "55ad43ac-1a9c-46de-acb7-74322d7c351e",
   "metadata": {},
   "source": [
    "# header h1\n",
    "## header h2\n",
    "### header h3"
   ]
  },
  {
   "cell_type": "markdown",
   "id": "4233abff-3a89-4868-b9e8-b142180fb11e",
   "metadata": {},
   "source": [
    "- first item\n",
    "- second item\n",
    "     * second first\n",
    "     * second second\n",
    "- third item\n",
    "\n",
    "this is normal text \n"
   ]
  },
  {
   "cell_type": "markdown",
   "id": "bebd3938-e2fe-4a52-9482-5bf61e66dd1f",
   "metadata": {},
   "source": [
    "**this is a bold text**\n",
    "\n",
    "*this is italic*\n",
    "\n",
    "`this is monospace`"
   ]
  },
  {
   "cell_type": "markdown",
   "id": "5af5fd1c-c15c-4a1b-b3cd-e7065af00313",
   "metadata": {},
   "source": [
    "```python\n",
    "\n",
    "for (int i =0; i < 10; i++){\n",
    "    printf(i);\n",
    "}\n",
    "\n",
    "```"
   ]
  },
  {
   "cell_type": "markdown",
   "id": "53a7601b-42a6-4c8e-9378-39d04ce0a47e",
   "metadata": {},
   "source": [
    "$ \\alpha = \\sum_{i=0}^{N} x^2$"
   ]
  },
  {
   "cell_type": "markdown",
   "id": "736d9d9d-9bb9-4c79-a061-ba7fa865d913",
   "metadata": {},
   "source": [
    "### Keyboard shortcuts to remember"
   ]
  },
  {
   "cell_type": "raw",
   "id": "f04b61c3-426c-484f-8c9d-c722d8e793c8",
   "metadata": {},
   "source": [
    "add new cell above: ESC ; A\n",
    "add new cell below: ESC ; B\n",
    "del a cell (ViM style): ESC ; DD\n",
    "\n",
    "Run a cell: Shift+Enter"
   ]
  },
  {
   "cell_type": "code",
   "execution_count": null,
   "id": "e75e6d6d-da39-4ed7-8b05-8b63d7ab2ff5",
   "metadata": {},
   "outputs": [],
   "source": []
  }
 ],
 "metadata": {
  "kernelspec": {
   "display_name": "Python 3 (ipykernel)",
   "language": "python",
   "name": "python3"
  },
  "language_info": {
   "codemirror_mode": {
    "name": "ipython",
    "version": 3
   },
   "file_extension": ".py",
   "mimetype": "text/x-python",
   "name": "python",
   "nbconvert_exporter": "python",
   "pygments_lexer": "ipython3",
   "version": "3.9.7"
  }
 },
 "nbformat": 4,
 "nbformat_minor": 5
}
