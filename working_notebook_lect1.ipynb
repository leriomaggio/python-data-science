{
 "cells": [
  {
   "cell_type": "markdown",
   "id": "8ab55536-1c75-4728-8a58-a7a66dc3d7db",
   "metadata": {},
   "source": [
    "# Working Notebook\n",
    "\n",
    "Welcome to the _Programming with Python_ course! We will be using this notebook to go through the lecture materials, as well as to work _together_ on practical examples and exercises."
   ]
  },
  {
   "cell_type": "markdown",
   "id": "8376b782-cfd1-48d8-91db-1d53565675cf",
   "metadata": {},
   "source": [
    "## first thing: let's familiarise with the environment\n",
    "\n",
    "Let's talk about **Jupyter Notebooks** for a second."
   ]
  },
  {
   "cell_type": "code",
   "execution_count": null,
   "id": "f53bb072-e218-492a-bef6-e6d78dc9ffdf",
   "metadata": {},
   "outputs": [],
   "source": [
    "# code cell"
   ]
  },
  {
   "cell_type": "markdown",
   "id": "39a01f33-d622-4c65-a545-ed1b6daebbbe",
   "metadata": {},
   "source": [
    "Text Cell"
   ]
  },
  {
   "cell_type": "code",
   "execution_count": null,
   "id": "f0b90233-2a73-46a4-9717-9a68c365be69",
   "metadata": {},
   "outputs": [],
   "source": []
  },
  {
   "cell_type": "code",
   "execution_count": null,
   "id": "060f82c9-e4b8-45e8-b05c-2f969447fb61",
   "metadata": {},
   "outputs": [],
   "source": []
  },
  {
   "cell_type": "code",
   "execution_count": null,
   "id": "fd36f8e1-5b40-411f-beb7-5e6a3e3d47e7",
   "metadata": {},
   "outputs": [],
   "source": []
  },
  {
   "cell_type": "markdown",
   "id": "05bf6893-81bf-4863-a024-b029dad9614a",
   "metadata": {},
   "source": [
    "---"
   ]
  },
  {
   "cell_type": "markdown",
   "id": "8a59ce6b-9cdc-4009-a6c3-f453a8ed00ae",
   "metadata": {},
   "source": [
    "$\\rightarrow$ _Adapted from_ : [**Software Carpentries: Programming with Python**]()\n",
    "\n",
    "## Arthritis Inflammation\n",
    "We are studying **inflammation in patients** who have been given a new treatment for arthritis.\n",
    "\n",
    "There are `60` patients, who had their inflammation levels recorded for `40` days.\n",
    "We want to analyze these recordings to study the effect of the new arthritis treatment.\n",
    "\n",
    "To see how the treatment is affecting the patients in general, we would like to:\n",
    "\n",
    "1. Process the file to extract data for each patient;\n",
    "2. Calculate some statistics on each patient;\n",
    "    - e.g. average inflammation over the `40` days (or `min`, `max` .. and so on)\n",
    "    - e.g average statistics per week (we will assume `40` days account for `5` weeks)\n",
    "    - `...` (open to ideas)\n",
    "3. Calculate some statistics on the dataset.\n",
    "    - e.g. min and max inflammation registered overall in the clinical study;\n",
    "    - e.g. the average inflammation per day across all patients.\n",
    "    - `...` (open to ideas)\n",
    "\n",
    "\n",
    "![3-step flowchart shows inflammation data records for patients moving to the Analysis step\n",
    "where a heat map of provided data is generated moving to the Conclusion step that asks the\n",
    "question, How does the medication affect patients?](\n",
    "https://raw.githubusercontent.com/swcarpentry/python-novice-inflammation/gh-pages/fig/lesson-overview.svg \"Lesson Overview\")\n",
    "\n",
    "\n",
    "### Data Format\n",
    "\n",
    "The data sets are stored in\n",
    "[comma-separated values] (CSV) format:\n",
    "\n",
    "- each row holds information for a single patient,\n",
    "- columns represent successive days.\n",
    "\n",
    "The first three rows of our first file look like this:\n",
    "~~~\n",
    "0,0,1,3,1,2,4,7,8,3,3,3,10,5,7,4,7,7,12,18,6,13,11,11,7,7,4,6,8,8,4,4,5,7,3,4,2,3,0,0\n",
    "0,1,2,1,2,1,3,2,2,6,10,11,5,9,4,4,7,16,8,6,18,4,12,5,12,7,11,5,11,3,3,5,4,4,5,5,1,1,0,1\n",
    "0,1,1,3,3,2,6,2,5,9,5,7,4,5,4,15,5,11,9,10,19,14,12,17,7,12,11,7,4,2,10,5,4,2,2,3,2,2,1,1\n",
    "~~~\n",
    "\n",
    "Each number represents the number of inflammation bouts that a particular patient experienced on a\n",
    "given day.\n",
    "\n",
    "For example, value \"6\" at row 3 column 7 of the data set above means that the third\n",
    "patient was experiencing inflammation six times on the seventh day of the clinical study.\n",
    "\n",
    "Our **task** is to gather as much information as possible from the dataset, and to report back to colleagues to foster future discussions."
   ]
  },
  {
   "cell_type": "markdown",
   "id": "31f65289-4826-49db-b213-5152e363f9db",
   "metadata": {},
   "source": [
    "### Let'make a plan\n",
    "\n",
    "- Problem description (step by step) in NATURAL LANGUAGE (**strict rule**) - imagine you're explaining this to someone who doesn't know **anything** about programming.\n",
    "- What do we need to start\n",
    "- Where do we start"
   ]
  },
  {
   "cell_type": "markdown",
   "id": "b8cbf967-33d1-4f24-a5de-d680787245a8",
   "metadata": {},
   "source": [
    "I'll go first - let's create a dummy file to practice named dummy, three rows, 7 values\n",
    "\n",
    "1. read the file\n",
    "    - read the file one line at a time\n",
    "2. store the data from the file into a data structure or format"
   ]
  },
  {
   "cell_type": "code",
   "execution_count": 1,
   "id": "6cf6afcb-d86e-47de-b9f8-4a088e95392f",
   "metadata": {},
   "outputs": [],
   "source": [
    "dummy_datafile = open(\"dummy.csv\")"
   ]
  },
  {
   "cell_type": "code",
   "execution_count": 2,
   "id": "0b4c4c53-9451-455a-806b-52561209b644",
   "metadata": {},
   "outputs": [],
   "source": [
    "patients = [] # list()\n",
    "\n",
    "for line in dummy_datafile:\n",
    "    patients.append(line)"
   ]
  },
  {
   "cell_type": "code",
   "execution_count": 3,
   "id": "87cc51c4-1da4-404c-a15e-80705dbc6fae",
   "metadata": {},
   "outputs": [
    {
     "name": "stdout",
     "output_type": "stream",
     "text": [
      "['0,0,1,3,1,2,4\\n', '0,1,2,1,2,1,3\\n', '0,1,1,3,3,2,6']\n"
     ]
    }
   ],
   "source": [
    "print(patients)"
   ]
  },
  {
   "cell_type": "markdown",
   "id": "7bd86369-ec6b-4623-b32b-d27b280591dc",
   "metadata": {},
   "source": [
    "### Small Diversion about **Python Typing Mechanism**"
   ]
  },
  {
   "cell_type": "markdown",
   "id": "18f96423-02b0-44c6-9e95-a92d4a7e4e43",
   "metadata": {},
   "source": [
    "1. Python typing is _dynamic_ (as opposed to _static_): each variable gets its type by the value it's been assigned to. No need to declare a type for a variable. \n",
    "\n",
    "2. Python typing is _strong_ (as opposed to _weak_): the type of each variable will always remain the same, unless the variable is re-defined, or explicitly casted to another compatible type!"
   ]
  },
  {
   "cell_type": "code",
   "execution_count": 4,
   "id": "b2d0e12d-3ee6-478f-a855-7bd559e69a6d",
   "metadata": {},
   "outputs": [],
   "source": [
    "name = \"valerio\""
   ]
  },
  {
   "cell_type": "code",
   "execution_count": 5,
   "id": "3378572c-4dec-4425-915a-fa9247a99eb1",
   "metadata": {},
   "outputs": [
    {
     "data": {
      "text/plain": [
       "str"
      ]
     },
     "execution_count": 5,
     "metadata": {},
     "output_type": "execute_result"
    }
   ],
   "source": [
    "type(name)"
   ]
  },
  {
   "cell_type": "code",
   "execution_count": 6,
   "id": "f34b0f6a-2ddf-4fb9-b908-ee1d4cfb4f74",
   "metadata": {},
   "outputs": [
    {
     "ename": "TypeError",
     "evalue": "unsupported operand type(s) for /: 'str' and 'int'",
     "output_type": "error",
     "traceback": [
      "\u001b[0;31m---------------------------------------------------------------------------\u001b[0m",
      "\u001b[0;31mTypeError\u001b[0m                                 Traceback (most recent call last)",
      "\u001b[0;32m/var/folders/16/xdrp9d8s5510rt6fwr4j6llr0000gn/T/ipykernel_19982/540525867.py\u001b[0m in \u001b[0;36m<module>\u001b[0;34m\u001b[0m\n\u001b[0;32m----> 1\u001b[0;31m \u001b[0mname\u001b[0m \u001b[0;34m/\u001b[0m \u001b[0;36m2\u001b[0m\u001b[0;34m\u001b[0m\u001b[0;34m\u001b[0m\u001b[0m\n\u001b[0m",
      "\u001b[0;31mTypeError\u001b[0m: unsupported operand type(s) for /: 'str' and 'int'"
     ]
    }
   ],
   "source": [
    "name / 2"
   ]
  },
  {
   "cell_type": "code",
   "execution_count": 7,
   "id": "bffe4f2d-61d7-485d-b9c3-e83a6ff3354c",
   "metadata": {},
   "outputs": [
    {
     "ename": "TypeError",
     "evalue": "can't multiply sequence by non-int of type 'str'",
     "output_type": "error",
     "traceback": [
      "\u001b[0;31m---------------------------------------------------------------------------\u001b[0m",
      "\u001b[0;31mTypeError\u001b[0m                                 Traceback (most recent call last)",
      "\u001b[0;32m/var/folders/16/xdrp9d8s5510rt6fwr4j6llr0000gn/T/ipykernel_19982/3561827814.py\u001b[0m in \u001b[0;36m<module>\u001b[0;34m\u001b[0m\n\u001b[0;32m----> 1\u001b[0;31m \u001b[0mname\u001b[0m \u001b[0;34m*\u001b[0m \u001b[0;34m\"maggio\"\u001b[0m\u001b[0;34m\u001b[0m\u001b[0;34m\u001b[0m\u001b[0m\n\u001b[0m",
      "\u001b[0;31mTypeError\u001b[0m: can't multiply sequence by non-int of type 'str'"
     ]
    }
   ],
   "source": [
    "name * \"maggio\""
   ]
  },
  {
   "cell_type": "code",
   "execution_count": 8,
   "id": "ab1a6760-b666-40e0-a049-dd9a61e5922f",
   "metadata": {},
   "outputs": [],
   "source": [
    "name = 2"
   ]
  },
  {
   "cell_type": "markdown",
   "id": "7dccc182-b105-40bb-b115-846bbf078f2f",
   "metadata": {},
   "source": [
    "#### Going back to our Data case"
   ]
  },
  {
   "cell_type": "code",
   "execution_count": 9,
   "id": "83f71ca3-14ec-4a00-b0e9-88ba1a9e5748",
   "metadata": {},
   "outputs": [
    {
     "data": {
      "text/plain": [
       "['0,0,1,3,1,2,4\\n', '0,1,2,1,2,1,3\\n', '0,1,1,3,3,2,6']"
      ]
     },
     "execution_count": 9,
     "metadata": {},
     "output_type": "execute_result"
    }
   ],
   "source": [
    "patients"
   ]
  },
  {
   "cell_type": "code",
   "execution_count": 10,
   "id": "a75846a5-c0f6-49c9-ace5-b1f364e4846b",
   "metadata": {},
   "outputs": [
    {
     "name": "stdout",
     "output_type": "stream",
     "text": [
      "Patient info: 0,0,1,3,1,2,4\n",
      "\n",
      "Patient info: 0,1,2,1,2,1,3\n",
      "\n",
      "Patient info: 0,1,1,3,3,2,6\n"
     ]
    }
   ],
   "source": [
    "for patient in patients:\n",
    "    print(\"Patient info: \" + patient)"
   ]
  },
  {
   "cell_type": "markdown",
   "id": "aa16a789-4cca-4ca5-b232-5d67ffedc296",
   "metadata": {},
   "source": [
    "### Storing the data from file in a better format:"
   ]
  },
  {
   "cell_type": "code",
   "execution_count": 1,
   "id": "ca3540e5-80bc-43ae-9dac-9f3b9760b095",
   "metadata": {},
   "outputs": [
    {
     "ename": "NameError",
     "evalue": "name 'dummy_datafile' is not defined",
     "output_type": "error",
     "traceback": [
      "\u001b[0;31m---------------------------------------------------------------------------\u001b[0m",
      "\u001b[0;31mNameError\u001b[0m                                 Traceback (most recent call last)",
      "\u001b[0;32m/var/folders/16/xdrp9d8s5510rt6fwr4j6llr0000gn/T/ipykernel_18805/2613692621.py\u001b[0m in \u001b[0;36m<module>\u001b[0;34m\u001b[0m\n\u001b[0;32m----> 1\u001b[0;31m \u001b[0mdummy_datafile\u001b[0m\u001b[0;34m.\u001b[0m\u001b[0mclose\u001b[0m\u001b[0;34m(\u001b[0m\u001b[0;34m)\u001b[0m  \u001b[0;31m# first we need to close the file handler previously opened, otherwise the buffer has been read already and there's nothing else to read.\u001b[0m\u001b[0;34m\u001b[0m\u001b[0;34m\u001b[0m\u001b[0m\n\u001b[0m",
      "\u001b[0;31mNameError\u001b[0m: name 'dummy_datafile' is not defined"
     ]
    }
   ],
   "source": [
    "dummy_datafile.close()  # first we need to close the file handler previously opened, otherwise the buffer has been read already and there's nothing else to read."
   ]
  },
  {
   "cell_type": "code",
   "execution_count": 12,
   "id": "60493a2b-6a43-45d6-b67c-6bfd967211c5",
   "metadata": {},
   "outputs": [],
   "source": [
    "patients = []\n",
    "\n",
    "with open(\"dummy.csv\") as dummy_datafile:\n",
    "    for line in dummy_datafile:\n",
    "        line = line.strip()\n",
    "        if (len(line) == 0):\n",
    "            continue\n",
    "        inflammation_data = line.split(\",\")\n",
    "        patients.append(inflammation_data)\n",
    "        "
   ]
  },
  {
   "cell_type": "code",
   "execution_count": 13,
   "id": "25285a44-dd0c-41a5-a7cc-3e22f74b0a5b",
   "metadata": {},
   "outputs": [
    {
     "data": {
      "text/plain": [
       "[['0', '0', '1', '3', '1', '2', '4'],\n",
       " ['0', '1', '2', '1', '2', '1', '3'],\n",
       " ['0', '1', '1', '3', '3', '2', '6']]"
      ]
     },
     "execution_count": 13,
     "metadata": {},
     "output_type": "execute_result"
    }
   ],
   "source": [
    "patients"
   ]
  },
  {
   "cell_type": "markdown",
   "id": "8772ca9b-80a6-4794-8039-654e0294450d",
   "metadata": {},
   "source": [
    "Play with what we have so far: iteration"
   ]
  },
  {
   "cell_type": "code",
   "execution_count": 14,
   "id": "38f35ae1-ce44-47f5-9265-2f32ec3bfad1",
   "metadata": {},
   "outputs": [
    {
     "name": "stdout",
     "output_type": "stream",
     "text": [
      "<class 'list'>\n",
      "<class 'list'>\n",
      "<class 'list'>\n"
     ]
    }
   ],
   "source": [
    "for patient in patients:\n",
    "    print(type(patient))"
   ]
  },
  {
   "cell_type": "code",
   "execution_count": 15,
   "id": "1e200c2d-49de-4e82-a919-78eef3e68d2b",
   "metadata": {},
   "outputs": [
    {
     "data": {
      "text/plain": [
       "'0'"
      ]
     },
     "execution_count": 15,
     "metadata": {},
     "output_type": "execute_result"
    }
   ],
   "source": [
    "patients[0][0]"
   ]
  },
  {
   "cell_type": "code",
   "execution_count": 20,
   "id": "ca5b76db-ae95-47bf-9303-4a72d04632cb",
   "metadata": {},
   "outputs": [
    {
     "data": {
      "text/plain": [
       "['0', '1', '1']"
      ]
     },
     "execution_count": 20,
     "metadata": {},
     "output_type": "execute_result"
    }
   ],
   "source": [
    "patients[2][:3]"
   ]
  },
  {
   "cell_type": "markdown",
   "id": "68e0ce79-78ee-40a6-b8e0-eef3ff3ec819",
   "metadata": {},
   "source": [
    "(_fancy word_) **Slicing**"
   ]
  },
  {
   "cell_type": "markdown",
   "id": "b17eb294-bd53-4489-9138-10a84e17bf08",
   "metadata": {},
   "source": [
    "![slicing example](https://swcarpentry.github.io/python-novice-inflammation/fig/python-zero-index.svg)"
   ]
  },
  {
   "cell_type": "markdown",
   "id": "712bb90e-c2f9-4f22-be2b-65afc16400a4",
   "metadata": {},
   "source": [
    "Source: [Software Carpentries](https://swcarpentry.github.io/python-novice-inflammation/02-numpy/index.html)"
   ]
  },
  {
   "cell_type": "code",
   "execution_count": null,
   "id": "868a1b97-f825-488a-bf3a-984949111895",
   "metadata": {},
   "outputs": [],
   "source": []
  },
  {
   "cell_type": "code",
   "execution_count": null,
   "id": "61b2cb3c-9686-434c-8eba-efffd0cae647",
   "metadata": {},
   "outputs": [],
   "source": []
  },
  {
   "cell_type": "markdown",
   "id": "a947bde6-c61a-4aef-b1af-a9e6b31d33ce",
   "metadata": {},
   "source": [
    "Now let's move to the _real_ data file: **how can we re-use the same algorithm?**"
   ]
  },
  {
   "cell_type": "code",
   "execution_count": 21,
   "id": "6866f778-3b98-4114-8bbb-8764eccf0c1c",
   "metadata": {},
   "outputs": [],
   "source": [
    "def process_inflammation_data(datafile_path : str) -> list:\n",
    "    \n",
    "    patients = []\n",
    "    with open(datafile_path) as datafile:\n",
    "        for line in datafile:\n",
    "            line = line.strip()\n",
    "            if not line:  ## line is empty line\n",
    "                continue\n",
    "            patient_data = []\n",
    "            for value in line.split(\",\"):\n",
    "                patient_data.append(int(value))\n",
    "            patients.append(patient_data)\n",
    "            \n",
    "    return patients"
   ]
  },
  {
   "cell_type": "code",
   "execution_count": 22,
   "id": "84e9f8df-5a87-47f8-8fcb-e22e951e52d6",
   "metadata": {},
   "outputs": [
    {
     "data": {
      "text/plain": [
       "[[0, 0, 1, 3, 1, 2, 4], [0, 1, 2, 1, 2, 1, 3], [0, 1, 1, 3, 3, 2, 6]]"
      ]
     },
     "execution_count": 22,
     "metadata": {},
     "output_type": "execute_result"
    }
   ],
   "source": [
    "process_inflammation_data(\"dummy.csv\")"
   ]
  },
  {
   "cell_type": "markdown",
   "id": "c6f34a5d-3bc7-47a2-bb31-4272970e5299",
   "metadata": {},
   "source": [
    "_now we have 60 patiens to deal with_ - how can we do that?"
   ]
  },
  {
   "cell_type": "code",
   "execution_count": null,
   "id": "257289a9-adfd-462c-9731-0971255fd016",
   "metadata": {},
   "outputs": [],
   "source": []
  },
  {
   "cell_type": "code",
   "execution_count": null,
   "id": "4df67359-ea08-40ff-8b79-d077aa117de0",
   "metadata": {},
   "outputs": [],
   "source": []
  },
  {
   "cell_type": "markdown",
   "id": "7545c8de-4946-47e4-868d-51e3f05eb8fa",
   "metadata": {},
   "source": [
    "What if we also add in a reference ID for each patient? (see `data/inflammation02.csv`)"
   ]
  },
  {
   "cell_type": "code",
   "execution_count": null,
   "id": "401d50af-6438-4dc0-ac94-712cefb201c8",
   "metadata": {},
   "outputs": [],
   "source": []
  },
  {
   "cell_type": "code",
   "execution_count": null,
   "id": "6138dbb3-7226-4bf0-a422-7d050b3f8784",
   "metadata": {},
   "outputs": [],
   "source": []
  },
  {
   "cell_type": "markdown",
   "id": "f2643109-a925-49f3-a80e-a830b5a99f23",
   "metadata": {},
   "source": [
    "Let's practice with our new data structure"
   ]
  },
  {
   "cell_type": "code",
   "execution_count": null,
   "id": "4f03168d-d223-487a-a73c-40e05a40da76",
   "metadata": {},
   "outputs": [],
   "source": []
  },
  {
   "cell_type": "code",
   "execution_count": null,
   "id": "efe6dab4-fbd9-4b20-baa9-897fdf52dc7a",
   "metadata": {},
   "outputs": [],
   "source": []
  },
  {
   "cell_type": "code",
   "execution_count": null,
   "id": "d658d0c1-a451-4a5a-96e3-c0bc56c90431",
   "metadata": {},
   "outputs": [],
   "source": []
  },
  {
   "cell_type": "markdown",
   "id": "ae5424a8-53d5-4a0f-9a28-9fa1b8714777",
   "metadata": {},
   "source": [
    "Let's get on with the _real deal_ : let's gather some statistics!"
   ]
  },
  {
   "cell_type": "code",
   "execution_count": null,
   "id": "1ba867f5-daf0-415b-8a65-6178fa74a8f8",
   "metadata": {},
   "outputs": [],
   "source": []
  },
  {
   "cell_type": "code",
   "execution_count": null,
   "id": "c7c221bf-62c9-4640-a1e9-18ac0bdfb263",
   "metadata": {},
   "outputs": [],
   "source": []
  },
  {
   "cell_type": "code",
   "execution_count": null,
   "id": "bded191e-e0aa-4406-934c-4873de21e3b9",
   "metadata": {},
   "outputs": [],
   "source": []
  },
  {
   "cell_type": "code",
   "execution_count": null,
   "id": "c94458ea-bf76-41ab-93a6-949f40fbc10d",
   "metadata": {},
   "outputs": [],
   "source": []
  },
  {
   "cell_type": "code",
   "execution_count": null,
   "id": "d234ec24-3e1b-4408-bffd-f74634967ae6",
   "metadata": {},
   "outputs": [],
   "source": []
  },
  {
   "cell_type": "markdown",
   "id": "3b736e26-d4b7-459d-9ae5-ed011c932431",
   "metadata": {},
   "source": [
    "--- \n",
    "\n",
    "Well done for reaching this point! 🎉"
   ]
  },
  {
   "cell_type": "markdown",
   "id": "05c243c2-9f8e-4c3a-9c25-b5d81d8da3d8",
   "metadata": {},
   "source": [
    "**GREAT TIME FOR A BREAK NOW!** ☕️🧁🍪"
   ]
  },
  {
   "cell_type": "markdown",
   "id": "fe0323ce-2e9c-401e-93cb-cc1f4c548f79",
   "metadata": {},
   "source": [
    "---\n"
   ]
  },
  {
   "cell_type": "markdown",
   "id": "efb36e5f-ffbf-45d4-9406-2a04bb7a8e93",
   "metadata": {},
   "source": [
    "Dealing with more _realistic cases_ ❌"
   ]
  },
  {
   "cell_type": "code",
   "execution_count": null,
   "id": "8947d4c0-2eed-4fa9-8628-fd241b7aa30c",
   "metadata": {},
   "outputs": [],
   "source": []
  },
  {
   "cell_type": "code",
   "execution_count": null,
   "id": "4616e282-b58e-456e-a3e4-f304b0801be1",
   "metadata": {},
   "outputs": [],
   "source": []
  },
  {
   "cell_type": "code",
   "execution_count": null,
   "id": "e2c5dfd8-1d96-42a7-b04c-989c4e967ad7",
   "metadata": {},
   "outputs": [],
   "source": []
  },
  {
   "cell_type": "markdown",
   "id": "372f3ea2-a9c3-4677-9abc-c85f72e67a3f",
   "metadata": {},
   "source": [
    "Putting our helmets on (_with some testing_) ⛑"
   ]
  },
  {
   "cell_type": "code",
   "execution_count": null,
   "id": "1576ca52-cb1f-4fb8-b7d7-007c8d9921a0",
   "metadata": {},
   "outputs": [],
   "source": []
  },
  {
   "cell_type": "code",
   "execution_count": null,
   "id": "167454f9-57b7-4ffc-bb02-3dc369ba7a7e",
   "metadata": {},
   "outputs": [],
   "source": []
  },
  {
   "cell_type": "code",
   "execution_count": null,
   "id": "f2d68ada-bae5-4cb1-b889-c7590e323498",
   "metadata": {},
   "outputs": [],
   "source": []
  },
  {
   "cell_type": "markdown",
   "id": "5f661261-c368-4978-99cf-aed9253a1209",
   "metadata": {},
   "source": [
    "Now it's time to rethink about our Data (Abstractions): let's define our own **new type**!"
   ]
  },
  {
   "cell_type": "code",
   "execution_count": null,
   "id": "f32e649c-7e9c-4f6d-beda-0c32ef7704cf",
   "metadata": {},
   "outputs": [],
   "source": []
  },
  {
   "cell_type": "code",
   "execution_count": null,
   "id": "e9a8be34-50f3-4eff-b908-5d07504af535",
   "metadata": {},
   "outputs": [],
   "source": []
  },
  {
   "cell_type": "code",
   "execution_count": null,
   "id": "9dc9a5bd-dd82-4a01-8aa4-1f309f729f1c",
   "metadata": {},
   "outputs": [],
   "source": []
  },
  {
   "cell_type": "code",
   "execution_count": null,
   "id": "841d13aa-ebda-48fd-93f3-a09ea2b16484",
   "metadata": {},
   "outputs": [],
   "source": []
  },
  {
   "cell_type": "code",
   "execution_count": null,
   "id": "2d9c8e33-edd2-4d39-81af-9b9807f1a77d",
   "metadata": {},
   "outputs": [],
   "source": []
  }
 ],
 "metadata": {
  "kernelspec": {
   "display_name": "Python 3 (ipykernel)",
   "language": "python",
   "name": "python3"
  },
  "language_info": {
   "codemirror_mode": {
    "name": "ipython",
    "version": 3
   },
   "file_extension": ".py",
   "mimetype": "text/x-python",
   "name": "python",
   "nbconvert_exporter": "python",
   "pygments_lexer": "ipython3",
   "version": "3.9.7"
  }
 },
 "nbformat": 4,
 "nbformat_minor": 5
}
