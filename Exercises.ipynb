{
 "cells": [
  {
   "cell_type": "markdown",
   "id": "7c60b622-9fca-4b68-8ec5-25dcd8e3d505",
   "metadata": {},
   "source": [
    "# Exercises Lect 1"
   ]
  },
  {
   "cell_type": "markdown",
   "id": "ca8293d2-9b49-4432-bcf7-6307e2a8d829",
   "metadata": {},
   "source": [
    "## Before we start\n",
    "\n",
    "Please **do not modify this notebook** as it will be updated with additional exercises later on.\n",
    "\n",
    "So, _before starting to work on the exercises_, please **duplicate** this notebook into a new one and rename it as `exercises_work.ipynb`"
   ]
  },
  {
   "cell_type": "markdown",
   "id": "bcee788b-4438-47de-840e-653c78333d88",
   "metadata": {},
   "source": [
    "### Familiarise with Notebook"
   ]
  },
  {
   "cell_type": "markdown",
   "id": "2b248fb6-c978-4d8e-9bab-1137be828796",
   "metadata": {},
   "source": [
    "Look at what we did in [Markdown Notebook Showcase](./Markdown_notebook_showcase.ipynb) as a refresher."
   ]
  },
  {
   "cell_type": "code",
   "execution_count": null,
   "id": "65e23547-9b04-43d6-81db-7fe5164278b2",
   "metadata": {},
   "outputs": [],
   "source": [
    "# make the current cell a markdown cell"
   ]
  },
  {
   "cell_type": "code",
   "execution_count": null,
   "id": "f97fe553-41de-4140-af5e-a08f8cede65f",
   "metadata": {},
   "outputs": [],
   "source": [
    "# Now try to turn this into a Markdown cell using only Keyboard shortcut"
   ]
  },
  {
   "cell_type": "markdown",
   "id": "f5a87c56-c232-4fc4-973d-7731d2dac81d",
   "metadata": {},
   "source": [
    "---"
   ]
  },
  {
   "cell_type": "markdown",
   "id": "f9f6567f-65ac-4a91-bcb8-37e19e980755",
   "metadata": {},
   "source": [
    "**Add** a cell below this one, and type `well done` in it, as a Python comment\n",
    "\n",
    "Note: The cell will be by default a _code cell_, therefore you won't need to change its type.\n",
    "\n",
    "A comment in Python is marked using the `#` (`sharp`) character."
   ]
  },
  {
   "cell_type": "markdown",
   "id": "46f2607a-3dab-469e-9ee8-ab6fc64a95db",
   "metadata": {},
   "source": [
    "---"
   ]
  },
  {
   "cell_type": "markdown",
   "id": "f7cadc47-7b24-4de0-9fae-8617c337a7a2",
   "metadata": {},
   "source": [
    "Please turn the following cell into a Markdown Cell, so that the code will be displayed in `monospace`, with `syntax highlighting`"
   ]
  },
  {
   "cell_type": "code",
   "execution_count": null,
   "id": "6cd139ca-0415-4028-a754-2f13f65fabae",
   "metadata": {},
   "outputs": [],
   "source": [
    "# this is a code cell\n",
    "for i in range(10):\n",
    "    print(i)"
   ]
  },
  {
   "cell_type": "markdown",
   "id": "91e4ccca-24ab-4b5b-a6b4-6ec04e3ecadc",
   "metadata": {},
   "source": [
    "---"
   ]
  },
  {
   "cell_type": "markdown",
   "id": "6d207600-ccdf-4996-ad8c-35e733c1cf42",
   "metadata": {},
   "source": [
    "Make this text in BOLD"
   ]
  },
  {
   "cell_type": "markdown",
   "id": "58eaf9ff-1f7a-49f8-8808-3ad1fe410975",
   "metadata": {},
   "source": [
    "Turn this text in ITALIC"
   ]
  },
  {
   "cell_type": "markdown",
   "id": "eb6f24fd-d102-41c5-8639-d7633a486f43",
   "metadata": {},
   "source": [
    "---"
   ]
  },
  {
   "cell_type": "markdown",
   "id": "d3b60cec-3cb5-413b-8e4c-df043708744b",
   "metadata": {},
   "source": [
    "Create a list of items in Markdown (it can be either an _ordered_ or _unordered_ list. You choose !-)"
   ]
  },
  {
   "cell_type": "markdown",
   "id": "2bdefff8-59f2-4f65-871a-a461e887e62d",
   "metadata": {},
   "source": []
  },
  {
   "cell_type": "markdown",
   "id": "e6155f59-1bfe-49ea-96ea-0519c60ea966",
   "metadata": {},
   "source": [
    "---"
   ]
  },
  {
   "cell_type": "markdown",
   "id": "a77fa826-1686-406a-974a-31cd06b335b8",
   "metadata": {},
   "source": [
    "## Basic Python"
   ]
  },
  {
   "cell_type": "markdown",
   "id": "fa99ab1e-7a29-495e-8568-4944f8924395",
   "metadata": {},
   "source": [
    "Generate a sequence of the first `20` numbers, iterate them, and `print` them on screen. \n",
    "\n",
    "Hint: Use the `range(20)` function to generate the numbers"
   ]
  },
  {
   "cell_type": "code",
   "execution_count": null,
   "id": "b6d8cc08-bedc-4833-9ad4-6ebae4dddf40",
   "metadata": {},
   "outputs": [],
   "source": []
  },
  {
   "cell_type": "markdown",
   "id": "5d2c7728-1bd3-42c0-ba60-b5a954e31d6a",
   "metadata": {},
   "source": [
    "Create a list of `pets` (containing as many elements as you want) and `print` each item in the list"
   ]
  },
  {
   "cell_type": "code",
   "execution_count": null,
   "id": "70bbb2cb-767b-4468-91a0-bc6ee5468a40",
   "metadata": {},
   "outputs": [],
   "source": []
  },
  {
   "cell_type": "markdown",
   "id": "da8b7269-e8b0-459f-9d28-bdeb64fb4f6d",
   "metadata": {},
   "source": [
    "Given the following code:\n",
    "    \n",
    "```python \n",
    "\n",
    "stationery = [\"pen\", \"pencil\", \"glue\", \"notebook\", \"clipper\"]\n",
    "\n",
    "```\n",
    "\n",
    "1. Print the length of the list (use `len`)\n",
    "2. Iterate the list, and print each item, along with its corresponding length"
   ]
  },
  {
   "cell_type": "code",
   "execution_count": null,
   "id": "b211718c-2554-4733-a037-af0f7382c9c7",
   "metadata": {},
   "outputs": [],
   "source": []
  },
  {
   "cell_type": "markdown",
   "id": "d4149660-ad54-403f-bb18-3762c399c498",
   "metadata": {},
   "source": [
    "Repeat the previous exercise but this time with this list instead\n",
    "\n",
    "```python\n",
    "\n",
    "data_info = [\"time\", \"space\", \"age\", \"height\", \"\", \"  \", 3, 1.8]\n",
    "\n",
    "```"
   ]
  },
  {
   "cell_type": "code",
   "execution_count": null,
   "id": "6cfa4891-1205-44bd-9bcb-da39656fe970",
   "metadata": {},
   "outputs": [],
   "source": []
  },
  {
   "cell_type": "markdown",
   "id": "cc4437c0-eff8-4f25-bd94-8f8665f481de",
   "metadata": {},
   "source": [
    "Copy the following code into the cell below, and FIX it to make it running without errors:\n",
    "\n",
    "```python\n",
    "\n",
    "dummy_data = \"\"\n",
    "\n",
    "with open(\"dummy.csv\") as f:\n",
    "    \n",
    "for l in dummy_file:\n",
    "    line = line.strip()\n",
    "    \n",
    "dummy_data.append(line)\n",
    "\n",
    "print(dummy)\n",
    "```"
   ]
  },
  {
   "cell_type": "code",
   "execution_count": null,
   "id": "1b625548-bfde-4402-a1e1-9b89158c1e53",
   "metadata": {},
   "outputs": [],
   "source": []
  }
 ],
 "metadata": {
  "kernelspec": {
   "display_name": "Python 3 (ipykernel)",
   "language": "python",
   "name": "python3"
  },
  "language_info": {
   "codemirror_mode": {
    "name": "ipython",
    "version": 3
   },
   "file_extension": ".py",
   "mimetype": "text/x-python",
   "name": "python",
   "nbconvert_exporter": "python",
   "pygments_lexer": "ipython3",
   "version": "3.9.7"
  }
 },
 "nbformat": 4,
 "nbformat_minor": 5
}
