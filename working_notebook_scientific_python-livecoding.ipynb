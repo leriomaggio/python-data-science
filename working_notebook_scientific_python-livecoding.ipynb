{
 "cells": [
  {
   "cell_type": "markdown",
   "id": "d1eb9cff-8082-49d7-b5db-8006b476df93",
   "metadata": {
    "tags": []
   },
   "source": [
    "### Intro to Scientific Python Ecosystem"
   ]
  },
  {
   "cell_type": "code",
   "execution_count": 1,
   "id": "f0b90233-2a73-46a4-9717-9a68c365be69",
   "metadata": {},
   "outputs": [],
   "source": [
    "import numpy as np"
   ]
  },
  {
   "cell_type": "code",
   "execution_count": 2,
   "id": "b6d27f88-0a85-4498-8ee0-f82eb7f0c90b",
   "metadata": {},
   "outputs": [
    {
     "name": "stdout",
     "output_type": "stream",
     "text": [
      "0,0,1,3,1,2,4\n",
      "0,1,2,1,2,1,3\n",
      "0,1,1,3,3,2,6"
     ]
    }
   ],
   "source": [
    "!head dummy.csv"
   ]
  },
  {
   "cell_type": "markdown",
   "id": "e5453327-3699-47b0-acc1-8d623c33581f",
   "metadata": {},
   "source": [
    "Read dummy dataset with numpy"
   ]
  },
  {
   "cell_type": "code",
   "execution_count": null,
   "id": "dc6b43b5-c1f3-4b98-ba52-6f0dfd7068d0",
   "metadata": {},
   "outputs": [],
   "source": [
    "np.loadtxt?"
   ]
  },
  {
   "cell_type": "code",
   "execution_count": 6,
   "id": "366c480b-c21e-4cce-8d5c-444841b98fe3",
   "metadata": {},
   "outputs": [],
   "source": [
    "import os\n",
    "from pathlib import Path\n",
    "\n",
    "\n",
    "BASE_FOLDER = Path(os.path.abspath(os.path.curdir))\n",
    "DATA_FOLDER = BASE_FOLDER / \"data\""
   ]
  },
  {
   "cell_type": "code",
   "execution_count": 7,
   "id": "b6bc96ae-f431-4c94-948e-8072eff83b4e",
   "metadata": {},
   "outputs": [],
   "source": [
    "dummy_data = np.loadtxt(\"dummy.csv\", delimiter=\",\")"
   ]
  },
  {
   "cell_type": "markdown",
   "id": "13a49539-cb86-47a5-8a18-b62bb4c94731",
   "metadata": {},
   "source": [
    "Playing with Attribute of `ndarray`"
   ]
  },
  {
   "cell_type": "code",
   "execution_count": 8,
   "id": "8ce3997c-f047-4906-a904-d1f6c82f1d9b",
   "metadata": {},
   "outputs": [
    {
     "data": {
      "text/plain": [
       "numpy.ndarray"
      ]
     },
     "execution_count": 8,
     "metadata": {},
     "output_type": "execute_result"
    }
   ],
   "source": [
    "type(dummy_data)"
   ]
  },
  {
   "cell_type": "code",
   "execution_count": 9,
   "id": "b38f0a87-17dd-49bf-a0b1-2e3617d85a44",
   "metadata": {},
   "outputs": [
    {
     "data": {
      "text/plain": [
       "(3, 7)"
      ]
     },
     "execution_count": 9,
     "metadata": {},
     "output_type": "execute_result"
    }
   ],
   "source": [
    "dummy_data.shape"
   ]
  },
  {
   "cell_type": "code",
   "execution_count": 10,
   "id": "129a52cc-8141-4b27-bf5a-8eeba66b70a7",
   "metadata": {},
   "outputs": [
    {
     "data": {
      "text/plain": [
       "dtype('float64')"
      ]
     },
     "execution_count": 10,
     "metadata": {},
     "output_type": "execute_result"
    }
   ],
   "source": [
    "dummy_data.dtype"
   ]
  },
  {
   "cell_type": "code",
   "execution_count": 11,
   "id": "30ac400c-f076-4a23-96e0-d6c26b9b6be1",
   "metadata": {},
   "outputs": [
    {
     "data": {
      "text/plain": [
       "array([[0., 0., 1., 3., 1., 2., 4.],\n",
       "       [0., 1., 2., 1., 2., 1., 3.],\n",
       "       [0., 1., 1., 3., 3., 2., 6.]])"
      ]
     },
     "execution_count": 11,
     "metadata": {},
     "output_type": "execute_result"
    }
   ],
   "source": [
    "dummy_data"
   ]
  },
  {
   "cell_type": "code",
   "execution_count": 12,
   "id": "510d7a43-8706-488e-9532-d209a5aca162",
   "metadata": {},
   "outputs": [],
   "source": [
    "dummy_data = np.loadtxt(\"dummy.csv\", delimiter=\",\", dtype=np.int32)"
   ]
  },
  {
   "cell_type": "code",
   "execution_count": 13,
   "id": "e0c385b9-63a1-4e11-8686-2262ba31243c",
   "metadata": {},
   "outputs": [
    {
     "data": {
      "text/plain": [
       "dtype('int32')"
      ]
     },
     "execution_count": 13,
     "metadata": {},
     "output_type": "execute_result"
    }
   ],
   "source": [
    "dummy_data.dtype"
   ]
  },
  {
   "cell_type": "code",
   "execution_count": 14,
   "id": "35705acd-d06d-4fbc-b67c-4fefed7c9bd0",
   "metadata": {},
   "outputs": [
    {
     "data": {
      "text/plain": [
       "array([[0, 0, 1, 3, 1, 2, 4],\n",
       "       [0, 1, 2, 1, 2, 1, 3],\n",
       "       [0, 1, 1, 3, 3, 2, 6]], dtype=int32)"
      ]
     },
     "execution_count": 14,
     "metadata": {},
     "output_type": "execute_result"
    }
   ],
   "source": [
    "dummy_data"
   ]
  },
  {
   "cell_type": "code",
   "execution_count": null,
   "id": "53464ab4-02a0-4fe0-860c-013cb2b0b182",
   "metadata": {},
   "outputs": [],
   "source": []
  },
  {
   "cell_type": "markdown",
   "id": "efff31de-e61e-4f48-ad8f-c28eaba368e7",
   "metadata": {},
   "source": [
    "### Let's switch to some real data"
   ]
  },
  {
   "cell_type": "markdown",
   "id": "1335a0ae-488f-4c79-a2e9-de0c87433eec",
   "metadata": {
    "tags": []
   },
   "source": [
    "$\\rightarrow$ _Adapted from_ : [**Software Carpentries: Programming with Python**]()\n",
    "\n",
    "## Arthritis Inflammation\n",
    "We are studying **inflammation in patients** who have been given a new treatment for arthritis.\n",
    "\n",
    "There are `60` patients, who had their inflammation levels recorded for `40` days.\n",
    "We want to analyze these recordings to study the effect of the new arthritis treatment.\n",
    "\n",
    "To see how the treatment is affecting the patients in general, we would like to:\n",
    "\n",
    "1. Process the file to extract data for each patient;\n",
    "2. Calculate some statistics on each patient;\n",
    "    - e.g. average inflammation over the `40` days (or `min`, `max` .. and so on)\n",
    "    - e.g average statistics per week (we will assume `40` days account for `5` weeks)\n",
    "    - `...` (open to ideas)\n",
    "3. Calculate some statistics on the dataset.\n",
    "    - e.g. min and max inflammation registered overall in the clinical study;\n",
    "    - e.g. the average inflammation per day across all patients.\n",
    "    - `...` (open to ideas)\n",
    "\n",
    "\n",
    "![3-step flowchart shows inflammation data records for patients moving to the Analysis step\n",
    "where a heat map of provided data is generated moving to the Conclusion step that asks the\n",
    "question, How does the medication affect patients?](\n",
    "https://raw.githubusercontent.com/swcarpentry/python-novice-inflammation/gh-pages/fig/lesson-overview.svg \"Lesson Overview\")\n",
    "\n",
    "\n",
    "### Data Format\n",
    "\n",
    "The data sets are stored in\n",
    "[comma-separated values] (CSV) format:\n",
    "\n",
    "- each row holds information for a single patient,\n",
    "- columns represent successive days.\n",
    "\n",
    "The first three rows of our first file look like this:\n",
    "~~~\n",
    "0,0,1,3,1,2,4,7,8,3,3,3,10,5,7,4,7,7,12,18,6,13,11,11,7,7,4,6,8,8,4,4,5,7,3,4,2,3,0,0\n",
    "0,1,2,1,2,1,3,2,2,6,10,11,5,9,4,4,7,16,8,6,18,4,12,5,12,7,11,5,11,3,3,5,4,4,5,5,1,1,0,1\n",
    "0,1,1,3,3,2,6,2,5,9,5,7,4,5,4,15,5,11,9,10,19,14,12,17,7,12,11,7,4,2,10,5,4,2,2,3,2,2,1,1\n",
    "~~~\n",
    "\n",
    "Each number represents the number of inflammation bouts that a particular patient experienced on a\n",
    "given day.\n",
    "\n",
    "For example, value \"6\" at row 3 column 7 of the data set above means that the third\n",
    "patient was experiencing inflammation six times on the seventh day of the clinical study.\n",
    "\n",
    "Our **task** is to gather as much information as possible from the dataset, and to report back to colleagues to foster future discussions."
   ]
  },
  {
   "cell_type": "code",
   "execution_count": 17,
   "id": "b8ef92d7-3925-4f11-9ff4-65bace6bb112",
   "metadata": {},
   "outputs": [],
   "source": [
    "if_data_01 = DATA_FOLDER / \"inflammation-01.csv\""
   ]
  },
  {
   "cell_type": "code",
   "execution_count": 23,
   "id": "43a618c0-9cc5-4d7c-87da-93a567e33174",
   "metadata": {},
   "outputs": [],
   "source": [
    "inf_data = np.loadtxt(if_data_01, delimiter=\",\", dtype=np.int32)"
   ]
  },
  {
   "cell_type": "code",
   "execution_count": 24,
   "id": "ddbb51c6-dfce-4573-8106-7e819f3f078d",
   "metadata": {},
   "outputs": [
    {
     "data": {
      "text/plain": [
       "(60, 40)"
      ]
     },
     "execution_count": 24,
     "metadata": {},
     "output_type": "execute_result"
    }
   ],
   "source": [
    "inf_data.shape"
   ]
  },
  {
   "cell_type": "code",
   "execution_count": 25,
   "id": "5f110622-0f7e-4d0f-8445-ad71901087ef",
   "metadata": {},
   "outputs": [
    {
     "data": {
      "text/plain": [
       "dtype('int32')"
      ]
     },
     "execution_count": 25,
     "metadata": {},
     "output_type": "execute_result"
    }
   ],
   "source": [
    "inf_data.dtype"
   ]
  },
  {
   "cell_type": "code",
   "execution_count": 26,
   "id": "961e414c-d8b3-48f9-a527-5cd29d42f6a8",
   "metadata": {},
   "outputs": [
    {
     "data": {
      "text/plain": [
       "2400"
      ]
     },
     "execution_count": 26,
     "metadata": {},
     "output_type": "execute_result"
    }
   ],
   "source": [
    "inf_data.size"
   ]
  },
  {
   "cell_type": "code",
   "execution_count": 27,
   "id": "9efcc1fd-a114-4b5f-874d-fe012a7064b8",
   "metadata": {},
   "outputs": [
    {
     "data": {
      "text/plain": [
       "4"
      ]
     },
     "execution_count": 27,
     "metadata": {},
     "output_type": "execute_result"
    }
   ],
   "source": [
    "inf_data.itemsize"
   ]
  },
  {
   "cell_type": "code",
   "execution_count": null,
   "id": "4f999bba-cf64-43a0-b125-42e2f9200078",
   "metadata": {},
   "outputs": [],
   "source": []
  },
  {
   "cell_type": "markdown",
   "id": "9c8ec418-bdad-4ed8-9943-dfaab66c8e86",
   "metadata": {},
   "source": [
    "#### Slicing"
   ]
  },
  {
   "cell_type": "code",
   "execution_count": 28,
   "id": "f75aa7c4-0337-4565-82bd-afb9c1df1515",
   "metadata": {},
   "outputs": [
    {
     "data": {
      "text/plain": [
       "array([[ 0,  0,  1,  3,  1,  2,  4,  7,  8,  3,  3,  3, 10,  5,  7,  4,\n",
       "         7,  7, 12, 18,  6, 13, 11, 11,  7,  7,  4,  6,  8,  8,  4,  4,\n",
       "         5,  7,  3,  4,  2,  3,  0,  0],\n",
       "       [ 0,  1,  2,  1,  2,  1,  3,  2,  2,  6, 10, 11,  5,  9,  4,  4,\n",
       "         7, 16,  8,  6, 18,  4, 12,  5, 12,  7, 11,  5, 11,  3,  3,  5,\n",
       "         4,  4,  5,  5,  1,  1,  0,  1],\n",
       "       [ 0,  1,  1,  3,  3,  2,  6,  2,  5,  9,  5,  7,  4,  5,  4, 15,\n",
       "         5, 11,  9, 10, 19, 14, 12, 17,  7, 12, 11,  7,  4,  2, 10,  5,\n",
       "         4,  2,  2,  3,  2,  2,  1,  1]], dtype=int32)"
      ]
     },
     "execution_count": 28,
     "metadata": {},
     "output_type": "execute_result"
    }
   ],
   "source": [
    "inf_data[:3]"
   ]
  },
  {
   "cell_type": "code",
   "execution_count": 29,
   "id": "d9f5ec4f-7590-465e-bb5e-970d833a24de",
   "metadata": {},
   "outputs": [
    {
     "data": {
      "text/plain": [
       "array([[0, 0, 1, 3, 1, 2, 4],\n",
       "       [0, 1, 2, 1, 2, 1, 3],\n",
       "       [0, 1, 1, 3, 3, 2, 6]], dtype=int32)"
      ]
     },
     "execution_count": 29,
     "metadata": {},
     "output_type": "execute_result"
    }
   ],
   "source": [
    "inf_data[:3, :7]"
   ]
  },
  {
   "cell_type": "markdown",
   "id": "b544b219-f362-4b13-8a4a-89f00c458c05",
   "metadata": {},
   "source": [
    "### Performance Comparison Numpy vs Lists"
   ]
  },
  {
   "cell_type": "code",
   "execution_count": 31,
   "id": "ed5d8aa7-1a8b-45b1-b7dd-eea7dc28ff6b",
   "metadata": {},
   "outputs": [
    {
     "name": "stdout",
     "output_type": "stream",
     "text": [
      "807 ms ± 24.4 ms per loop (mean ± std. dev. of 7 runs, 1 loop each)\n"
     ]
    }
   ],
   "source": [
    "%%timeit\n",
    "matrix_lol = []\n",
    "for i in range(10000):\n",
    "    row = list()\n",
    "    for j in range(1000):\n",
    "        row.append(j)\n",
    "    matrix_lol.append(row)\n"
   ]
  },
  {
   "cell_type": "code",
   "execution_count": 32,
   "id": "25dfe716-1580-4ffe-9eec-28203a5468b7",
   "metadata": {},
   "outputs": [
    {
     "name": "stdout",
     "output_type": "stream",
     "text": [
      "1.41 s ± 76.2 ms per loop (mean ± std. dev. of 7 runs, 1 loop each)\n"
     ]
    }
   ],
   "source": [
    "%%timeit\n",
    "matrix_np = np.empty((10000, 1000), dtype=np.int32)\n",
    "for i in range(10000):\n",
    "    for j in range(1000):\n",
    "        matrix_np[i, j] = j"
   ]
  },
  {
   "cell_type": "code",
   "execution_count": 33,
   "id": "c2cfc3ff-7975-45fa-b53a-7fef02c8dcba",
   "metadata": {},
   "outputs": [
    {
     "name": "stdout",
     "output_type": "stream",
     "text": [
      "18.5 ms ± 164 µs per loop (mean ± std. dev. of 7 runs, 10 loops each)\n"
     ]
    }
   ],
   "source": [
    "%%timeit\n",
    "matrix_np_faster = np.arange(10000*1000).reshape(10000, 1000)"
   ]
  },
  {
   "cell_type": "markdown",
   "id": "c20fb192-4d7e-4922-91c7-1a150b672afb",
   "metadata": {},
   "source": [
    "### Let's talk about patients"
   ]
  },
  {
   "cell_type": "markdown",
   "id": "ccc911c0-c940-4c16-ad3a-91ee62a315c7",
   "metadata": {},
   "source": [
    "1. average inflammations per day (max and min)\n",
    "2. median\n",
    "3. standard deviation"
   ]
  },
  {
   "cell_type": "markdown",
   "id": "0609fef7-dd66-4771-adc7-6de1c6c7ffd0",
   "metadata": {},
   "source": [
    "```python\n",
    "def overall_average(patients: Dataset) -> float:\n",
    "    num_values = 0\n",
    "    sum_of_values = 0\n",
    "    for inflammation_data in patients.values():\n",
    "        num_values += len(inflammation_data)\n",
    "        sum_of_values += sum(inflammation_data)\n",
    "    return sum_of_values / num_values\n",
    "```"
   ]
  },
  {
   "cell_type": "code",
   "execution_count": 34,
   "id": "b6129f7c-c2e1-4560-9532-635db49a4a4a",
   "metadata": {},
   "outputs": [],
   "source": [
    "patients = list()\n",
    "with open(if_data_01) as data_file:\n",
    "    for line in data_file:\n",
    "        line = line.strip()\n",
    "        if not line:\n",
    "            continue\n",
    "        values = line.split(\",\")\n",
    "        patient_data = list()\n",
    "        for value in values:\n",
    "            patient_data.append(int(value))\n",
    "        patients.append(tuple(patient_data))\n",
    "    "
   ]
  },
  {
   "cell_type": "code",
   "execution_count": 35,
   "id": "128ac3f0-3103-4ac9-8e9b-a047aa15b632",
   "metadata": {},
   "outputs": [
    {
     "data": {
      "text/plain": [
       "60"
      ]
     },
     "execution_count": 35,
     "metadata": {},
     "output_type": "execute_result"
    }
   ],
   "source": [
    "len(patients)"
   ]
  },
  {
   "cell_type": "code",
   "execution_count": 37,
   "id": "e7351eb7-19e1-4b07-9268-6b0bd01a2442",
   "metadata": {},
   "outputs": [],
   "source": [
    "from typing import List, Tuple\n",
    "\n",
    "def overall_average(patients: List[Tuple[int]]) -> float:\n",
    "    n_values = 0\n",
    "    sum_values = 0\n",
    "    for patient in patients:\n",
    "        n_values += len(patient)\n",
    "        sum_values += sum(patient)\n",
    "    return sum_values / n_values"
   ]
  },
  {
   "cell_type": "code",
   "execution_count": 38,
   "id": "62255c54-7afa-4c12-b282-a5096da35f43",
   "metadata": {},
   "outputs": [
    {
     "name": "stdout",
     "output_type": "stream",
     "text": [
      "23.7 µs ± 470 ns per loop (mean ± std. dev. of 7 runs, 10000 loops each)\n"
     ]
    }
   ],
   "source": [
    "%timeit overall_average(patients)"
   ]
  },
  {
   "cell_type": "code",
   "execution_count": 39,
   "id": "cf6d5b68-f9e6-4228-8ac1-9b1a87087db7",
   "metadata": {},
   "outputs": [
    {
     "name": "stdout",
     "output_type": "stream",
     "text": [
      "9.83 µs ± 140 ns per loop (mean ± std. dev. of 7 runs, 100000 loops each)\n"
     ]
    }
   ],
   "source": [
    "%timeit inf_data.mean()"
   ]
  },
  {
   "cell_type": "code",
   "execution_count": 41,
   "id": "81292841-fa7e-4469-997c-b32a03d1b860",
   "metadata": {},
   "outputs": [],
   "source": [
    "average_per_patient = inf_data.mean(axis=1)"
   ]
  },
  {
   "cell_type": "code",
   "execution_count": 42,
   "id": "653e396e-ee46-4277-9dae-ee434009c3c5",
   "metadata": {},
   "outputs": [
    {
     "data": {
      "text/plain": [
       "(60,)"
      ]
     },
     "execution_count": 42,
     "metadata": {},
     "output_type": "execute_result"
    }
   ],
   "source": [
    "average_per_patient.shape"
   ]
  },
  {
   "cell_type": "code",
   "execution_count": 43,
   "id": "490da866-989d-46ca-9858-bf459b199438",
   "metadata": {},
   "outputs": [
    {
     "data": {
      "text/plain": [
       "array([5.45 , 5.425, 6.1  , 5.9  , 5.55 , 6.225, 5.975, 6.65 , 6.625,\n",
       "       6.525, 6.775, 5.8  , 6.225, 5.75 , 5.225, 6.3  , 6.55 , 5.7  ,\n",
       "       5.85 , 6.55 , 5.775, 5.825, 6.175, 6.1  , 5.8  , 6.425, 6.05 ,\n",
       "       6.025, 6.175, 6.55 , 6.175, 6.35 , 6.725, 6.125, 7.075, 5.725,\n",
       "       5.925, 6.15 , 6.075, 5.75 , 5.975, 5.725, 6.3  , 5.9  , 6.75 ,\n",
       "       5.925, 7.225, 6.15 , 5.95 , 6.275, 5.7  , 6.1  , 6.825, 5.975,\n",
       "       6.725, 5.7  , 6.25 , 6.4  , 7.05 , 5.9  ])"
      ]
     },
     "execution_count": 43,
     "metadata": {},
     "output_type": "execute_result"
    }
   ],
   "source": [
    "average_per_patient"
   ]
  },
  {
   "cell_type": "code",
   "execution_count": 44,
   "id": "af162472-9c83-4f87-852a-be07e17a99c9",
   "metadata": {},
   "outputs": [
    {
     "data": {
      "text/plain": [
       "6.14875"
      ]
     },
     "execution_count": 44,
     "metadata": {},
     "output_type": "execute_result"
    }
   ],
   "source": [
    "overall_average(patients)"
   ]
  },
  {
   "cell_type": "code",
   "execution_count": 45,
   "id": "8a79c169-80ad-4df8-b886-faafaf096f7c",
   "metadata": {},
   "outputs": [
    {
     "data": {
      "text/plain": [
       "6.14875"
      ]
     },
     "execution_count": 45,
     "metadata": {},
     "output_type": "execute_result"
    }
   ],
   "source": [
    "inf_data.mean()"
   ]
  },
  {
   "cell_type": "markdown",
   "id": "a0160c81-f2b3-425c-be31-3ee344c12bf1",
   "metadata": {},
   "source": [
    "#### Compute patient's averages with vanilla python"
   ]
  },
  {
   "cell_type": "code",
   "execution_count": null,
   "id": "2878f7b8-b089-42d5-b431-402a8f4fb2ac",
   "metadata": {},
   "outputs": [],
   "source": []
  },
  {
   "cell_type": "code",
   "execution_count": null,
   "id": "d6bb531a-c593-4c3f-b52d-cd5e0bc9a9bc",
   "metadata": {},
   "outputs": [],
   "source": []
  },
  {
   "cell_type": "markdown",
   "id": "a19477c3-827f-43c1-abd2-d83c4e94327a",
   "metadata": {},
   "source": [
    "#### Use numpy's function `sum`"
   ]
  },
  {
   "cell_type": "code",
   "execution_count": null,
   "id": "af28b81f-36f9-4601-91a6-f8bffd19a7d7",
   "metadata": {},
   "outputs": [],
   "source": []
  },
  {
   "cell_type": "code",
   "execution_count": null,
   "id": "396ea723-60a3-4069-9aae-f21de520d743",
   "metadata": {},
   "outputs": [],
   "source": []
  },
  {
   "cell_type": "code",
   "execution_count": null,
   "id": "e99ce874-4fc3-4076-9e85-429963d25d75",
   "metadata": {},
   "outputs": [],
   "source": []
  },
  {
   "cell_type": "markdown",
   "id": "034ccbd6-d17d-4fae-9daa-57b4bb61647a",
   "metadata": {},
   "source": [
    "#### Use numpy's function `mean`"
   ]
  },
  {
   "cell_type": "markdown",
   "id": "831e598b-e9a2-4372-a3b4-3d16839ea6bb",
   "metadata": {},
   "source": [
    "#### Average of the whole dataset"
   ]
  },
  {
   "cell_type": "markdown",
   "id": "f5607cc2-9c1c-47c1-b50a-d2f5fcf05214",
   "metadata": {},
   "source": [
    "#### Average for each patient"
   ]
  },
  {
   "cell_type": "markdown",
   "id": "6d39950c-cd00-4b77-b491-76f8f53cac82",
   "metadata": {},
   "source": [
    "### Plotting with matplotlib"
   ]
  },
  {
   "cell_type": "code",
   "execution_count": null,
   "id": "b6071cca-ba89-46dd-955e-1e43e24ddbf4",
   "metadata": {},
   "outputs": [],
   "source": [
    "from matplotlib import pyplot as plt"
   ]
  },
  {
   "cell_type": "code",
   "execution_count": null,
   "id": "001a91f0-2164-4ac0-84dd-a3b57fea1b29",
   "metadata": {},
   "outputs": [],
   "source": [
    "# plot a line with the computed means\n",
    "plt.plot(data.mean(axis=1))\n",
    "\n",
    "# set the tile\n",
    "plt.title(\"Avg inflammations per day\")\n",
    "\n",
    "# set the label for the x-axis\n",
    "plt.xlabel(\"Patient ID\")\n",
    "\n",
    "# set the label for the y-axis\n",
    "plt.ylabel(\"Avg inflammations\")"
   ]
  },
  {
   "cell_type": "markdown",
   "id": "058208ca-bd45-453e-8e29-ef3a55c54acc",
   "metadata": {},
   "source": [
    "#### Plot with scatter points instead of a continuous line"
   ]
  },
  {
   "cell_type": "code",
   "execution_count": null,
   "id": "ffca9903-2378-446d-89f7-0c748f4b8a4c",
   "metadata": {},
   "outputs": [],
   "source": [
    "plt.plot(data.mean(axis=1), 'o')\n",
    "\n",
    "plt.title(\"Avg inflammations per day\")\n",
    "plt.xlabel(\"Patient ID\")\n",
    "plt.ylabel(\"Avg inflammations\")"
   ]
  },
  {
   "cell_type": "markdown",
   "id": "2de172dd-0555-4ee7-abe2-d8d4cda953d0",
   "metadata": {},
   "source": [
    "#### Compute mean and standard deviation (i.e. spread) of the distribution"
   ]
  },
  {
   "cell_type": "code",
   "execution_count": null,
   "id": "dd14b83f-4160-4750-9e03-eaa5ce707e90",
   "metadata": {},
   "outputs": [],
   "source": [
    "patient_means = data.mean(axis=1)\n",
    "patient_means.mean(), patient_means.std()"
   ]
  },
  {
   "cell_type": "code",
   "execution_count": null,
   "id": "d2ad4e24-4bd0-4e48-8a33-a95c67f6d6ed",
   "metadata": {},
   "outputs": [],
   "source": [
    "plt.plot(data.mean(axis=1), 'o')\n",
    "\n",
    "# plot an horizontal line\n",
    "plt.axhline(patient_means.mean(), color='k')\n",
    "\n",
    "# plot an horizontal line with a different style\n",
    "plt.axhline(\n",
    "    patient_means.mean() - patient_means.std(), \n",
    "    linestyle='--', \n",
    "    color='k'\n",
    ")\n",
    "plt.axhline(\n",
    "    patient_means.mean() + patient_means.std(), \n",
    "    linestyle='--', \n",
    "    color='k'\n",
    ")\n",
    "\n",
    "plt.title(\"Avg inflammations per day\")\n",
    "plt.xlabel(\"Patient ID\")\n",
    "plt.ylabel(\"Avg inflammations\")"
   ]
  },
  {
   "cell_type": "markdown",
   "id": "e456335d-97cd-468b-a0aa-9cb8e4c26b11",
   "metadata": {},
   "source": [
    "#### Plot the line of a single patient"
   ]
  },
  {
   "cell_type": "code",
   "execution_count": null,
   "id": "69c0737b-7aa6-46f1-b5d0-a8c125ea8836",
   "metadata": {},
   "outputs": [],
   "source": [
    "plt.plot(data[0])"
   ]
  },
  {
   "cell_type": "markdown",
   "id": "717a7d97-b190-40ee-9423-130557b4847d",
   "metadata": {},
   "source": [
    "#### Plot a single line representing the daily averages"
   ]
  },
  {
   "cell_type": "code",
   "execution_count": null,
   "id": "15eac327-08d6-49b1-9256-a1551cdaa09c",
   "metadata": {},
   "outputs": [],
   "source": [
    "plt.plot(data.mean(axis=0))"
   ]
  },
  {
   "cell_type": "markdown",
   "id": "a174ccd0-aa98-4b20-83bb-ea4e6dff0363",
   "metadata": {},
   "source": [
    "#### Try to plot all the lines together"
   ]
  },
  {
   "cell_type": "code",
   "execution_count": null,
   "id": "9751a909-de06-4235-9248-5fcd228dd1fc",
   "metadata": {},
   "outputs": [],
   "source": [
    "# create a figure of a larger size, 20x10 inches\n",
    "plt.figure(figsize=(20, 10))\n",
    "\n",
    "# data.T transposes the matrix, i.e. swap rows and columns\n",
    "# the alpha parameter add some transparency\n",
    "_ = plt.plot(data.T, color='green', alpha=0.1)"
   ]
  },
  {
   "cell_type": "markdown",
   "id": "6719b13c-7874-4091-a74d-f9fa46bf4ab2",
   "metadata": {},
   "source": [
    "#### Visualize the whole dataset with a heatmap"
   ]
  },
  {
   "cell_type": "code",
   "execution_count": null,
   "id": "7be2ac53-3365-47a8-968e-081688a5860d",
   "metadata": {},
   "outputs": [],
   "source": [
    "plt.imshow(data, cmap='Spectral_r')\n",
    "plt.colorbar()"
   ]
  },
  {
   "cell_type": "markdown",
   "id": "c9d4a82f-446f-4572-8703-5eca4b5a6996",
   "metadata": {},
   "source": [
    "#### What can you extrapolate?"
   ]
  },
  {
   "cell_type": "code",
   "execution_count": null,
   "id": "abaeb694-23e9-4727-bf31-7e769f6d070e",
   "metadata": {},
   "outputs": [],
   "source": []
  },
  {
   "cell_type": "code",
   "execution_count": null,
   "id": "c876e3fe-8bf7-43e8-a0d4-50924ba03d7a",
   "metadata": {},
   "outputs": [],
   "source": [
    "iris = sns.load_dataset('iris')"
   ]
  },
  {
   "cell_type": "code",
   "execution_count": null,
   "id": "fb8b88f6-5fa9-4f37-a6b2-adf378095e6b",
   "metadata": {},
   "outputs": [],
   "source": [
    "type(iris)"
   ]
  },
  {
   "cell_type": "code",
   "execution_count": null,
   "id": "4f64fc79-8ab2-4765-8359-084d038977a3",
   "metadata": {},
   "outputs": [],
   "source": [
    "iris"
   ]
  },
  {
   "cell_type": "code",
   "execution_count": null,
   "id": "2d9c8e33-edd2-4d39-81af-9b9807f1a77d",
   "metadata": {},
   "outputs": [],
   "source": []
  }
 ],
 "metadata": {
  "kernelspec": {
   "display_name": "Python 3 (ipykernel)",
   "language": "python",
   "name": "python3"
  },
  "language_info": {
   "codemirror_mode": {
    "name": "ipython",
    "version": 3
   },
   "file_extension": ".py",
   "mimetype": "text/x-python",
   "name": "python",
   "nbconvert_exporter": "python",
   "pygments_lexer": "ipython3",
   "version": "3.9.7"
  }
 },
 "nbformat": 4,
 "nbformat_minor": 5
}
