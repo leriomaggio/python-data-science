{
 "cells": [
  {
   "cell_type": "code",
   "execution_count": null,
   "id": "531397c2-f0a7-41fb-b6a0-c786a9eed9a7",
   "metadata": {
    "tags": []
   },
   "outputs": [],
   "source": [
    "import numpy as np"
   ]
  },
  {
   "cell_type": "code",
   "execution_count": null,
   "id": "928584c6-ed39-432d-94e9-614f3b9b5681",
   "metadata": {},
   "outputs": [],
   "source": [
    "!head dummy.csv  # NOTE: this won't work on Windows"
   ]
  },
  {
   "cell_type": "markdown",
   "id": "233e5209-0725-4abd-829b-de3c8cca4cd7",
   "metadata": {},
   "source": [
    "Read dummy dataset with numpy"
   ]
  },
  {
   "cell_type": "code",
   "execution_count": null,
   "id": "efeff3fd-6530-4443-bc68-93e45d1e037b",
   "metadata": {},
   "outputs": [],
   "source": [
    "np.loadtxt?"
   ]
  },
  {
   "cell_type": "code",
   "execution_count": null,
   "id": "99aa8b7f-d31f-4117-a65e-ad7d95499998",
   "metadata": {},
   "outputs": [],
   "source": []
  },
  {
   "cell_type": "code",
   "execution_count": null,
   "id": "b5b679d6-e87e-4725-98f8-d6dd4e5e8d8c",
   "metadata": {},
   "outputs": [],
   "source": []
  },
  {
   "cell_type": "markdown",
   "id": "0ba26de8-b76f-4cf2-bb43-fdd57491242e",
   "metadata": {},
   "source": [
    "Playing with Attribute of `ndarray`"
   ]
  },
  {
   "cell_type": "code",
   "execution_count": null,
   "id": "f1d22ad1-2086-4bab-b2d0-11c40ecd4ad0",
   "metadata": {},
   "outputs": [],
   "source": []
  },
  {
   "cell_type": "code",
   "execution_count": null,
   "id": "8a05908f-57d2-45e9-9366-56c7dd6d52fc",
   "metadata": {},
   "outputs": [],
   "source": []
  },
  {
   "cell_type": "code",
   "execution_count": null,
   "id": "1cf6ed0a-0319-4bec-bf53-0bf475451b9d",
   "metadata": {},
   "outputs": [],
   "source": []
  },
  {
   "cell_type": "markdown",
   "id": "1b71676b-6e99-4833-b03c-7ae01c52da28",
   "metadata": {},
   "source": [
    "### Let's switch to some real data"
   ]
  },
  {
   "cell_type": "markdown",
   "id": "f4d03618-f627-4a45-8377-f2949c95f746",
   "metadata": {
    "tags": []
   },
   "source": [
    "$\\rightarrow$ _Adapted from_ : [**Software Carpentries: Programming with Python**]()\n",
    "\n",
    "## Arthritis Inflammation\n",
    "We are studying **inflammation in patients** who have been given a new treatment for arthritis.\n",
    "\n",
    "There are `60` patients, who had their inflammation levels recorded for `40` days.\n",
    "We want to analyze these recordings to study the effect of the new arthritis treatment.\n",
    "\n",
    "To see how the treatment is affecting the patients in general, we would like to:\n",
    "\n",
    "1. Process the file to extract data for each patient;\n",
    "2. Calculate some statistics on each patient;\n",
    "    - e.g. average inflammation over the `40` days (or `min`, `max` .. and so on)\n",
    "    - e.g average statistics per week (we will assume `40` days account for `5` weeks)\n",
    "    - `...` (open to ideas)\n",
    "3. Calculate some statistics on the dataset.\n",
    "    - e.g. min and max inflammation registered overall in the clinical study;\n",
    "    - e.g. the average inflammation per day across all patients.\n",
    "    - `...` (open to ideas)\n",
    "\n",
    "\n",
    "![3-step flowchart shows inflammation data records for patients moving to the Analysis step\n",
    "where a heat map of provided data is generated moving to the Conclusion step that asks the\n",
    "question, How does the medication affect patients?](\n",
    "https://raw.githubusercontent.com/swcarpentry/python-novice-inflammation/gh-pages/fig/lesson-overview.svg \"Lesson Overview\")\n",
    "\n",
    "\n",
    "### Data Format\n",
    "\n",
    "The data sets are stored in\n",
    "[comma-separated values] (CSV) format:\n",
    "\n",
    "- each row holds information for a single patient,\n",
    "- columns represent successive days.\n",
    "\n",
    "The first three rows of our first file look like this:\n",
    "~~~\n",
    "0,0,1,3,1,2,4,7,8,3,3,3,10,5,7,4,7,7,12,18,6,13,11,11,7,7,4,6,8,8,4,4,5,7,3,4,2,3,0,0\n",
    "0,1,2,1,2,1,3,2,2,6,10,11,5,9,4,4,7,16,8,6,18,4,12,5,12,7,11,5,11,3,3,5,4,4,5,5,1,1,0,1\n",
    "0,1,1,3,3,2,6,2,5,9,5,7,4,5,4,15,5,11,9,10,19,14,12,17,7,12,11,7,4,2,10,5,4,2,2,3,2,2,1,1\n",
    "~~~\n",
    "\n",
    "Each number represents the number of inflammation bouts that a particular patient experienced on a\n",
    "given day.\n",
    "\n",
    "For example, value \"6\" at row 3 column 7 of the data set above means that the third\n",
    "patient was experiencing inflammation six times on the seventh day of the clinical study.\n",
    "\n",
    "Our **task** is to gather as much information as possible from the dataset, and to report back to colleagues to foster future discussions."
   ]
  },
  {
   "cell_type": "code",
   "execution_count": null,
   "id": "2d3943de-c1da-458e-95ef-c4e056929635",
   "metadata": {},
   "outputs": [],
   "source": []
  },
  {
   "cell_type": "code",
   "execution_count": null,
   "id": "2a609333-bdc0-4813-9707-dee7b8cc9d06",
   "metadata": {},
   "outputs": [],
   "source": []
  },
  {
   "cell_type": "code",
   "execution_count": null,
   "id": "a72da583-4207-4ad8-bd7a-31c30a3d5661",
   "metadata": {},
   "outputs": [],
   "source": []
  },
  {
   "cell_type": "markdown",
   "id": "69d99c55-9194-45e5-aab8-27c58de14c3e",
   "metadata": {},
   "source": [
    "#### Slicing"
   ]
  },
  {
   "cell_type": "code",
   "execution_count": null,
   "id": "2e83e23b-2ae4-42b8-8cc1-5415197eb97b",
   "metadata": {},
   "outputs": [],
   "source": []
  },
  {
   "cell_type": "code",
   "execution_count": null,
   "id": "32d5acca-ee35-4fe0-8ff7-812759a714ea",
   "metadata": {},
   "outputs": [],
   "source": []
  },
  {
   "cell_type": "markdown",
   "id": "32947df3-fd98-4d76-a762-4deb3569df65",
   "metadata": {},
   "source": [
    "### Performance Comparison Numpy vs Lists"
   ]
  },
  {
   "cell_type": "code",
   "execution_count": null,
   "id": "d423aa51-26df-4e36-a33f-db27b5719cf3",
   "metadata": {},
   "outputs": [],
   "source": [
    "%%timeit\n",
    "\n"
   ]
  },
  {
   "cell_type": "code",
   "execution_count": null,
   "id": "50057ee6-3ebc-4954-ba90-a9f9c7c11a11",
   "metadata": {},
   "outputs": [],
   "source": [
    "%%timeit\n"
   ]
  },
  {
   "cell_type": "code",
   "execution_count": null,
   "id": "abb4b247-4bfb-46cb-a1cd-386c95de870a",
   "metadata": {},
   "outputs": [],
   "source": [
    "%%timeit\n"
   ]
  },
  {
   "cell_type": "markdown",
   "id": "d267498d-a6f4-414d-b9da-9eaea621dd5b",
   "metadata": {},
   "source": [
    "### Let's talk about patients"
   ]
  },
  {
   "cell_type": "markdown",
   "id": "817bc6b5-7d09-4f8f-b783-f8ed0f26c01b",
   "metadata": {},
   "source": [
    "1. average inflammations per day (max and min)\n",
    "2. median\n",
    "3. standard deviation"
   ]
  },
  {
   "cell_type": "markdown",
   "id": "25caa787-8cd8-427f-a181-f6f80ef8ceaf",
   "metadata": {},
   "source": [
    "#### Compute patient's averages with vanilla python"
   ]
  },
  {
   "cell_type": "markdown",
   "id": "60ae73b3-647b-45b7-b7e5-ec2d52746fa4",
   "metadata": {},
   "source": [
    "Read Data"
   ]
  },
  {
   "cell_type": "code",
   "execution_count": null,
   "id": "98da2367-9794-4ae0-ae1e-abe1ee7e6882",
   "metadata": {},
   "outputs": [],
   "source": [
    "patients = list()\n",
    "with open(if_data_01) as data_file:\n",
    "    for line in data_file:\n",
    "        line = line.strip()\n",
    "        if not line:\n",
    "            continue\n",
    "        values = line.split(\",\")\n",
    "        patient_data = list()\n",
    "        for value in values:\n",
    "            patient_data.append(int(value))\n",
    "        patients.append(tuple(patient_data))\n",
    "    "
   ]
  },
  {
   "cell_type": "code",
   "execution_count": null,
   "id": "f61f0924-0bdf-4071-a347-5450ee1e6472",
   "metadata": {},
   "outputs": [],
   "source": []
  },
  {
   "cell_type": "code",
   "execution_count": null,
   "id": "50672faf-8877-49c5-a622-104a347ca330",
   "metadata": {},
   "outputs": [],
   "source": []
  },
  {
   "cell_type": "markdown",
   "id": "3f1e0af4-425c-43aa-9716-12d42af69809",
   "metadata": {},
   "source": [
    "Time the execution with Vanilla Python"
   ]
  },
  {
   "cell_type": "code",
   "execution_count": null,
   "id": "131584f8-5aa0-4639-8e0b-154e8c1bfdd2",
   "metadata": {},
   "outputs": [],
   "source": [
    "%timeit "
   ]
  },
  {
   "cell_type": "markdown",
   "id": "76469fc1-48bc-4f22-8464-08c734188deb",
   "metadata": {},
   "source": [
    "#### Average of the whole dataset with `np.mean`"
   ]
  },
  {
   "cell_type": "code",
   "execution_count": null,
   "id": "96545123-6d0a-47bc-be54-4d0e1770cc68",
   "metadata": {},
   "outputs": [],
   "source": []
  },
  {
   "cell_type": "code",
   "execution_count": null,
   "id": "ebfdf7b0-abf5-4a37-b42f-411cd56af9e8",
   "metadata": {},
   "outputs": [],
   "source": []
  },
  {
   "cell_type": "markdown",
   "id": "9a674115-2d61-4fff-9e89-989e03026e2e",
   "metadata": {},
   "source": [
    "#### Average for each patient"
   ]
  },
  {
   "cell_type": "code",
   "execution_count": null,
   "id": "a18b2c01-25b4-45dc-940e-b53fb127631d",
   "metadata": {},
   "outputs": [],
   "source": []
  },
  {
   "cell_type": "code",
   "execution_count": null,
   "id": "075bbc66-a8b7-4e79-9882-ac3f0f67164f",
   "metadata": {},
   "outputs": [],
   "source": []
  },
  {
   "cell_type": "code",
   "execution_count": null,
   "id": "42778069-028f-4bb2-8840-7ce1a5046c70",
   "metadata": {},
   "outputs": [],
   "source": []
  },
  {
   "cell_type": "markdown",
   "id": "3713b073-7e02-4937-97ba-856a57045e01",
   "metadata": {},
   "source": [
    "**Start Lect 4**:\n",
    "\n",
    "Let's compare time execution to Vanilla Python Implementation"
   ]
  },
  {
   "cell_type": "code",
   "execution_count": null,
   "id": "098f44e8-0469-4283-89e2-a2e7635768c2",
   "metadata": {},
   "outputs": [],
   "source": []
  },
  {
   "cell_type": "code",
   "execution_count": null,
   "id": "2f6bd1f5-4f1c-4e55-844e-3c244bc94c88",
   "metadata": {},
   "outputs": [],
   "source": []
  },
  {
   "cell_type": "markdown",
   "id": "cca4686c-920d-4fe9-aaba-8a30b460dc1d",
   "metadata": {},
   "source": [
    "#### Exercise:\n",
    "\n",
    "Calculate Daily Inflammation Average"
   ]
  },
  {
   "cell_type": "code",
   "execution_count": null,
   "id": "09766e47-057d-4ad3-ab75-b273d2b52f41",
   "metadata": {},
   "outputs": [],
   "source": [
    "# Vanilla Python Implementation"
   ]
  },
  {
   "cell_type": "code",
   "execution_count": null,
   "id": "2fccf4fa-1cfd-4333-bca9-4b6a4cf80870",
   "metadata": {},
   "outputs": [],
   "source": []
  },
  {
   "cell_type": "code",
   "execution_count": null,
   "id": "fb6c9282-361e-4117-8c8e-97ef1be35107",
   "metadata": {},
   "outputs": [],
   "source": [
    "#Numpy"
   ]
  },
  {
   "cell_type": "code",
   "execution_count": null,
   "id": "e647e2ea-005c-4cdc-a801-1c73e3d063ca",
   "metadata": {},
   "outputs": [],
   "source": []
  },
  {
   "cell_type": "markdown",
   "id": "eea6cf87-01fe-47f6-8ac2-279cfaca6dfe",
   "metadata": {},
   "source": [
    "### Plotting with `matplotlib`\n",
    "\n",
    "We will be using `matplotlib` to add in some visualisation of the Data"
   ]
  },
  {
   "cell_type": "code",
   "execution_count": null,
   "id": "e236ce47-d1f4-4495-9a85-a28deb22a400",
   "metadata": {},
   "outputs": [],
   "source": [
    "from matplotlib import pyplot as plt"
   ]
  },
  {
   "cell_type": "code",
   "execution_count": null,
   "id": "42df0f1e-f843-427d-8690-d70b3d02a079",
   "metadata": {},
   "outputs": [],
   "source": [
    "# plot a line with the computed means\n",
    "plt.plot(inf_data.mean(axis=1))\n",
    "\n",
    "# set the tile\n",
    "plt.title(\"Avg inflammations per day\")\n",
    "\n",
    "# set the label for the x-axis\n",
    "plt.xlabel(\"Patient ID\")\n",
    "\n",
    "# set the label for the y-axis\n",
    "plt.ylabel(\"Avg inflammations\")"
   ]
  },
  {
   "cell_type": "markdown",
   "id": "9fcdddd2-5dd0-48e1-981b-a15f1b4dd7e4",
   "metadata": {},
   "source": [
    "#### Plot with scatter points instead of a continuous line"
   ]
  },
  {
   "cell_type": "code",
   "execution_count": null,
   "id": "d437642a-73df-4db0-9952-8faa84e4d01e",
   "metadata": {},
   "outputs": [],
   "source": [
    "plt.plot(inf_data.mean(axis=1), 'o')\n",
    "\n",
    "plt.title(\"Avg inflammations per day\")\n",
    "plt.xlabel(\"Patient ID\")\n",
    "plt.ylabel(\"Avg inflammations\")"
   ]
  },
  {
   "cell_type": "markdown",
   "id": "07c24a42-d157-4a0b-9f74-25bd1a4432f5",
   "metadata": {},
   "source": [
    "#### Compute mean and standard deviation (i.e. spread) of the distribution"
   ]
  },
  {
   "cell_type": "code",
   "execution_count": null,
   "id": "ff6b6166-3ecc-4f9c-b325-a18b0480dc30",
   "metadata": {},
   "outputs": [],
   "source": [
    "patient_means = inf_data.mean(axis=1)\n",
    "patient_means.mean(), patient_means.std()"
   ]
  },
  {
   "cell_type": "code",
   "execution_count": null,
   "id": "dc5be646-ad30-4e92-aab7-ba61b7092bef",
   "metadata": {},
   "outputs": [],
   "source": [
    "plt.plot(inf_data.mean(axis=1), 'o')\n",
    "\n",
    "# plot an horizontal line\n",
    "plt.axhline(patient_means.mean(), color='k')\n",
    "\n",
    "# plot an horizontal line with a different style\n",
    "plt.axhline(\n",
    "    patient_means.mean() - patient_means.std(), \n",
    "    linestyle='--', \n",
    "    color='k'\n",
    ")\n",
    "plt.axhline(\n",
    "    patient_means.mean() + patient_means.std(), \n",
    "    linestyle='--', \n",
    "    color='k'\n",
    ")\n",
    "\n",
    "plt.title(\"Avg inflammations per day\")\n",
    "plt.xlabel(\"Patient ID\")\n",
    "plt.ylabel(\"Avg inflammations\")"
   ]
  },
  {
   "cell_type": "markdown",
   "id": "f31abdcc-18da-49b5-aae8-b64d66c34c05",
   "metadata": {},
   "source": [
    "#### Plot the line of a single patient"
   ]
  },
  {
   "cell_type": "code",
   "execution_count": null,
   "id": "6744fe45-2c51-4466-afbf-ce0a3348b610",
   "metadata": {},
   "outputs": [],
   "source": [
    "plt.plot(inf_data[0])"
   ]
  },
  {
   "cell_type": "markdown",
   "id": "d2b3b754-e982-4b5f-9d1d-467211cc4474",
   "metadata": {},
   "source": [
    "#### Plot a single line representing the daily averages"
   ]
  },
  {
   "cell_type": "code",
   "execution_count": null,
   "id": "20455625-08d0-4fa4-a107-0f83f32ffc1d",
   "metadata": {},
   "outputs": [],
   "source": [
    "plt.plot(inf_data.mean(axis=0))"
   ]
  },
  {
   "cell_type": "markdown",
   "id": "9ef95830-700f-4b88-afc0-40cd2660bb78",
   "metadata": {},
   "source": [
    "#### Try to plot all the lines together"
   ]
  },
  {
   "cell_type": "code",
   "execution_count": null,
   "id": "bae57449-8ccd-4425-af94-cccc5e73b307",
   "metadata": {},
   "outputs": [],
   "source": [
    "# create a figure of a larger size, 20x10 inches\n",
    "plt.figure(figsize=(20, 10))\n",
    "\n",
    "# data.T transposes the matrix, i.e. swap rows and columns\n",
    "# the alpha parameter add some transparency\n",
    "_ = plt.plot(inf_data.T, color='green', alpha=0.1)"
   ]
  },
  {
   "cell_type": "markdown",
   "id": "06ff2cb5-606c-4b66-ba2f-6922b39e3c48",
   "metadata": {},
   "source": [
    "#### Visualize the whole dataset with a heatmap"
   ]
  },
  {
   "cell_type": "code",
   "execution_count": null,
   "id": "3c0e6421-c4e9-426b-8fc4-c9a6d6d876e0",
   "metadata": {},
   "outputs": [],
   "source": [
    "plt.imshow(inf_data, cmap='Spectral_r')\n",
    "plt.colorbar()\n",
    "plt.show()"
   ]
  },
  {
   "cell_type": "markdown",
   "id": "e59ceb60-695a-4ffe-8b10-cf4c8fdf5eef",
   "metadata": {},
   "source": [
    "---"
   ]
  },
  {
   "cell_type": "markdown",
   "id": "15b8d40f-c52b-48e3-bd3c-1f52db2b1a54",
   "metadata": {},
   "source": [
    "## Solution 2 with Dictionary VS Numpy"
   ]
  },
  {
   "cell_type": "markdown",
   "id": "22b5f4f3-27a3-40ae-bb3c-63659a0b9538",
   "metadata": {},
   "source": [
    "```python\n",
    "def overall_average(patients: Dataset) -> float:\n",
    "    num_values = 0\n",
    "    sum_of_values = 0\n",
    "    for inflammation_data in patients.values():\n",
    "        num_values += len(inflammation_data)\n",
    "        sum_of_values += sum(inflammation_data)\n",
    "    return sum_of_values / num_values\n",
    "```"
   ]
  },
  {
   "cell_type": "markdown",
   "id": "51d2314f-493f-4866-b2fc-e1c8d132d2d9",
   "metadata": {},
   "source": [
    "Let's recall what the implementation was like"
   ]
  },
  {
   "cell_type": "code",
   "execution_count": null,
   "id": "3e94c385-866b-4ad0-9190-4e70d370d5f4",
   "metadata": {},
   "outputs": [],
   "source": []
  },
  {
   "cell_type": "code",
   "execution_count": null,
   "id": "5c177468-72e4-4b04-b5a7-f693dac2ee74",
   "metadata": {},
   "outputs": [],
   "source": []
  },
  {
   "cell_type": "markdown",
   "id": "3a6c255b-7fda-4855-869f-e0bfc9902e2b",
   "metadata": {},
   "source": [
    "Let's Now try to load `inflammation-02.csv` file in Numpy"
   ]
  },
  {
   "cell_type": "code",
   "execution_count": null,
   "id": "3ac2d9fc-ceeb-4913-8c80-1752e3d31cfb",
   "metadata": {},
   "outputs": [],
   "source": []
  },
  {
   "cell_type": "code",
   "execution_count": null,
   "id": "d62559ad-36bc-4c0f-980e-3386b203fb49",
   "metadata": {},
   "outputs": [],
   "source": []
  },
  {
   "cell_type": "markdown",
   "id": "d7746ddf-a7ad-4792-b5de-e5f829693bc7",
   "metadata": {},
   "source": [
    "Looking for a better solution: introducing `pandas`"
   ]
  },
  {
   "cell_type": "code",
   "execution_count": null,
   "id": "87a50f51-c1a4-4b05-aa88-c30ed59f00d2",
   "metadata": {},
   "outputs": [],
   "source": [
    "import pandas as pd"
   ]
  },
  {
   "cell_type": "code",
   "execution_count": null,
   "id": "794c0b1e-c1e4-4f3d-aef4-4e65edf61f65",
   "metadata": {},
   "outputs": [],
   "source": []
  },
  {
   "cell_type": "markdown",
   "id": "e46c345e-08a1-4d77-bb26-c08a605e99ee",
   "metadata": {},
   "source": [
    "Slicing & `pd.Series`"
   ]
  },
  {
   "cell_type": "code",
   "execution_count": null,
   "id": "820d7273-fe24-49c7-b888-35d3be2b2e27",
   "metadata": {},
   "outputs": [],
   "source": []
  },
  {
   "cell_type": "code",
   "execution_count": null,
   "id": "78e3500d-691a-4291-81d1-733954ff4e6c",
   "metadata": {},
   "outputs": [],
   "source": []
  },
  {
   "cell_type": "markdown",
   "id": "84ee6cc0-be92-41db-8338-03bb7b2ea57f",
   "metadata": {},
   "source": [
    "Adding information on Columns"
   ]
  },
  {
   "cell_type": "code",
   "execution_count": null,
   "id": "8f813673-95f6-47d0-bc10-b685b8da628a",
   "metadata": {},
   "outputs": [],
   "source": []
  },
  {
   "cell_type": "code",
   "execution_count": null,
   "id": "9ffeeae6-5813-440a-84f7-a33f55451de6",
   "metadata": {},
   "outputs": [],
   "source": []
  },
  {
   "cell_type": "markdown",
   "id": "d07d5cb2-cf0e-4415-9fe1-f714f4cd2a5b",
   "metadata": {},
   "source": [
    "Calculate Statistics with Pandas"
   ]
  },
  {
   "cell_type": "code",
   "execution_count": null,
   "id": "aadb349c-dc9a-4083-8322-6957101427b0",
   "metadata": {},
   "outputs": [],
   "source": []
  },
  {
   "cell_type": "code",
   "execution_count": null,
   "id": "4b3de571-6a9b-47fd-95eb-1befab96551a",
   "metadata": {},
   "outputs": [],
   "source": []
  },
  {
   "cell_type": "markdown",
   "id": "f587512d-827a-456e-859c-81a2afe27f91",
   "metadata": {},
   "source": [
    "Plot with Pandas"
   ]
  },
  {
   "cell_type": "code",
   "execution_count": null,
   "id": "8dec23d5-2a5b-4d02-ba3a-567781a30ed5",
   "metadata": {},
   "outputs": [],
   "source": []
  },
  {
   "cell_type": "code",
   "execution_count": null,
   "id": "de105d1d-05b8-41f6-82e0-4a10470cc8fa",
   "metadata": {},
   "outputs": [],
   "source": []
  }
 ],
 "metadata": {
  "kernelspec": {
   "display_name": "Python 3 (ipykernel)",
   "language": "python",
   "name": "python3"
  },
  "language_info": {
   "codemirror_mode": {
    "name": "ipython",
    "version": 3
   },
   "file_extension": ".py",
   "mimetype": "text/x-python",
   "name": "python",
   "nbconvert_exporter": "python",
   "pygments_lexer": "ipython3",
   "version": "3.9.7"
  }
 },
 "nbformat": 4,
 "nbformat_minor": 5
}
