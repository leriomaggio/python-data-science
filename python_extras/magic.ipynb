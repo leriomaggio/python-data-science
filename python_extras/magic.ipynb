{
 "cells": [
  {
   "cell_type": "markdown",
   "metadata": {
    "slideshow": {
     "slide_type": "slide"
    }
   },
   "source": [
    "# Magic Methods and Operator Overloading\n"
   ]
  },
  {
   "cell_type": "markdown",
   "metadata": {
    "slideshow": {
     "slide_type": "subslide"
    }
   },
   "source": [
    "The so-called magic methods have nothing to do with wizardry. \n",
    "\n",
    "You have already seen them in previous chapters of our tutorial. \n",
    "\n",
    "They are special methods with fixed names. \n",
    "\n",
    "They are the methods with this clumsy syntax, i.e. the double underscores at the beginning and the end. \n",
    "\n",
    "They are also hard to talk about. How do you pronounce or say a method name like `__init__`? \"Underscore underscore init underscore underscore\" sounds horrible and is nearly a tongue twister. \"Double underscore init double underscore\" is a lot better, but the ideal way is \"dunder init dunder\"1 That's why magic methods methods are sometimes called dunder methods! "
   ]
  },
  {
   "cell_type": "markdown",
   "metadata": {
    "slideshow": {
     "slide_type": "subslide"
    }
   },
   "source": [
    "So what's magic about the `__init__` method? The answer is, you don't have to invoke it directly. The invocation is realized behind the scenes. When you create an instance x of a class A with the statement \"x = A()\", Python will do the necessary calls to `__new__` and `__init__`. "
   ]
  },
  {
   "cell_type": "markdown",
   "metadata": {
    "slideshow": {
     "slide_type": "subslide"
    }
   },
   "source": [
    "Nearly at the end of this chapter of our tutorial we will introduce the `__call__` method. It is overlooked by many beginners and even advanced programmers of Python. It is a functionality which many programming languages do not have, so programmers are generally not looking for. The `__call__` method enables Python programmers to write classes where the instances behave like functions. Both functions and the instances of such classes are called callables. "
   ]
  },
  {
   "cell_type": "markdown",
   "metadata": {
    "slideshow": {
     "slide_type": "subslide"
    }
   },
   "source": [
    "We have encountered the concept of operator overloading many times in the course of this tutorial. We had used the plus sign to add numerical values, to concatenate strings or to combine lists: "
   ]
  },
  {
   "cell_type": "markdown",
   "metadata": {
    "slideshow": {
     "slide_type": "fragment"
    }
   },
   "source": [
    "```python\n",
    ">>> 4 + 5\n",
    "9\n",
    ">>> 3.8 + 9\n",
    "12.8\n",
    ">>> \"Peter\" + \" \" + \"Pan\"\n",
    "'Peter Pan'\n",
    ">>> [3,6,8] + [7,11,13]\n",
    "[3, 6, 8, 7, 11, 13]\n",
    ">>> \n",
    "```"
   ]
  },
  {
   "cell_type": "markdown",
   "metadata": {
    "slideshow": {
     "slide_type": "subslide"
    }
   },
   "source": [
    "It's even possible to overload the \"+\" operator as well as all the other operators for the purposes of your own class. To do this, you need to understand the underlying mechanism. There is a special (or a \"magic\") method for every operator sign. The magic method for the \"+\" sign is the `__add__` method. For \"-\" it is `\"__sub__\"` and so on. We have a complete listing of all the magic methods a little bit further down. \n",
    "\n",
    "The mechanism works like this: If we have an expression \"x + y\" and x is an instance of class K, then Python will check the class definition of K. If K has a method `__add__` it will be called with `x.__add__(y)`, otherwise we will get an error message."
   ]
  },
  {
   "cell_type": "markdown",
   "metadata": {
    "slideshow": {
     "slide_type": "fragment"
    }
   },
   "source": [
    "```python\n",
    "Traceback (most recent call last):\n",
    "  File \"<stdin>\", line 1, in <module>\n",
    "TypeError: unsupported operand type(s) for +: 'K' and 'K'\n",
    "```"
   ]
  },
  {
   "cell_type": "markdown",
   "metadata": {
    "slideshow": {
     "slide_type": "slide"
    }
   },
   "source": [
    "### Overview of magic methods"
   ]
  },
  {
   "cell_type": "markdown",
   "metadata": {
    "slideshow": {
     "slide_type": "subslide"
    }
   },
   "source": [
    "#### Binary Operators\n",
    "\n",
    "<table style=\"text-align: left; width: 100%; background-color: rgb(220, 255, 220);\" border=\"0\" cellpadding=\"2\" cellspacing=\"2\">\n",
    "<tbody>\n",
    "<tr>\n",
    "<th style=\"vertical-align: top;\">Operator</th>\n",
    "<th style=\"vertical-align: top;\">Method</th>\n",
    "</tr>\n",
    "\n",
    "<tr>\n",
    "<td style=\"vertical-align: top;\">+</td>\n",
    "<td style=\"vertical-align: top;\">`object.__add__(self, other)` </td>\n",
    "</tr>\n",
    "\n",
    "<tr>\n",
    "<td style=\"vertical-align: top;\">-</td>\n",
    "<td style=\"vertical-align: top;\">`object.__sub__(self, other)`</td>\n",
    "</tr>\n",
    "\n",
    "<tr>\n",
    "<td style=\"vertical-align: top;\">*</td>\n",
    "<td style=\"vertical-align: top;\">`object.__mul__(self, other)` </td>\n",
    "</tr>\n",
    "\n",
    "<tr>\n",
    "<td style=\"vertical-align: top;\">//</td>\n",
    "<td style=\"vertical-align: top;\">`object.__floordiv__(self, other)`</td>\n",
    "</tr>\n",
    "\n",
    "<tr>\n",
    "<td style=\"vertical-align: top;\">/</td>\n",
    "<td style=\"vertical-align: top;\">`object.__truediv__(self, other)`</td>\n",
    "</tr>\n",
    "\n",
    "<tr>\n",
    "<td style=\"vertical-align: top;\">%</td>\n",
    "<td style=\"vertical-align: top;\">`object.__mod__(self, other)`</td>\n",
    "</tr>\n",
    "\n",
    "<tr>\n",
    "<td style=\"vertical-align: top;\">**</td>\n",
    "<td style=\"vertical-align: top;\">`object.__pow__(self, other[, module])`</td>\n",
    "</tr>\n",
    "\n",
    "<tr>\n",
    "<td style=\"vertical-align: top;\">&lt;&lt;</td>\n",
    "<td style=\"vertical-align: top;\">`object.__lshift__(self, other)`</td>\n",
    "</tr>\n",
    "\n",
    "<tr>\n",
    "<td style=\"vertical-align: top;\">&gt;&gt;</td>\n",
    "<td style=\"vertical-align: top;\">`object.__rshift__(self, other)` </td>\n",
    "</tr>\n",
    "\n",
    "<tr>\n",
    "<td style=\"vertical-align: top;\">&amp;</td>\n",
    "<td style=\"vertical-align: top;\">`object.__and__(self, other)`</td>\n",
    "</tr>\n",
    "\n",
    "<tr>\n",
    "<td style=\"vertical-align: top;\">^</td>\n",
    "<td style=\"vertical-align: top;\">`object.__xor__(self, other)`</td>\n",
    "</tr>\n",
    "\n",
    "<tr>\n",
    "<td style=\"vertical-align: top;\">|</td>\n",
    "<td style=\"vertical-align: top;\">`object.__or__(self, other)`</td>\n",
    "</tr>\n",
    "</tbody>\n",
    "</table>"
   ]
  },
  {
   "cell_type": "markdown",
   "metadata": {
    "slideshow": {
     "slide_type": "subslide"
    }
   },
   "source": [
    "#### Extended Assignments\n",
    "\n",
    "<table style=\"text-align: left; width: 100%; background-color: rgb(220, 255, 220);\" border=\"0\" cellpadding=\"2\" cellspacing=\"2\">\n",
    "<tbody>\n",
    "\n",
    "<tr>\n",
    "<th style=\"vertical-align: top;\">Operator</th>\n",
    "<th style=\"vertical-align: top;\">Method</th>\n",
    "</tr>\n",
    "\n",
    "<tr>\n",
    "<td style=\"vertical-align: top;\">+=</td>\n",
    "<td style=\"vertical-align: top;\">`object.__iadd__(self, other)`</td>\n",
    "</tr>\n",
    "\n",
    "<tr>\n",
    "<td style=\"vertical-align: top;\">-=</td>\n",
    "<td style=\"vertical-align: top;\">`object.__isub__(self, other)`</td>\n",
    "</tr>\n",
    "\n",
    "<tr>\n",
    "<td style=\"vertical-align: top;\">*=</td>\n",
    "<td style=\"vertical-align: top;\">`object.__imul__(self, other)`</td>\n",
    "</tr>\n",
    "\n",
    "<tr>\n",
    "<td style=\"vertical-align: top;\">/= </td>\n",
    "<td style=\"vertical-align: top;\">`object.__idiv__(self, other)`</td>\n",
    "</tr>\n",
    "\n",
    "<tr>\n",
    "<td style=\"vertical-align: top;\">//=</td>\n",
    "<td style=\"vertical-align: top;\">`object.__ifloordiv__(self, other)`</td>\n",
    "</tr>\n",
    "\n",
    "<tr>\n",
    "<td style=\"vertical-align: top;\">%=</td>\n",
    "<td style=\"vertical-align: top;\">`object.__imod__(self, other)`</td>\n",
    "</tr>\n",
    "\n",
    "<tr>\n",
    "<td style=\"vertical-align: top;\">**=</td>\n",
    "<td style=\"vertical-align: top;\">`object.__ipow__(self, other[, modulo])`</td>\n",
    "</tr>\n",
    "\n",
    "<tr>\n",
    "<td style=\"vertical-align: top;\">&lt;&lt;=</td>\n",
    "<td style=\"vertical-align: top;\">`object.__ilshift__(self, other)`</td>\n",
    "</tr>\n",
    "\n",
    "<tr>\n",
    "<td style=\"vertical-align: top;\">&gt;&gt;= </td>\n",
    "<td style=\"vertical-align: top;\">`object.__irshift__(self, other)`</td>\n",
    "</tr>\n",
    "\n",
    "<tr>\n",
    "<td style=\"vertical-align: top;\">&amp;=</td>\n",
    "<td style=\"vertical-align: top;\">object.__iand__(self, other) </td>\n",
    "</tr>\n",
    "\n",
    "<tr>\n",
    "<td style=\"vertical-align: top;\">^=</td>\n",
    "<td style=\"vertical-align: top;\">`object.__ixor__(self, other)`</td>\n",
    "</tr>\n",
    "\n",
    "<tr>\n",
    "<td style=\"vertical-align: top;\">|=</td>\n",
    "<td style=\"vertical-align: top;\">`object.__ior__(self, other)`</td>\n",
    "</tr>\n",
    "</tbody>\n",
    "</table>"
   ]
  },
  {
   "cell_type": "markdown",
   "metadata": {
    "slideshow": {
     "slide_type": "subslide"
    }
   },
   "source": [
    "#### Unary Operators\n",
    "\n",
    "<table style=\"text-align: left; width: 100%; background-color: rgb(220, 255, 220);\" border=\"0\" cellpadding=\"2\" cellspacing=\"2\">\n",
    "<tbody>\n",
    "\n",
    "<tr>\n",
    "<th style=\"vertical-align: top;\">Operator</th>\n",
    "<th style=\"vertical-align: top;\">Method</th>\n",
    "</tr>\n",
    "\n",
    "<tr>\n",
    "<td style=\"vertical-align: top;\">- </td>\n",
    "<td style=\"vertical-align: top;\">`object.__neg__(self)`</td>\n",
    "</tr>\n",
    "\n",
    "<tr>\n",
    "<td style=\"vertical-align: top;\">+</td>\n",
    "<td style=\"vertical-align: top;\">`object.__pos__(self)`</td>\n",
    "</tr>\n",
    "\n",
    "<tr>\n",
    "<td style=\"vertical-align: top;\">abs()   </td>\n",
    "<td style=\"vertical-align: top;\">`object.__abs__(self)`</td>\n",
    "</tr>\n",
    "\n",
    "<tr>\n",
    "<td style=\"vertical-align: top;\">~</td>\n",
    "<td style=\"vertical-align: top;\">`object.__invert__(self)`</td>\n",
    "</tr>\n",
    "\n",
    "<tr>\n",
    "<td style=\"vertical-align: top;\">complex()       </td>\n",
    "<td style=\"vertical-align: top;\">`object.__complex__(self)`</td>\n",
    "</tr>\n",
    "\n",
    "<tr>\n",
    "<td style=\"vertical-align: top;\">int()           </td>\n",
    "<td style=\"vertical-align: top;\">`object.__int__(self)`</td>\n",
    "</tr>\n",
    "\n",
    "<tr>\n",
    "<td style=\"vertical-align: top;\">long()          </td>\n",
    "<td style=\"vertical-align: top;\">`object.__long__(self)`</td>\n",
    "</tr>\n",
    "\n",
    "<tr>\n",
    "<td style=\"vertical-align: top;\">float()         </td>\n",
    "<td style=\"vertical-align: top;\">`object.__float__(self)`</td>\n",
    "</tr>\n",
    "\n",
    "<tr>\n",
    "<td style=\"vertical-align: top;\">oct()           </td>\n",
    "<td style=\"vertical-align: top;\">`object.__oct__(self)`</td>\n",
    "</tr>\n",
    "\n",
    "<tr>\n",
    "<td style=\"vertical-align: top;\">hex()           </td>\n",
    "<td style=\"vertical-align: top;\">`object.__hex__(self)`</td>\n",
    "</tr>\n",
    "\n",
    "</tbody>\n",
    "</table>"
   ]
  },
  {
   "cell_type": "markdown",
   "metadata": {
    "slideshow": {
     "slide_type": "subslide"
    }
   },
   "source": [
    "#### Comparison Operators\n",
    "\n",
    "<table style=\"text-align: left; width: 100%; background-color: rgb(220, 255, 220);\" border=\"0\" cellpadding=\"2\" cellspacing=\"2\">\n",
    "<tbody>\n",
    "\n",
    "<tr>\n",
    "<th style=\"vertical-align: top;\">Operator</th>\n",
    "<th style=\"vertical-align: top;\">Method</th>\n",
    "</tr>\n",
    "\n",
    "<tr>\n",
    "<td style=\"vertical-align: top;\">&lt;        </td>\n",
    "<td style=\"vertical-align: top;\">`object.__lt__(self, other)`</td>\n",
    "</tr>\n",
    "\n",
    "<tr>\n",
    "<td style=\"vertical-align: top;\">&lt;=       </td>\n",
    "<td style=\"vertical-align: top;\">`object.__le__(self, other)`</td>\n",
    "</tr>\n",
    "\n",
    "<tr>\n",
    "<td style=\"vertical-align: top;\">==       </td>\n",
    "<td style=\"vertical-align: top;\">`object.__eq__(self, other)`</td>\n",
    "</tr>\n",
    "\n",
    "<tr>\n",
    "<td style=\"vertical-align: top;\">!=       </td>\n",
    "<td style=\"vertical-align: top;\">`object.__ne__(self, other)`</td>\n",
    "</tr>\n",
    "\n",
    "<tr>\n",
    "<td style=\"vertical-align: top;\">&gt;=       </td>\n",
    "<td style=\"vertical-align: top;\">`object.__ge__(self, other)`</td>\n",
    "</tr>\n",
    "\n",
    "<tr>\n",
    "<td style=\"vertical-align: top;\">&gt;        \n",
    "</td><td style=\"vertical-align: top;\">`object.__gt__(self, other)`</td>\n",
    "</tr>\n",
    "\n",
    "<tr>\n",
    "\n",
    "</tr></tbody>\n",
    "</table>"
   ]
  },
  {
   "cell_type": "markdown",
   "metadata": {
    "slideshow": {
     "slide_type": "slide"
    }
   },
   "source": [
    "### Example class: Length\n",
    "We will demonstrate in the following Length class, how you can overload the \"+\" operator for your own class. To do this, we have to overload the __add__ method. Our class contains the __str__ and __repr__ methods as well. The instances of the class Length contain length or distance information. The attributes of an instance are self.value and self.unit. \n",
    "\n",
    "This class allows us to calculate expressions with mixed units like this one: \n",
    "\n",
    "2.56 m + 3 yd + 7.8 in + 7.03 cm \n",
    "\n",
    "The class can be used like this:"
   ]
  },
  {
   "cell_type": "markdown",
   "metadata": {
    "slideshow": {
     "slide_type": "subslide"
    }
   },
   "source": [
    "```python\n",
    ">>> from unit_conversions import Length\n",
    ">>> L = Length\n",
    ">>> print(L(2.56,\"m\") + L(3,\"yd\") + L(7.8,\"in\") + L(7.03,\"cm\"))\n",
    "5.57162\n",
    ">>>\n",
    "```"
   ]
  },
  {
   "cell_type": "markdown",
   "metadata": {
    "slideshow": {
     "slide_type": "subslide"
    }
   },
   "source": [
    "The listing of the class:"
   ]
  },
  {
   "cell_type": "markdown",
   "metadata": {
    "slideshow": {
     "slide_type": "subslide"
    }
   },
   "source": [
    "```python\n",
    "class Length:\n",
    "\n",
    "    __metric = {\"mm\" : 0.001, \"cm\" : 0.01, \"m\" : 1, \"km\" : 1000,\n",
    "                \"in\" : 0.0254, \"ft\" : 0.3048, \"yd\" : 0.9144,\n",
    "                \"mi\" : 1609.344 }\n",
    "    \n",
    "    def __init__(self, value, unit = \"m\" ):\n",
    "        self.value = value\n",
    "        self.unit = unit\n",
    "    \n",
    "    def Converse2Metres(self):\n",
    "        return self.value * Length.__metric[self.unit]\n",
    "    \n",
    "    def __add__(self, other):\n",
    "        l = self.Converse2Metres() + other.Converse2Metres()\n",
    "        return Length(l / Length.__metric[self.unit], self.unit )\n",
    "    \n",
    "    def __str__(self):\n",
    "        return str(self.Converse2Metres())\n",
    "    \n",
    "    def __repr__(self):\n",
    "        return \"Length(\" + str(self.value) + \", '\" + self.unit + \"')\"\n",
    "\n",
    "if __name__ == \"__main__\":\n",
    "    x = Length(4)\n",
    "    print(x)\n",
    "    y = eval(repr(x))\n",
    "\n",
    "    z = Length(4.5, \"yd\") + Length(1)\n",
    "    print(repr(z))\n",
    "    print(z)\n",
    "```"
   ]
  },
  {
   "cell_type": "markdown",
   "metadata": {
    "slideshow": {
     "slide_type": "subslide"
    }
   },
   "source": [
    "If we start this program, we get the following output: \n",
    "\n",
    "4\n",
    "Length(5.593613298337708, 'yd')\n",
    "5.1148\n",
    "\n",
    "We use the method __iadd__ to implement the extended assignment: \n",
    "\n",
    "```python\n",
    "    def __iadd__(self, other):\n",
    "        l = self.Converse2Metres() + other.Converse2Metres()\n",
    "        self.value = l / Length.__metric[self.unit]\n",
    "        return self\n",
    "```\n",
    "\n",
    "Now we are capable to write the following assignments: \n",
    "```python\n",
    "    x += Length(1)\n",
    "    x += Length(4, \"yd\")\n",
    "```\n",
    "\n"
   ]
  },
  {
   "cell_type": "markdown",
   "metadata": {
    "slideshow": {
     "slide_type": "subslide"
    }
   },
   "source": [
    "We have added 1 metre in the example above by writing `x += Length(1))`. \n",
    "\n",
    "Most certainly, you will agree with us that it would be more convenient to simply write `x += 1` instead. \n",
    "\n",
    "We also want to treat expressions like `Length(5,\"yd\") + 4.8` similarly. \n",
    "\n",
    "So, if somebody uses a type `int` or `float`, our class takes it automatically for \"metre\" and converts it into a `Length` object. \n",
    "\n",
    "It's easy to adapt our `__add__` and `__iadd__` method for this task. \n",
    "\n",
    "All we have to do is to check the type of the parameter \"other\": "
   ]
  },
  {
   "cell_type": "markdown",
   "metadata": {
    "slideshow": {
     "slide_type": "subslide"
    }
   },
   "source": [
    "```python\n",
    "    def __add__(self, other):\n",
    "        if type(other) == int or type(other) == float:\n",
    "            l = self.Converse2Metres() + other\n",
    "        else:\n",
    "            l = self.Converse2Metres() + other.Converse2Metres()\n",
    "        return Length(l / Length.__metric[self.unit], self.unit )\n",
    "\n",
    "    def __iadd__(self, other):\n",
    "        if type(other) == int or type(other) == float:\n",
    "            l = self.Converse2Metres() + other\n",
    "        else:\n",
    "            l = self.Converse2Metres() + other.Converse2Metres()\n",
    "        self.value = l / Length.__metric[self.unit]\n",
    "        return self\n",
    "```"
   ]
  },
  {
   "cell_type": "markdown",
   "metadata": {
    "slideshow": {
     "slide_type": "subslide"
    }
   },
   "source": [
    "It's a safe bet that if somebody works for a while with adding integers and floats from the right sight that he or she wants to the same from the left side! So let's try it out: "
   ]
  },
  {
   "cell_type": "markdown",
   "metadata": {
    "slideshow": {
     "slide_type": "fragment"
    }
   },
   "source": [
    "```python\n",
    ">>> from unit_conversions import Length\n",
    ">>> x = Length(3, \"yd\") + 5\n",
    ">>> x = 5 + Length(3, \"yd\")\n",
    "Traceback (most recent call last):\n",
    "  File \"<stdin>\", line 1, in <module>\n",
    "TypeError: unsupported operand type(s) for +: 'int' and 'Length'\n",
    ">>> \n",
    "```"
   ]
  },
  {
   "cell_type": "markdown",
   "metadata": {
    "slideshow": {
     "slide_type": "fragment"
    }
   },
   "source": [
    "Of course, the left side has to be of type \"Length\", because otherwise Python tries to apply the __add__ method from int, which can't cope with Length objects as second arguments! "
   ]
  },
  {
   "cell_type": "markdown",
   "metadata": {
    "slideshow": {
     "slide_type": "subslide"
    }
   },
   "source": [
    "Python provides a solution for this problem as well. It's the `__radd__` method. \n",
    "\n",
    "It works like this: Python tries to evaluate the expression `5 + Length(3, 'yd')`. \n",
    "\n",
    "First it calls `int.__add__(5,Length(3, 'yd'))`, which will raise an exception. \n",
    "\n",
    "After this it will try to invoke `Length.__radd__(Length(3, \"yd\"), 5)`. \n",
    "\n",
    "It's easy to recognize that the implementation of `__radd__` is analogue to `__add__`: "
   ]
  },
  {
   "cell_type": "markdown",
   "metadata": {
    "slideshow": {
     "slide_type": "fragment"
    }
   },
   "source": [
    "```python\n",
    "    def __radd__(self, other):\n",
    "        if type(other) == int or type(other) == float:\n",
    "            l = self.Converse2Metres() + otherLength.__radd__(Length(3, \"yd\"), 5)\n",
    "        else:\n",
    "            l = self.Converse2Metres() + other.Converse2Metres()\n",
    "        return Length(l / Length.__metric[self.unit], self.unit )\n",
    "````"
   ]
  },
  {
   "cell_type": "markdown",
   "metadata": {
    "slideshow": {
     "slide_type": "subslide"
    }
   },
   "source": [
    "It's advisable to make use of the __add__ method in the __radd__ method: \n",
    "\n",
    "```python\n",
    "    def __radd__(self, other):\n",
    "        return Length.__add__(self,other)  \n",
    "```"
   ]
  },
  {
   "cell_type": "markdown",
   "metadata": {
    "slideshow": {
     "slide_type": "subslide"
    }
   },
   "source": [
    "The following diagram illustrates the relationship between `__add__` and `__radd__`: "
   ]
  },
  {
   "cell_type": "markdown",
   "metadata": {},
   "source": [
    "<img src='https://www.python-course.eu/images/operator_overloading__radd__.png'>"
   ]
  },
  {
   "cell_type": "markdown",
   "metadata": {
    "slideshow": {
     "slide_type": "slide"
    }
   },
   "source": [
    "## The `__call__` method\n"
   ]
  },
  {
   "cell_type": "markdown",
   "metadata": {
    "slideshow": {
     "slide_type": "subslide"
    }
   },
   "source": [
    "The __call__ method can be used to turn the instances of the class into callables. \n",
    "\n",
    "Functions are callable objects. \n",
    "\n",
    "A **callable object** is an object which can be used and behaves like a function but might not be a function. \n",
    "\n",
    "By using the `__call__` method it is possible to define classes in a way that the instances will be callable objects. \n",
    "\n",
    "The `__call__` method is called, if the instance is called \"like a function\", i.e. using brackets. "
   ]
  },
  {
   "cell_type": "markdown",
   "metadata": {
    "slideshow": {
     "slide_type": "subslide"
    }
   },
   "source": [
    "The following example defines a class with which we can create abitrary polynomial functions:"
   ]
  },
  {
   "cell_type": "markdown",
   "metadata": {},
   "source": [
    "```python\n",
    "class Polynomial:\n",
    "    \n",
    "    def __init__(self, *coefficients):\n",
    "        self.coefficients = coefficients[::-1]\n",
    "        \n",
    "    def __call__(self, x):\n",
    "        res = 0\n",
    "        for index, coeff in enumerate(self.coefficients):\n",
    "            res += coeff * x** index\n",
    "        return res\n",
    "# a constant function\n",
    "p1 = Polynomial(42)\n",
    "\n",
    "# a straight Line\n",
    "p2 = Polynomial(0.75, 2)\n",
    "\n",
    "# a third degree Polynomial\n",
    "p3 = Polynomial(1, -0.5, 0.75, 2)\n",
    "\n",
    "for i in range(1, 10):\n",
    "    print(i, p1(i), p2(i), p3(i))\n",
    "```"
   ]
  },
  {
   "cell_type": "markdown",
   "metadata": {
    "slideshow": {
     "slide_type": "subslide"
    }
   },
   "source": [
    "These are the results of the previous function:\n",
    "```\n",
    "1 42 2.75 3.25\n",
    "2 42 3.5 9.5\n",
    "3 42 4.25 26.75\n",
    "4 42 5.0 61.0\n",
    "5 42 5.75 118.25\n",
    "6 42 6.5 204.5\n",
    "7 42 7.25 325.75\n",
    "8 42 8.0 488.0\n",
    "9 42 8.75 697.25\n",
    "```"
   ]
  },
  {
   "cell_type": "markdown",
   "metadata": {
    "slideshow": {
     "slide_type": "subslide"
    }
   },
   "source": [
    "Standard Classes as Base Classes\n",
    "It's possible to use standard classes - like int, float, dict or lists - as base classes as well. "
   ]
  },
  {
   "cell_type": "markdown",
   "metadata": {},
   "source": [
    "We extend the list class by adding a push method:\n",
    "\n",
    "```python\n",
    "class Plist(list):\n",
    "\n",
    "    def __init__(self, l):\n",
    "        list.__init__(self, l)\n",
    "\n",
    "    def push(self, item):\n",
    "        self.append(item)\n",
    "\n",
    "\n",
    "if __name__ == \"__main__\":\n",
    "    x = Plist([3,4])\n",
    "    x.push(47)\n",
    "    print(x)\n",
    "```\n",
    "\n"
   ]
  },
  {
   "cell_type": "markdown",
   "metadata": {},
   "source": [
    "This means that all the previously introduced binary and extended assignment operators exist in the \"reversed\" version as well:\n",
    "* `__radd__`\n",
    "* `__rsub__`\n",
    "* `__rmul__`\n",
    "* ...\n",
    "\n",
    "and so on"
   ]
  },
  {
   "cell_type": "markdown",
   "metadata": {
    "slideshow": {
     "slide_type": "slide"
    }
   },
   "source": [
    "## Exercises"
   ]
  },
  {
   "cell_type": "markdown",
   "metadata": {
    "slideshow": {
     "slide_type": "subslide"
    }
   },
   "source": [
    "\n",
    "\n",
    "#### 1.\n",
    " Canadian money Write a class with the name Ccy, similar to the previously defined Length class. \n",
    "\n",
    "Ccy should contain values in various currencies, e.g. \"EUR\", \"GBP\" or \"USD\". An instance should contain the amount and the currency unit. \n",
    "\n",
    "The class, you are going to design as an excercise, might be best described with the following example session: \n",
    "```python\n",
    ">>> from currencies import Ccy\n",
    ">>> v1 = Ccy(23.43, \"EUR\")\n",
    ">>> v2 = Ccy(19.97, \"USD\")\n",
    ">>> print(v1 + v2)\n",
    "32.89 EUR\n",
    ">>> print(v2 + v1)\n",
    "31.07 USD\n",
    ">>> print(v1 + 3) # an int or a float is considered to be a EUR value\n",
    "27.43 EUR\n",
    ">>> print(3 + v1)\n",
    "27.43 EUR\n",
    ">>> \n",
    "```"
   ]
  },
  {
   "cell_type": "markdown",
   "metadata": {
    "slideshow": {
     "slide_type": "subslide"
    }
   },
   "source": [
    "#### 2.\n",
    "\n",
    "The class CardDeck below represents a pack\n",
    "of cards.\n",
    "Find out how to use magic methods so that the\n",
    "following three standard functions work:\n",
    "\n",
    "```python\n",
    "    >>> import random\n",
    "    >>> deck = CardDeck()\n",
    "    >>> len(deck)\n",
    "    52\n",
    "    >>> print(deck[0])\n",
    "    2♠\n",
    "    >>> print(deck[-1])\n",
    "    A♣\n",
    "    >>> random.choice(deck) in list(deck)\n",
    "    True\n",
    "    >>> random.shuffle(deck)\n",
    "```\n",
    "\n",
    "Tip:\n",
    "If you have lines in the docstring (this string) that look like interactive\n",
    "Python sessions, you can use the doctest module to run and test this code.\n",
    "Credit to Luciano Ramalho and his excellent book Fluent Python, from which\n",
    "I stole this example.\n",
    "\"\"\"\n",
    "\n",
    "\n",
    "```python\n",
    "class CardDeck:\n",
    "    ranks = [str(n) for n in range(2, 11)] + ['J', 'Q', 'K', 'A']\n",
    "    suits = '♠♡♢♣'\n",
    "\n",
    "    def __init__(self):\n",
    "        self._cards = [\n",
    "            rank + suit\n",
    "            for suit in self.suits\n",
    "            for rank in self.ranks\n",
    "        ]\n",
    "\n",
    "```"
   ]
  },
  {
   "cell_type": "markdown",
   "metadata": {
    "slideshow": {
     "slide_type": "subslide"
    }
   },
   "source": [
    "#### Bonus exercise: Polynomial class\n",
    "Create a class that represents polynomials.  You may need to stretch your memory back to high school maths!\n",
    "A polynomial loks like\n",
    "    2(xx) - x + 7\n",
    "And its essential features are the coefficients of each power of x\n",
    "in this example, power-2=2, power-1=-1, power-0=7\n",
    "Credit to Moshe Goldstein\n",
    "\n",
    "```python\n",
    "class Polynomial:\n",
    "    def __init__(self, coefficients):\n",
    "        pass  # TODO\n",
    "\n",
    "    def __str__(self):\n",
    "        pass  # TODO\n",
    "\n",
    "    def __add__(self, poly):\n",
    "        '''returns the result of adding poly from self'''\n",
    "        pass  # TODO\n",
    "\n",
    "    def __sub__(self, poly):\n",
    "        '''returns the result of subtracting poly from self'''\n",
    "        pass  # TODO\n",
    "\n",
    "    def __mul__(self, poly):\n",
    "        '''multiply two polynomials'''\n",
    "        pass  # TODO\n",
    "\n",
    "    def value(self, x):\n",
    "        '''returns the value of the polynomial at point x'''\n",
    "        pass  # TODO\n",
    "\n",
    "    def derivative(self):\n",
    "        '''returns the derivate of the polynomial'''\n",
    "        pass  # TODO\n",
    "```"
   ]
  },
  {
   "cell_type": "markdown",
   "metadata": {
    "slideshow": {
     "slide_type": "slide"
    }
   },
   "source": [
    "<a name=\"mro\"></a>Method Resolution Order (`mro`)\n",
    "---"
   ]
  },
  {
   "cell_type": "code",
   "execution_count": 50,
   "metadata": {
    "slideshow": {
     "slide_type": "subslide"
    }
   },
   "outputs": [
    {
     "name": "stdout",
     "output_type": "stream",
     "text": [
      "MRO:  [<class '__main__.C'>, <class '__main__.A'>, <class '__main__.B'>, <class '__main__.GreatB'>, <class 'object'>]\n",
      "c.a:  A\n",
      "c.b:  B\n",
      "Greetings from Type:  <class '__main__.C'>\n",
      "Greetings from Type:  <class '__main__.C'>\n",
      "Greetings from Type:  <class '__main__.C'>\n"
     ]
    }
   ],
   "source": [
    "class A:\n",
    "    def __init__(self, a):\n",
    "        self.a = a\n",
    "        \n",
    "\n",
    "class GreatB:\n",
    "    \n",
    "    def greetings(self):\n",
    "        print('Greetings from Type: ', self.__class__)\n",
    "        \n",
    "class B(GreatB):\n",
    "    def __init__(self, b):\n",
    "        self.b = b\n",
    "        \n",
    "        \n",
    "class C(A,B):\n",
    "    def __init__(self, a, b):\n",
    "        A.__init__(self, a)\n",
    "        B.__init__(self, b)\n",
    "        \n",
    "print('MRO: ', C.mro())        \n",
    "c = C('A', 'B')\n",
    "print('c.a: ', c.a)\n",
    "print('c.b: ', c.b)\n",
    "\n",
    "c.greetings()\n",
    "super(C, c).greetings()\n",
    "super(B, c).greetings()\n",
    "\n"
   ]
  }
 ],
 "metadata": {
  "kernelspec": {
   "display_name": "Python 3",
   "language": "python",
   "name": "python3"
  },
  "language_info": {
   "codemirror_mode": {
    "name": "ipython",
    "version": 3
   },
   "file_extension": ".py",
   "mimetype": "text/x-python",
   "name": "python",
   "nbconvert_exporter": "python",
   "pygments_lexer": "ipython3",
   "version": "3.7.6"
  }
 },
 "nbformat": 4,
 "nbformat_minor": 2
}
