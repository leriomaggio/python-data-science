{
 "cells": [
  {
   "cell_type": "markdown",
   "id": "d1eb9cff-8082-49d7-b5db-8006b476df93",
   "metadata": {
    "tags": []
   },
   "source": [
    "### Intro to Scientific Python Ecosystem"
   ]
  },
  {
   "cell_type": "code",
   "execution_count": null,
   "id": "f0b90233-2a73-46a4-9717-9a68c365be69",
   "metadata": {},
   "outputs": [],
   "source": [
    "import numpy as np"
   ]
  },
  {
   "cell_type": "code",
   "execution_count": null,
   "id": "b6d27f88-0a85-4498-8ee0-f82eb7f0c90b",
   "metadata": {},
   "outputs": [],
   "source": [
    "!head dummy.csv"
   ]
  },
  {
   "cell_type": "markdown",
   "id": "e5453327-3699-47b0-acc1-8d623c33581f",
   "metadata": {},
   "source": [
    "Read dummy dataset with numpy"
   ]
  },
  {
   "cell_type": "code",
   "execution_count": null,
   "id": "dc6b43b5-c1f3-4b98-ba52-6f0dfd7068d0",
   "metadata": {},
   "outputs": [],
   "source": []
  },
  {
   "cell_type": "code",
   "execution_count": null,
   "id": "b6bc96ae-f431-4c94-948e-8072eff83b4e",
   "metadata": {},
   "outputs": [],
   "source": []
  },
  {
   "cell_type": "code",
   "execution_count": null,
   "id": "8ce3997c-f047-4906-a904-d1f6c82f1d9b",
   "metadata": {},
   "outputs": [],
   "source": []
  },
  {
   "cell_type": "markdown",
   "id": "13a49539-cb86-47a5-8a18-b62bb4c94731",
   "metadata": {},
   "source": [
    "Playing with Attribute of `ndarray`"
   ]
  },
  {
   "cell_type": "code",
   "execution_count": null,
   "id": "e0c385b9-63a1-4e11-8686-2262ba31243c",
   "metadata": {},
   "outputs": [],
   "source": []
  },
  {
   "cell_type": "code",
   "execution_count": null,
   "id": "35705acd-d06d-4fbc-b67c-4fefed7c9bd0",
   "metadata": {},
   "outputs": [],
   "source": []
  },
  {
   "cell_type": "code",
   "execution_count": null,
   "id": "53464ab4-02a0-4fe0-860c-013cb2b0b182",
   "metadata": {},
   "outputs": [],
   "source": []
  },
  {
   "cell_type": "markdown",
   "id": "efff31de-e61e-4f48-ad8f-c28eaba368e7",
   "metadata": {},
   "source": [
    "### Let's switch to some real data"
   ]
  },
  {
   "cell_type": "code",
   "execution_count": null,
   "id": "b8ef92d7-3925-4f11-9ff4-65bace6bb112",
   "metadata": {},
   "outputs": [],
   "source": []
  },
  {
   "cell_type": "markdown",
   "id": "9c8ec418-bdad-4ed8-9943-dfaab66c8e86",
   "metadata": {},
   "source": [
    "#### Slicing"
   ]
  },
  {
   "cell_type": "code",
   "execution_count": null,
   "id": "f75aa7c4-0337-4565-82bd-afb9c1df1515",
   "metadata": {},
   "outputs": [],
   "source": []
  },
  {
   "cell_type": "code",
   "execution_count": null,
   "id": "d9f5ec4f-7590-465e-bb5e-970d833a24de",
   "metadata": {},
   "outputs": [],
   "source": []
  },
  {
   "cell_type": "markdown",
   "id": "c20fb192-4d7e-4922-91c7-1a150b672afb",
   "metadata": {},
   "source": [
    "### Let's talk about patients"
   ]
  },
  {
   "cell_type": "markdown",
   "id": "ccc911c0-c940-4c16-ad3a-91ee62a315c7",
   "metadata": {},
   "source": [
    "1. average inflammations per day (max and min)\n",
    "2. median\n",
    "3. standard deviation"
   ]
  },
  {
   "cell_type": "markdown",
   "id": "a0160c81-f2b3-425c-be31-3ee344c12bf1",
   "metadata": {},
   "source": [
    "#### Compute patient's averages with vanilla python"
   ]
  },
  {
   "cell_type": "code",
   "execution_count": null,
   "id": "2878f7b8-b089-42d5-b431-402a8f4fb2ac",
   "metadata": {},
   "outputs": [],
   "source": []
  },
  {
   "cell_type": "code",
   "execution_count": null,
   "id": "d6bb531a-c593-4c3f-b52d-cd5e0bc9a9bc",
   "metadata": {},
   "outputs": [],
   "source": []
  },
  {
   "cell_type": "markdown",
   "id": "a19477c3-827f-43c1-abd2-d83c4e94327a",
   "metadata": {},
   "source": [
    "#### Use numpy's function `sum`"
   ]
  },
  {
   "cell_type": "code",
   "execution_count": null,
   "id": "af28b81f-36f9-4601-91a6-f8bffd19a7d7",
   "metadata": {},
   "outputs": [],
   "source": []
  },
  {
   "cell_type": "code",
   "execution_count": null,
   "id": "396ea723-60a3-4069-9aae-f21de520d743",
   "metadata": {},
   "outputs": [],
   "source": []
  },
  {
   "cell_type": "code",
   "execution_count": null,
   "id": "e99ce874-4fc3-4076-9e85-429963d25d75",
   "metadata": {},
   "outputs": [],
   "source": []
  },
  {
   "cell_type": "markdown",
   "id": "034ccbd6-d17d-4fae-9daa-57b4bb61647a",
   "metadata": {},
   "source": [
    "#### Use numpy's function `mean`"
   ]
  },
  {
   "cell_type": "markdown",
   "id": "831e598b-e9a2-4372-a3b4-3d16839ea6bb",
   "metadata": {},
   "source": [
    "#### Average of the whole dataset"
   ]
  },
  {
   "cell_type": "markdown",
   "id": "f5607cc2-9c1c-47c1-b50a-d2f5fcf05214",
   "metadata": {},
   "source": [
    "#### Average for each patient"
   ]
  },
  {
   "cell_type": "markdown",
   "id": "6d39950c-cd00-4b77-b491-76f8f53cac82",
   "metadata": {},
   "source": [
    "### Plotting with matplotlib"
   ]
  },
  {
   "cell_type": "code",
   "execution_count": null,
   "id": "b6071cca-ba89-46dd-955e-1e43e24ddbf4",
   "metadata": {},
   "outputs": [],
   "source": [
    "from matplotlib import pyplot as plt"
   ]
  },
  {
   "cell_type": "code",
   "execution_count": null,
   "id": "001a91f0-2164-4ac0-84dd-a3b57fea1b29",
   "metadata": {},
   "outputs": [],
   "source": [
    "# plot a line with the computed means\n",
    "plt.plot(data.mean(axis=1))\n",
    "\n",
    "# set the tile\n",
    "plt.title(\"Avg inflammations per day\")\n",
    "\n",
    "# set the label for the x-axis\n",
    "plt.xlabel(\"Patient ID\")\n",
    "\n",
    "# set the label for the y-axis\n",
    "plt.ylabel(\"Avg inflammations\")"
   ]
  },
  {
   "cell_type": "markdown",
   "id": "058208ca-bd45-453e-8e29-ef3a55c54acc",
   "metadata": {},
   "source": [
    "#### Plot with scatter points instead of a continuous line"
   ]
  },
  {
   "cell_type": "code",
   "execution_count": null,
   "id": "ffca9903-2378-446d-89f7-0c748f4b8a4c",
   "metadata": {},
   "outputs": [],
   "source": [
    "plt.plot(data.mean(axis=1), 'o')\n",
    "\n",
    "plt.title(\"Avg inflammations per day\")\n",
    "plt.xlabel(\"Patient ID\")\n",
    "plt.ylabel(\"Avg inflammations\")"
   ]
  },
  {
   "cell_type": "markdown",
   "id": "2de172dd-0555-4ee7-abe2-d8d4cda953d0",
   "metadata": {},
   "source": [
    "#### Compute mean and standard deviation (i.e. spread) of the distribution"
   ]
  },
  {
   "cell_type": "code",
   "execution_count": null,
   "id": "dd14b83f-4160-4750-9e03-eaa5ce707e90",
   "metadata": {},
   "outputs": [],
   "source": [
    "patient_means = data.mean(axis=1)\n",
    "patient_means.mean(), patient_means.std()"
   ]
  },
  {
   "cell_type": "code",
   "execution_count": null,
   "id": "d2ad4e24-4bd0-4e48-8a33-a95c67f6d6ed",
   "metadata": {},
   "outputs": [],
   "source": [
    "plt.plot(data.mean(axis=1), 'o')\n",
    "\n",
    "# plot an horizontal line\n",
    "plt.axhline(patient_means.mean(), color='k')\n",
    "\n",
    "# plot an horizontal line with a different style\n",
    "plt.axhline(\n",
    "    patient_means.mean() - patient_means.std(), \n",
    "    linestyle='--', \n",
    "    color='k'\n",
    ")\n",
    "plt.axhline(\n",
    "    patient_means.mean() + patient_means.std(), \n",
    "    linestyle='--', \n",
    "    color='k'\n",
    ")\n",
    "\n",
    "plt.title(\"Avg inflammations per day\")\n",
    "plt.xlabel(\"Patient ID\")\n",
    "plt.ylabel(\"Avg inflammations\")"
   ]
  },
  {
   "cell_type": "markdown",
   "id": "e456335d-97cd-468b-a0aa-9cb8e4c26b11",
   "metadata": {},
   "source": [
    "#### Plot the line of a single patient"
   ]
  },
  {
   "cell_type": "code",
   "execution_count": null,
   "id": "69c0737b-7aa6-46f1-b5d0-a8c125ea8836",
   "metadata": {},
   "outputs": [],
   "source": [
    "plt.plot(data[0])"
   ]
  },
  {
   "cell_type": "markdown",
   "id": "717a7d97-b190-40ee-9423-130557b4847d",
   "metadata": {},
   "source": [
    "#### Plot a single line representing the daily averages"
   ]
  },
  {
   "cell_type": "code",
   "execution_count": null,
   "id": "15eac327-08d6-49b1-9256-a1551cdaa09c",
   "metadata": {},
   "outputs": [],
   "source": [
    "plt.plot(data.mean(axis=0))"
   ]
  },
  {
   "cell_type": "markdown",
   "id": "a174ccd0-aa98-4b20-83bb-ea4e6dff0363",
   "metadata": {},
   "source": [
    "#### Try to plot all the lines together"
   ]
  },
  {
   "cell_type": "code",
   "execution_count": null,
   "id": "9751a909-de06-4235-9248-5fcd228dd1fc",
   "metadata": {},
   "outputs": [],
   "source": [
    "# create a figure of a larger size, 20x10 inches\n",
    "plt.figure(figsize=(20, 10))\n",
    "\n",
    "# data.T transposes the matrix, i.e. swap rows and columns\n",
    "# the alpha parameter add some transparency\n",
    "_ = plt.plot(data.T, color='green', alpha=0.1)"
   ]
  },
  {
   "cell_type": "markdown",
   "id": "6719b13c-7874-4091-a74d-f9fa46bf4ab2",
   "metadata": {},
   "source": [
    "#### Visualize the whole dataset with a heatmap"
   ]
  },
  {
   "cell_type": "code",
   "execution_count": null,
   "id": "7be2ac53-3365-47a8-968e-081688a5860d",
   "metadata": {},
   "outputs": [],
   "source": [
    "plt.imshow(data, cmap='Spectral_r')\n",
    "plt.colorbar()"
   ]
  },
  {
   "cell_type": "markdown",
   "id": "c9d4a82f-446f-4572-8703-5eca4b5a6996",
   "metadata": {},
   "source": [
    "#### What can you extrapolate?"
   ]
  },
  {
   "cell_type": "code",
   "execution_count": null,
   "id": "abaeb694-23e9-4727-bf31-7e769f6d070e",
   "metadata": {},
   "outputs": [],
   "source": []
  },
  {
   "cell_type": "code",
   "execution_count": null,
   "id": "c876e3fe-8bf7-43e8-a0d4-50924ba03d7a",
   "metadata": {},
   "outputs": [],
   "source": [
    "iris = sns.load_dataset('iris')"
   ]
  },
  {
   "cell_type": "code",
   "execution_count": null,
   "id": "fb8b88f6-5fa9-4f37-a6b2-adf378095e6b",
   "metadata": {},
   "outputs": [],
   "source": [
    "type(iris)"
   ]
  },
  {
   "cell_type": "code",
   "execution_count": null,
   "id": "4f64fc79-8ab2-4765-8359-084d038977a3",
   "metadata": {},
   "outputs": [],
   "source": [
    "iris"
   ]
  },
  {
   "cell_type": "code",
   "execution_count": null,
   "id": "2d9c8e33-edd2-4d39-81af-9b9807f1a77d",
   "metadata": {},
   "outputs": [],
   "source": []
  }
 ],
 "metadata": {
  "kernelspec": {
   "display_name": "Python 3 (ipykernel)",
   "language": "python",
   "name": "python3"
  },
  "language_info": {
   "codemirror_mode": {
    "name": "ipython",
    "version": 3
   },
   "file_extension": ".py",
   "mimetype": "text/x-python",
   "name": "python",
   "nbconvert_exporter": "python",
   "pygments_lexer": "ipython3",
   "version": "3.9.7"
  }
 },
 "nbformat": 4,
 "nbformat_minor": 5
}
