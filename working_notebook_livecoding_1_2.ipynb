{
 "cells": [
  {
   "cell_type": "markdown",
   "id": "8ab55536-1c75-4728-8a58-a7a66dc3d7db",
   "metadata": {},
   "source": [
    "# Working Notebook\n",
    "\n",
    "Welcome to the _Programming with Python_ course! We will be using this notebook to go through the lecture materials, as well as to work _together_ on practical examples and exercises."
   ]
  },
  {
   "cell_type": "markdown",
   "id": "8376b782-cfd1-48d8-91db-1d53565675cf",
   "metadata": {},
   "source": [
    "## first thing: let's familiarise with the environment\n",
    "\n",
    "Let's talk about **Jupyter Notebooks** for a second."
   ]
  },
  {
   "cell_type": "code",
   "execution_count": 1,
   "id": "f53bb072-e218-492a-bef6-e6d78dc9ffdf",
   "metadata": {},
   "outputs": [],
   "source": [
    "# code cell"
   ]
  },
  {
   "cell_type": "markdown",
   "id": "39a01f33-d622-4c65-a545-ed1b6daebbbe",
   "metadata": {},
   "source": [
    "Text Cell"
   ]
  },
  {
   "cell_type": "markdown",
   "id": "09fc3d70-af6a-418b-8a25-eee3ef6ed71e",
   "metadata": {},
   "source": [
    "### A few useful Keyboard shortcuts for you to remember when working with Notebooks"
   ]
  },
  {
   "cell_type": "markdown",
   "id": "e036eb3b-76f7-4444-affa-9b29b363d9c1",
   "metadata": {},
   "source": [
    "**Change Cell type**\n",
    "\n",
    "1. `Esc, M`: Switch the current cell type to a **Markdown** cell\n",
    "2. `Esc, y`: Switch the current cell type to a **Code** cell\n",
    "\n",
    "**Add/Remove Cells**\n",
    "\n",
    "1. `Esc, A`: Add a new cell _above_ current cell\n",
    "2. `Esc, B`: Add a new cell _below_ current cell\n",
    "3. `Esc, DD`: Delete the current cell\n",
    "\n",
    "**Run current cell**\n",
    "\n",
    "1. `Ctrl + Enter`: Run current cell (and maintain focus on current cell);\n",
    "2. `Shift + Enter`: Run current cell and move focus to next cell."
   ]
  },
  {
   "cell_type": "code",
   "execution_count": null,
   "id": "edbc5494-a5cf-4689-acb0-414de5dfa1ec",
   "metadata": {},
   "outputs": [],
   "source": []
  },
  {
   "cell_type": "code",
   "execution_count": null,
   "id": "fd36f8e1-5b40-411f-beb7-5e6a3e3d47e7",
   "metadata": {},
   "outputs": [],
   "source": []
  },
  {
   "cell_type": "markdown",
   "id": "05bf6893-81bf-4863-a024-b029dad9614a",
   "metadata": {},
   "source": [
    "---"
   ]
  },
  {
   "cell_type": "markdown",
   "id": "8a59ce6b-9cdc-4009-a6c3-f453a8ed00ae",
   "metadata": {},
   "source": [
    "$\\rightarrow$ _Adapted from_ : [**Software Carpentries: Programming with Python**]()\n",
    "\n",
    "## Arthritis Inflammation\n",
    "We are studying **inflammation in patients** who have been given a new treatment for arthritis.\n",
    "\n",
    "There are `60` patients, who had their inflammation levels recorded for `40` days.\n",
    "We want to analyze these recordings to study the effect of the new arthritis treatment.\n",
    "\n",
    "To see how the treatment is affecting the patients in general, we would like to:\n",
    "\n",
    "1. Process the file to extract data for each patient;\n",
    "2. Calculate some statistics on each patient;\n",
    "    - e.g. average inflammation over the `40` days (or `min`, `max` .. and so on)\n",
    "    - e.g average statistics per week (we will assume `40` days account for `5` weeks)\n",
    "    - `...` (open to ideas)\n",
    "3. Calculate some statistics on the dataset.\n",
    "    - e.g. min and max inflammation registered overall in the clinical study;\n",
    "    - e.g. the average inflammation per day across all patients.\n",
    "    - `...` (open to ideas)\n",
    "\n",
    "\n",
    "![3-step flowchart shows inflammation data records for patients moving to the Analysis step\n",
    "where a heat map of provided data is generated moving to the Conclusion step that asks the\n",
    "question, How does the medication affect patients?](\n",
    "https://raw.githubusercontent.com/swcarpentry/python-novice-inflammation/gh-pages/fig/lesson-overview.svg \"Lesson Overview\")\n",
    "\n",
    "\n",
    "### Data Format\n",
    "\n",
    "The data sets are stored in\n",
    "[comma-separated values] (CSV) format:\n",
    "\n",
    "- each row holds information for a single patient,\n",
    "- columns represent successive days.\n",
    "\n",
    "The first three rows of our first file look like this:\n",
    "~~~\n",
    "0,0,1,3,1,2,4,7,8,3,3,3,10,5,7,4,7,7,12,18,6,13,11,11,7,7,4,6,8,8,4,4,5,7,3,4,2,3,0,0\n",
    "0,1,2,1,2,1,3,2,2,6,10,11,5,9,4,4,7,16,8,6,18,4,12,5,12,7,11,5,11,3,3,5,4,4,5,5,1,1,0,1\n",
    "0,1,1,3,3,2,6,2,5,9,5,7,4,5,4,15,5,11,9,10,19,14,12,17,7,12,11,7,4,2,10,5,4,2,2,3,2,2,1,1\n",
    "~~~\n",
    "\n",
    "Each number represents the number of inflammation bouts that a particular patient experienced on a\n",
    "given day.\n",
    "\n",
    "For example, value \"6\" at row 3 column 7 of the data set above means that the third\n",
    "patient was experiencing inflammation six times on the seventh day of the clinical study.\n",
    "\n",
    "Our **task** is to gather as much information as possible from the dataset, and to report back to colleagues to foster future discussions."
   ]
  },
  {
   "cell_type": "markdown",
   "id": "31f65289-4826-49db-b213-5152e363f9db",
   "metadata": {},
   "source": [
    "### Let'make a plan\n",
    "\n",
    "- Problem description (step by step) in NATURAL LANGUAGE (**strict rule**) - imagine you're explaining this to someone who doesn't know **anything** about programming.\n",
    "- What do we need to start\n",
    "- Where do we start"
   ]
  },
  {
   "cell_type": "markdown",
   "id": "b8cbf967-33d1-4f24-a5de-d680787245a8",
   "metadata": {},
   "source": [
    "I'll go first - let's create a dummy file to practice named dummy, three rows, 7 values\n",
    "\n",
    "1. read the file\n",
    "    - read the file one line at a time\n",
    "2. store the data from the file into a data structure or format"
   ]
  },
  {
   "cell_type": "code",
   "execution_count": 2,
   "id": "6cf6afcb-d86e-47de-b9f8-4a088e95392f",
   "metadata": {},
   "outputs": [],
   "source": [
    "dummy_datafile = open(\"dummy.csv\")"
   ]
  },
  {
   "cell_type": "code",
   "execution_count": 3,
   "id": "0b4c4c53-9451-455a-806b-52561209b644",
   "metadata": {},
   "outputs": [],
   "source": [
    "patients = [] # list()\n",
    "\n",
    "for line in dummy_datafile:\n",
    "    patients.append(line)"
   ]
  },
  {
   "cell_type": "code",
   "execution_count": 4,
   "id": "87cc51c4-1da4-404c-a15e-80705dbc6fae",
   "metadata": {},
   "outputs": [
    {
     "name": "stdout",
     "output_type": "stream",
     "text": [
      "['0,0,1,3,1,2,4\\n', '0,1,2,1,2,1,3\\n', '0,1,1,3,3,2,6']\n"
     ]
    }
   ],
   "source": [
    "print(patients)"
   ]
  },
  {
   "cell_type": "markdown",
   "id": "7bd86369-ec6b-4623-b32b-d27b280591dc",
   "metadata": {},
   "source": [
    "### Small Diversion about **Python Typing Mechanism**"
   ]
  },
  {
   "cell_type": "markdown",
   "id": "18f96423-02b0-44c6-9e95-a92d4a7e4e43",
   "metadata": {},
   "source": [
    "1. Python typing is _dynamic_ (as opposed to _static_): each variable gets its type by the value it's been assigned to. No need to declare a type for a variable. \n",
    "\n",
    "2. Python typing is _strong_ (as opposed to _weak_): the type of each variable will always remain the same, unless the variable is re-defined, or explicitly casted to another compatible type!"
   ]
  },
  {
   "cell_type": "code",
   "execution_count": 5,
   "id": "b2d0e12d-3ee6-478f-a855-7bd559e69a6d",
   "metadata": {},
   "outputs": [],
   "source": [
    "name = \"valerio\""
   ]
  },
  {
   "cell_type": "code",
   "execution_count": 6,
   "id": "3378572c-4dec-4425-915a-fa9247a99eb1",
   "metadata": {},
   "outputs": [
    {
     "data": {
      "text/plain": [
       "str"
      ]
     },
     "execution_count": 6,
     "metadata": {},
     "output_type": "execute_result"
    }
   ],
   "source": [
    "type(name)"
   ]
  },
  {
   "cell_type": "code",
   "execution_count": 7,
   "id": "f34b0f6a-2ddf-4fb9-b908-ee1d4cfb4f74",
   "metadata": {},
   "outputs": [
    {
     "ename": "TypeError",
     "evalue": "unsupported operand type(s) for /: 'str' and 'int'",
     "output_type": "error",
     "traceback": [
      "\u001b[0;31m---------------------------------------------------------------------------\u001b[0m",
      "\u001b[0;31mTypeError\u001b[0m                                 Traceback (most recent call last)",
      "\u001b[0;32m/var/folders/16/xdrp9d8s5510rt6fwr4j6llr0000gn/T/ipykernel_3336/540525867.py\u001b[0m in \u001b[0;36m<module>\u001b[0;34m\u001b[0m\n\u001b[0;32m----> 1\u001b[0;31m \u001b[0mname\u001b[0m \u001b[0;34m/\u001b[0m \u001b[0;36m2\u001b[0m\u001b[0;34m\u001b[0m\u001b[0;34m\u001b[0m\u001b[0m\n\u001b[0m",
      "\u001b[0;31mTypeError\u001b[0m: unsupported operand type(s) for /: 'str' and 'int'"
     ]
    }
   ],
   "source": [
    "name / 2"
   ]
  },
  {
   "cell_type": "code",
   "execution_count": null,
   "id": "bffe4f2d-61d7-485d-b9c3-e83a6ff3354c",
   "metadata": {},
   "outputs": [],
   "source": [
    "name * \"maggio\""
   ]
  },
  {
   "cell_type": "code",
   "execution_count": 8,
   "id": "ab1a6760-b666-40e0-a049-dd9a61e5922f",
   "metadata": {},
   "outputs": [],
   "source": [
    "name = 2"
   ]
  },
  {
   "cell_type": "markdown",
   "id": "7dccc182-b105-40bb-b115-846bbf078f2f",
   "metadata": {},
   "source": [
    "#### Going back to our Data case"
   ]
  },
  {
   "cell_type": "code",
   "execution_count": 9,
   "id": "83f71ca3-14ec-4a00-b0e9-88ba1a9e5748",
   "metadata": {},
   "outputs": [
    {
     "data": {
      "text/plain": [
       "['0,0,1,3,1,2,4\\n', '0,1,2,1,2,1,3\\n', '0,1,1,3,3,2,6']"
      ]
     },
     "execution_count": 9,
     "metadata": {},
     "output_type": "execute_result"
    }
   ],
   "source": [
    "patients"
   ]
  },
  {
   "cell_type": "code",
   "execution_count": 10,
   "id": "a75846a5-c0f6-49c9-ace5-b1f364e4846b",
   "metadata": {},
   "outputs": [
    {
     "name": "stdout",
     "output_type": "stream",
     "text": [
      "Patient info: 0,0,1,3,1,2,4\n",
      "\n",
      "Patient info: 0,1,2,1,2,1,3\n",
      "\n",
      "Patient info: 0,1,1,3,3,2,6\n"
     ]
    }
   ],
   "source": [
    "for patient in patients:\n",
    "    print(\"Patient info: \" + patient)"
   ]
  },
  {
   "cell_type": "markdown",
   "id": "aa16a789-4cca-4ca5-b232-5d67ffedc296",
   "metadata": {},
   "source": [
    "### Storing the data from file in a better format:"
   ]
  },
  {
   "cell_type": "code",
   "execution_count": 11,
   "id": "ca3540e5-80bc-43ae-9dac-9f3b9760b095",
   "metadata": {},
   "outputs": [],
   "source": [
    "dummy_datafile.close()  # first we need to close the file handler previously opened, otherwise the buffer has been read already and there's nothing else to read."
   ]
  },
  {
   "cell_type": "code",
   "execution_count": 12,
   "id": "60493a2b-6a43-45d6-b67c-6bfd967211c5",
   "metadata": {},
   "outputs": [],
   "source": [
    "patients = []\n",
    "\n",
    "with open(\"dummy.csv\") as dummy_datafile:\n",
    "    for line in dummy_datafile:\n",
    "        line = line.strip()\n",
    "        if (len(line) == 0):\n",
    "            continue\n",
    "        inflammation_data = line.split(\",\")\n",
    "        patients.append(inflammation_data)\n",
    "        "
   ]
  },
  {
   "cell_type": "code",
   "execution_count": 13,
   "id": "25285a44-dd0c-41a5-a7cc-3e22f74b0a5b",
   "metadata": {},
   "outputs": [
    {
     "data": {
      "text/plain": [
       "[['0', '0', '1', '3', '1', '2', '4'],\n",
       " ['0', '1', '2', '1', '2', '1', '3'],\n",
       " ['0', '1', '1', '3', '3', '2', '6']]"
      ]
     },
     "execution_count": 13,
     "metadata": {},
     "output_type": "execute_result"
    }
   ],
   "source": [
    "patients"
   ]
  },
  {
   "cell_type": "markdown",
   "id": "8772ca9b-80a6-4794-8039-654e0294450d",
   "metadata": {},
   "source": [
    "Play with what we have so far: iteration"
   ]
  },
  {
   "cell_type": "code",
   "execution_count": 14,
   "id": "38f35ae1-ce44-47f5-9265-2f32ec3bfad1",
   "metadata": {},
   "outputs": [
    {
     "name": "stdout",
     "output_type": "stream",
     "text": [
      "<class 'list'>\n",
      "<class 'list'>\n",
      "<class 'list'>\n"
     ]
    }
   ],
   "source": [
    "for patient in patients:\n",
    "    print(type(patient))"
   ]
  },
  {
   "cell_type": "code",
   "execution_count": 15,
   "id": "1e200c2d-49de-4e82-a919-78eef3e68d2b",
   "metadata": {},
   "outputs": [
    {
     "data": {
      "text/plain": [
       "'0'"
      ]
     },
     "execution_count": 15,
     "metadata": {},
     "output_type": "execute_result"
    }
   ],
   "source": [
    "patients[0][0]"
   ]
  },
  {
   "cell_type": "code",
   "execution_count": 16,
   "id": "ca5b76db-ae95-47bf-9303-4a72d04632cb",
   "metadata": {},
   "outputs": [
    {
     "data": {
      "text/plain": [
       "['0', '1', '1']"
      ]
     },
     "execution_count": 16,
     "metadata": {},
     "output_type": "execute_result"
    }
   ],
   "source": [
    "patients[2][:3]"
   ]
  },
  {
   "cell_type": "markdown",
   "id": "68e0ce79-78ee-40a6-b8e0-eef3ff3ec819",
   "metadata": {},
   "source": [
    "(_fancy word_) **Slicing**"
   ]
  },
  {
   "cell_type": "markdown",
   "id": "b17eb294-bd53-4489-9138-10a84e17bf08",
   "metadata": {},
   "source": [
    "![slicing example](https://swcarpentry.github.io/python-novice-inflammation/fig/python-zero-index.svg)"
   ]
  },
  {
   "cell_type": "markdown",
   "id": "712bb90e-c2f9-4f22-be2b-65afc16400a4",
   "metadata": {},
   "source": [
    "Source: [Software Carpentries](https://swcarpentry.github.io/python-novice-inflammation/02-numpy/index.html)"
   ]
  },
  {
   "cell_type": "code",
   "execution_count": null,
   "id": "868a1b97-f825-488a-bf3a-984949111895",
   "metadata": {},
   "outputs": [],
   "source": []
  },
  {
   "cell_type": "code",
   "execution_count": null,
   "id": "61b2cb3c-9686-434c-8eba-efffd0cae647",
   "metadata": {},
   "outputs": [],
   "source": []
  },
  {
   "cell_type": "markdown",
   "id": "a947bde6-c61a-4aef-b1af-a9e6b31d33ce",
   "metadata": {},
   "source": [
    "Now let's move to the _real_ data file: **how can we re-use the same algorithm?**"
   ]
  },
  {
   "cell_type": "markdown",
   "id": "3cead2a5-a361-4f09-ba85-5c55cb698181",
   "metadata": {},
   "source": [
    "### TYPE HINT\n",
    "\n",
    "#### Python 3.8\n",
    "\n",
    "```python\n",
    "# BASIC TYPES : bool, int, float, str\n",
    "\n",
    "from typing import List\n",
    "from typing import Dict\n",
    "\n",
    "def function(param1: int, param2: str) -> List[int]:\n",
    "    pass\n",
    "\n",
    "```\n",
    "\n",
    "Since Python 3.9\n",
    "\n",
    "```python\n",
    "def function(p1: int, p2:str) -> list:\n",
    "    pass\n",
    "```\n",
    "\n",
    "\n"
   ]
  },
  {
   "cell_type": "markdown",
   "id": "eb7ff6d5-38d5-469e-8796-568789bb59aa",
   "metadata": {},
   "source": [
    "Play with type hint"
   ]
  },
  {
   "cell_type": "code",
   "execution_count": 17,
   "id": "1de7c65f-b6a9-4906-9008-654520b2c1b7",
   "metadata": {},
   "outputs": [
    {
     "data": {
      "text/plain": [
       "'valeriomaggio'"
      ]
     },
     "execution_count": 17,
     "metadata": {},
     "output_type": "execute_result"
    }
   ],
   "source": [
    "def concat(first: str, second: str) -> str: \n",
    "    return first + second\n",
    "\n",
    "concat(\"valerio\", \"maggio\")"
   ]
  },
  {
   "cell_type": "code",
   "execution_count": 18,
   "id": "e0d4c715-0f06-4752-88d7-98514c0b20c5",
   "metadata": {},
   "outputs": [
    {
     "data": {
      "text/plain": [
       "3"
      ]
     },
     "execution_count": 18,
     "metadata": {},
     "output_type": "execute_result"
    }
   ],
   "source": [
    "concat(1, 2)"
   ]
  },
  {
   "cell_type": "code",
   "execution_count": 19,
   "id": "4a4b1259-c747-4bfe-bf2f-83c34fc44f4f",
   "metadata": {},
   "outputs": [
    {
     "ename": "TypeError",
     "evalue": "can only concatenate str (not \"int\") to str",
     "output_type": "error",
     "traceback": [
      "\u001b[0;31m---------------------------------------------------------------------------\u001b[0m",
      "\u001b[0;31mTypeError\u001b[0m                                 Traceback (most recent call last)",
      "\u001b[0;32m/var/folders/16/xdrp9d8s5510rt6fwr4j6llr0000gn/T/ipykernel_3336/1777194265.py\u001b[0m in \u001b[0;36m<module>\u001b[0;34m\u001b[0m\n\u001b[0;32m----> 1\u001b[0;31m \u001b[0mconcat\u001b[0m\u001b[0;34m(\u001b[0m\u001b[0;34m\"name\"\u001b[0m\u001b[0;34m,\u001b[0m \u001b[0;36m32\u001b[0m\u001b[0;34m)\u001b[0m\u001b[0;34m\u001b[0m\u001b[0;34m\u001b[0m\u001b[0m\n\u001b[0m",
      "\u001b[0;32m/var/folders/16/xdrp9d8s5510rt6fwr4j6llr0000gn/T/ipykernel_3336/2105976031.py\u001b[0m in \u001b[0;36mconcat\u001b[0;34m(first, second)\u001b[0m\n\u001b[1;32m      1\u001b[0m \u001b[0;32mdef\u001b[0m \u001b[0mconcat\u001b[0m\u001b[0;34m(\u001b[0m\u001b[0mfirst\u001b[0m\u001b[0;34m:\u001b[0m \u001b[0mstr\u001b[0m\u001b[0;34m,\u001b[0m \u001b[0msecond\u001b[0m\u001b[0;34m:\u001b[0m \u001b[0mstr\u001b[0m\u001b[0;34m)\u001b[0m \u001b[0;34m->\u001b[0m \u001b[0mstr\u001b[0m\u001b[0;34m:\u001b[0m\u001b[0;34m\u001b[0m\u001b[0;34m\u001b[0m\u001b[0m\n\u001b[0;32m----> 2\u001b[0;31m     \u001b[0;32mreturn\u001b[0m \u001b[0mfirst\u001b[0m \u001b[0;34m+\u001b[0m \u001b[0msecond\u001b[0m\u001b[0;34m\u001b[0m\u001b[0;34m\u001b[0m\u001b[0m\n\u001b[0m\u001b[1;32m      3\u001b[0m \u001b[0;34m\u001b[0m\u001b[0m\n\u001b[1;32m      4\u001b[0m \u001b[0mconcat\u001b[0m\u001b[0;34m(\u001b[0m\u001b[0;34m\"valerio\"\u001b[0m\u001b[0;34m,\u001b[0m \u001b[0;34m\"maggio\"\u001b[0m\u001b[0;34m)\u001b[0m\u001b[0;34m\u001b[0m\u001b[0;34m\u001b[0m\u001b[0m\n",
      "\u001b[0;31mTypeError\u001b[0m: can only concatenate str (not \"int\") to str"
     ]
    }
   ],
   "source": [
    "concat(\"name\", 32)"
   ]
  },
  {
   "cell_type": "code",
   "execution_count": 20,
   "id": "6866f778-3b98-4114-8bbb-8764eccf0c1c",
   "metadata": {},
   "outputs": [],
   "source": [
    "def process_inflammation_data(datafile_path: str) -> list:\n",
    "    \"\"\"\n",
    "    Process the input CSV file (specified by the filepath) and \n",
    "    collect all the inflammatory levels recorded for each patient.\n",
    "    \n",
    "    The function returns a list of all patient data.\n",
    "    \"\"\"\n",
    "    patients = []\n",
    "    with open(datafile_path) as datafile:\n",
    "        for line in datafile:\n",
    "            line = line.strip()\n",
    "            if not line:  ## line is empty line\n",
    "                continue\n",
    "            patient_data = []\n",
    "            for value in line.split(\",\"):\n",
    "                patient_data.append(int(value))\n",
    "            patients.append(patient_data)\n",
    "            \n",
    "    return patients"
   ]
  },
  {
   "cell_type": "code",
   "execution_count": 21,
   "id": "84e9f8df-5a87-47f8-8fcb-e22e951e52d6",
   "metadata": {},
   "outputs": [
    {
     "data": {
      "text/plain": [
       "[[0, 0, 1, 3, 1, 2, 4], [0, 1, 2, 1, 2, 1, 3], [0, 1, 1, 3, 3, 2, 6]]"
      ]
     },
     "execution_count": 21,
     "metadata": {},
     "output_type": "execute_result"
    }
   ],
   "source": [
    "process_inflammation_data(\"dummy.csv\")"
   ]
  },
  {
   "cell_type": "code",
   "execution_count": 22,
   "id": "a08a0310-5226-4c50-8478-5a82105f3035",
   "metadata": {},
   "outputs": [],
   "source": [
    "from pathlib import Path\n",
    "from os import path\n",
    "\n",
    "BASE_PATH = Path(path.abspath(path.curdir))\n",
    "\n",
    "DATA_FOLDER = BASE_PATH / \"data\""
   ]
  },
  {
   "cell_type": "code",
   "execution_count": 23,
   "id": "4fd64f42-ae98-42ae-9036-bc3423fcbb7f",
   "metadata": {},
   "outputs": [
    {
     "name": "stdout",
     "output_type": "stream",
     "text": [
      "/Users/valerio/Research/UoB/lectures/fbk-academy/2021/python-data-science\n"
     ]
    }
   ],
   "source": [
    "print(BASE_PATH)"
   ]
  },
  {
   "cell_type": "code",
   "execution_count": 24,
   "id": "123db69b-10ed-43ad-8f47-c447794129dd",
   "metadata": {},
   "outputs": [
    {
     "name": "stdout",
     "output_type": "stream",
     "text": [
      "/Users/valerio/Research/UoB/lectures/fbk-academy/2021/python-data-science/data\n"
     ]
    }
   ],
   "source": [
    "print(DATA_FOLDER)"
   ]
  },
  {
   "cell_type": "code",
   "execution_count": 25,
   "id": "9796cdca-35fa-44f0-b12e-34f8a7e661d0",
   "metadata": {},
   "outputs": [
    {
     "data": {
      "text/plain": [
       "pathlib.PosixPath"
      ]
     },
     "execution_count": 25,
     "metadata": {},
     "output_type": "execute_result"
    }
   ],
   "source": [
    "type(DATA_FOLDER)"
   ]
  },
  {
   "cell_type": "code",
   "execution_count": 26,
   "id": "0972b56c-89a1-4563-b2f4-7f5652abef47",
   "metadata": {},
   "outputs": [
    {
     "name": "stdout",
     "output_type": "stream",
     "text": [
      "<class 'pathlib.PosixPath'>\n"
     ]
    }
   ],
   "source": [
    "data_filepath = DATA_FOLDER / \"inflammation-01.csv\"\n",
    "print(type(data_filepath))"
   ]
  },
  {
   "cell_type": "code",
   "execution_count": 27,
   "id": "183ca8ec-ecc9-4048-9da7-153837ee1f3d",
   "metadata": {},
   "outputs": [
    {
     "name": "stdout",
     "output_type": "stream",
     "text": [
      "/Users/valerio/Research/UoB/lectures/fbk-academy/2021/python-data-science/data/inflammation-01.csv\n"
     ]
    }
   ],
   "source": [
    "print(data_filepath)"
   ]
  },
  {
   "cell_type": "code",
   "execution_count": 28,
   "id": "43faf853-d919-4d87-8e22-388c7ee45a57",
   "metadata": {},
   "outputs": [],
   "source": [
    "patients_inflammation = process_inflammation_data(data_filepath)"
   ]
  },
  {
   "cell_type": "code",
   "execution_count": 29,
   "id": "749388c8-62a2-4cfc-bde1-a63533e4ded5",
   "metadata": {},
   "outputs": [
    {
     "data": {
      "text/plain": [
       "list"
      ]
     },
     "execution_count": 29,
     "metadata": {},
     "output_type": "execute_result"
    }
   ],
   "source": [
    "type(patients_inflammation)"
   ]
  },
  {
   "cell_type": "markdown",
   "id": "c6f34a5d-3bc7-47a2-bb31-4272970e5299",
   "metadata": {},
   "source": [
    "_now we have 60 patiens to deal with_ - how can we do that?"
   ]
  },
  {
   "cell_type": "code",
   "execution_count": 30,
   "id": "257289a9-adfd-462c-9731-0971255fd016",
   "metadata": {},
   "outputs": [
    {
     "name": "stdout",
     "output_type": "stream",
     "text": [
      "60\n"
     ]
    }
   ],
   "source": [
    "print(len(patients_inflammation))"
   ]
  },
  {
   "cell_type": "code",
   "execution_count": 31,
   "id": "4df67359-ea08-40ff-8b79-d077aa117de0",
   "metadata": {},
   "outputs": [
    {
     "data": {
      "text/plain": [
       "True"
      ]
     },
     "execution_count": 31,
     "metadata": {},
     "output_type": "execute_result"
    }
   ],
   "source": [
    "len(patients_inflammation) == 60"
   ]
  },
  {
   "cell_type": "code",
   "execution_count": 32,
   "id": "0d8f7314-630c-40a0-9b10-1b2567f68f6d",
   "metadata": {},
   "outputs": [],
   "source": [
    "assert len(patients_inflammation) == 60, \"WARNING: Patients recorded were expected to be 60 but instead are {}\".format(\n",
    "    len(patients_inflammation))"
   ]
  },
  {
   "cell_type": "code",
   "execution_count": 33,
   "id": "ba968bea-633c-433a-8010-cbb3afccae8e",
   "metadata": {},
   "outputs": [
    {
     "ename": "AssertionError",
     "evalue": "No way, go back to Primary School",
     "output_type": "error",
     "traceback": [
      "\u001b[0;31m---------------------------------------------------------------------------\u001b[0m",
      "\u001b[0;31mAssertionError\u001b[0m                            Traceback (most recent call last)",
      "\u001b[0;32m/var/folders/16/xdrp9d8s5510rt6fwr4j6llr0000gn/T/ipykernel_3336/39135228.py\u001b[0m in \u001b[0;36m<module>\u001b[0;34m\u001b[0m\n\u001b[1;32m      1\u001b[0m \u001b[0;31m# demonstration of assert statement\u001b[0m\u001b[0;34m\u001b[0m\u001b[0;34m\u001b[0m\u001b[0m\n\u001b[0;32m----> 2\u001b[0;31m \u001b[0;32massert\u001b[0m \u001b[0;36m5\u001b[0m \u001b[0;34m<\u001b[0m \u001b[0;36m2\u001b[0m\u001b[0;34m,\u001b[0m \u001b[0;34m\"No way, go back to Primary School\"\u001b[0m\u001b[0;34m\u001b[0m\u001b[0;34m\u001b[0m\u001b[0m\n\u001b[0m",
      "\u001b[0;31mAssertionError\u001b[0m: No way, go back to Primary School"
     ]
    }
   ],
   "source": [
    "# demonstration of assert statement\n",
    "assert 5 < 2, \"No way, go back to Primary School\""
   ]
  },
  {
   "cell_type": "markdown",
   "id": "d40af9a9-236c-4679-abee-d521a9562d95",
   "metadata": {},
   "source": [
    "1. Asserting that we indeed have 40 values per each patient\n",
    "2. Make assertive (defensive) programming in a more structured way"
   ]
  },
  {
   "cell_type": "code",
   "execution_count": 34,
   "id": "adb5f120-e291-4cea-a952-04ca4047691f",
   "metadata": {},
   "outputs": [],
   "source": [
    "from typing import List\n",
    "\n",
    "Dataset = List[List[int]]"
   ]
  },
  {
   "cell_type": "code",
   "execution_count": 35,
   "id": "f5cba9d2-54f3-4086-b79b-f58b9a3886f8",
   "metadata": {},
   "outputs": [],
   "source": [
    "def test_dataset_contains_60_patients(data: Dataset):\n",
    "    assert len(data) == 60, \"Error, Expected 60, found {}\".format(len(data))"
   ]
  },
  {
   "cell_type": "code",
   "execution_count": 36,
   "id": "25362a48-6b6d-416c-9765-254817a015ce",
   "metadata": {},
   "outputs": [],
   "source": [
    "test_dataset_contains_60_patients(patients_inflammation)"
   ]
  },
  {
   "cell_type": "code",
   "execution_count": 37,
   "id": "8ab1f174-d9de-4527-89c2-6fdb74f9d4d6",
   "metadata": {},
   "outputs": [],
   "source": [
    "def test_each_patient_has_40_recorded_values(data: Dataset):\n",
    "    \n",
    "    for i, patient in enumerate(data):\n",
    "        assert len(patient) == 40, \"Error: Patient Nr. {} has {} recorded values\".format(i, len(patient))\n",
    "        \n",
    "test_each_patient_has_40_recorded_values(patients_inflammation)"
   ]
  },
  {
   "cell_type": "markdown",
   "id": "5d94e945-04e9-4944-8bf1-0662e2ca19db",
   "metadata": {},
   "source": [
    "## Diversion about side effects and MUTABLE Sequences"
   ]
  },
  {
   "cell_type": "code",
   "execution_count": 38,
   "id": "3b004497-b6f1-4dd2-ba39-d3c9d5b9d92d",
   "metadata": {},
   "outputs": [],
   "source": [
    "sequence = [1, 2, 3, 4, 5, 6]\n",
    "\n",
    "def nasty_function(seq: list):\n",
    "    for item in seq:\n",
    "        print(item)\n",
    "    seq.append(\"NOISE\")\n",
    "    \n",
    "    "
   ]
  },
  {
   "cell_type": "code",
   "execution_count": 39,
   "id": "3f21ab13-55bc-4b4d-8884-ff024342b6c2",
   "metadata": {},
   "outputs": [
    {
     "name": "stdout",
     "output_type": "stream",
     "text": [
      "1\n",
      "2\n",
      "3\n",
      "4\n",
      "5\n",
      "6\n"
     ]
    }
   ],
   "source": [
    "nasty_function(sequence)"
   ]
  },
  {
   "cell_type": "code",
   "execution_count": 40,
   "id": "f6a57006-a1fd-4951-ba67-de7bd8402316",
   "metadata": {},
   "outputs": [
    {
     "name": "stdout",
     "output_type": "stream",
     "text": [
      "[1, 2, 3, 4, 5, 6, 'NOISE']\n"
     ]
    }
   ],
   "source": [
    "print(sequence)"
   ]
  },
  {
   "cell_type": "code",
   "execution_count": 41,
   "id": "eb0b4e02-e202-474d-8c47-639572f14053",
   "metadata": {},
   "outputs": [
    {
     "data": {
      "text/plain": [
       "tuple"
      ]
     },
     "execution_count": 41,
     "metadata": {},
     "output_type": "execute_result"
    }
   ],
   "source": [
    "sequence = (1, 2, 3, 4, 5, 6)\n",
    "\n",
    "type(sequence)"
   ]
  },
  {
   "cell_type": "code",
   "execution_count": 42,
   "id": "675c2ff0-a6ca-49b4-8a42-7b7b3ae1b7ca",
   "metadata": {},
   "outputs": [
    {
     "name": "stdout",
     "output_type": "stream",
     "text": [
      "1\n",
      "2\n",
      "3\n",
      "4\n",
      "5\n",
      "6\n"
     ]
    },
    {
     "ename": "AttributeError",
     "evalue": "'tuple' object has no attribute 'append'",
     "output_type": "error",
     "traceback": [
      "\u001b[0;31m---------------------------------------------------------------------------\u001b[0m",
      "\u001b[0;31mAttributeError\u001b[0m                            Traceback (most recent call last)",
      "\u001b[0;32m/var/folders/16/xdrp9d8s5510rt6fwr4j6llr0000gn/T/ipykernel_3336/885168239.py\u001b[0m in \u001b[0;36m<module>\u001b[0;34m\u001b[0m\n\u001b[0;32m----> 1\u001b[0;31m \u001b[0mnasty_function\u001b[0m\u001b[0;34m(\u001b[0m\u001b[0msequence\u001b[0m\u001b[0;34m)\u001b[0m\u001b[0;34m\u001b[0m\u001b[0;34m\u001b[0m\u001b[0m\n\u001b[0m",
      "\u001b[0;32m/var/folders/16/xdrp9d8s5510rt6fwr4j6llr0000gn/T/ipykernel_3336/691107283.py\u001b[0m in \u001b[0;36mnasty_function\u001b[0;34m(seq)\u001b[0m\n\u001b[1;32m      4\u001b[0m     \u001b[0;32mfor\u001b[0m \u001b[0mitem\u001b[0m \u001b[0;32min\u001b[0m \u001b[0mseq\u001b[0m\u001b[0;34m:\u001b[0m\u001b[0;34m\u001b[0m\u001b[0;34m\u001b[0m\u001b[0m\n\u001b[1;32m      5\u001b[0m         \u001b[0mprint\u001b[0m\u001b[0;34m(\u001b[0m\u001b[0mitem\u001b[0m\u001b[0;34m)\u001b[0m\u001b[0;34m\u001b[0m\u001b[0;34m\u001b[0m\u001b[0m\n\u001b[0;32m----> 6\u001b[0;31m     \u001b[0mseq\u001b[0m\u001b[0;34m.\u001b[0m\u001b[0mappend\u001b[0m\u001b[0;34m(\u001b[0m\u001b[0;34m\"NOISE\"\u001b[0m\u001b[0;34m)\u001b[0m\u001b[0;34m\u001b[0m\u001b[0;34m\u001b[0m\u001b[0m\n\u001b[0m\u001b[1;32m      7\u001b[0m \u001b[0;34m\u001b[0m\u001b[0m\n\u001b[1;32m      8\u001b[0m \u001b[0;34m\u001b[0m\u001b[0m\n",
      "\u001b[0;31mAttributeError\u001b[0m: 'tuple' object has no attribute 'append'"
     ]
    }
   ],
   "source": [
    "nasty_function(sequence)"
   ]
  },
  {
   "cell_type": "code",
   "execution_count": 43,
   "id": "2496ab99-8f25-4abe-a156-39da6b8b1bc6",
   "metadata": {},
   "outputs": [],
   "source": [
    "from typing import List, Tuple\n",
    "\n",
    "Dataset = List[Tuple[int]]\n",
    "\n",
    "def process_inflammation_data(datafile_path: str) -> Dataset:\n",
    "    \"\"\"\n",
    "    Process the input CSV file (specified by the filepath) and \n",
    "    collect all the inflammatory levels recorded for each patient.\n",
    "    \n",
    "    The function returns a list of all patient data.\n",
    "    \"\"\"\n",
    "    patients = []\n",
    "    with open(datafile_path) as datafile:\n",
    "        for line in datafile:\n",
    "            line = line.strip()\n",
    "            if not line:  ## line is empty line\n",
    "                continue\n",
    "            patient_data = []\n",
    "            for value in line.split(\",\"):\n",
    "                patient_data.append(int(value))\n",
    "            # Convert into an immutable sequence    \n",
    "            patient_data = tuple(patient_data)\n",
    "            patients.append(patient_data)\n",
    "            \n",
    "    return patients"
   ]
  },
  {
   "cell_type": "code",
   "execution_count": 44,
   "id": "cc2237ba-d888-418c-b6f6-4100dcef670b",
   "metadata": {},
   "outputs": [],
   "source": [
    "patients_inflammation = process_inflammation_data(data_filepath)"
   ]
  },
  {
   "cell_type": "code",
   "execution_count": 45,
   "id": "6c54e04c-9c59-4023-a2d6-83d9fee5a202",
   "metadata": {},
   "outputs": [],
   "source": [
    "test_dataset_contains_60_patients(patients_inflammation)"
   ]
  },
  {
   "cell_type": "code",
   "execution_count": 46,
   "id": "9b37ac0d-51a7-4b1d-b13c-0c166cf800a0",
   "metadata": {},
   "outputs": [],
   "source": [
    "test_each_patient_has_40_recorded_values(patients_inflammation)"
   ]
  },
  {
   "cell_type": "markdown",
   "id": "7545c8de-4946-47e4-868d-51e3f05eb8fa",
   "metadata": {},
   "source": [
    "What if we also add in a reference ID for each patient? (see `data/inflammation02.csv`)"
   ]
  },
  {
   "cell_type": "code",
   "execution_count": 47,
   "id": "401d50af-6438-4dc0-ac94-712cefb201c8",
   "metadata": {},
   "outputs": [],
   "source": [
    "from typing import Dict, Tuple\n",
    "\n",
    "# DOCUMENTATION\n",
    "Dataset = Dict[str, Tuple[int]]\n",
    "\n",
    "def process_inflammation_data_with_patientID(datafile_path: str) -> Dataset:\n",
    "    \"\"\"\n",
    "    Process the input CSV file (specified by the filepath) and \n",
    "    collect all the inflammatory levels recorded for each patient.\n",
    "    \n",
    "    \n",
    "    \"\"\"\n",
    "    patients = {}\n",
    "    with open(datafile_path) as datafile:\n",
    "        for line in datafile:\n",
    "            line = line.strip()\n",
    "            if not line:  ## line is empty line\n",
    "                continue\n",
    "            \n",
    "            values = line.split(\",\")            \n",
    "            pid = values[0]\n",
    "            \n",
    "            patient_data = []\n",
    "            for value in values[1:] :\n",
    "                patient_data.append(int(value))\n",
    "            # Convert into an immutable sequence    \n",
    "            patient_data = tuple(patient_data)\n",
    "            \n",
    "            patients[pid] = patient_data\n",
    "    return patients"
   ]
  },
  {
   "cell_type": "code",
   "execution_count": 48,
   "id": "4331535b-02e7-4c94-9fe3-ea0667c78d9e",
   "metadata": {},
   "outputs": [],
   "source": [
    "inflammation_filepath_02 = DATA_FOLDER / \"inflammation-02.csv\""
   ]
  },
  {
   "cell_type": "code",
   "execution_count": 49,
   "id": "6138dbb3-7226-4bf0-a422-7d050b3f8784",
   "metadata": {},
   "outputs": [],
   "source": [
    "patients_dict = process_inflammation_data_with_patientID(inflammation_filepath_02)"
   ]
  },
  {
   "cell_type": "code",
   "execution_count": 50,
   "id": "4d200952-3c8f-491a-9640-afa1b2576825",
   "metadata": {},
   "outputs": [
    {
     "name": "stdout",
     "output_type": "stream",
     "text": [
      "(0, 0, 1, 3, 1, 2, 4, 7, 8, 3, 3, 3, 10, 5, 7, 4, 7, 7, 12, 18, 6, 13, 11, 11, 7, 7, 4, 6, 8, 8, 4, 4, 5, 7, 3, 4, 2, 3, 0, 0)\n"
     ]
    }
   ],
   "source": [
    "print(patients_dict[\"669f\"])"
   ]
  },
  {
   "cell_type": "code",
   "execution_count": 51,
   "id": "c601b901-2515-4877-a51c-b53db9197d11",
   "metadata": {},
   "outputs": [
    {
     "name": "stdout",
     "output_type": "stream",
     "text": [
      "(0, 1, 1, 3, 3, 1, 3, 5, 2, 4, 4, 7, 6, 5, 3, 10, 8, 10, 6, 17, 9, 14, 9, 7, 13, 9, 12, 6, 7, 7, 9, 6, 3, 2, 2, 4, 2, 0, 1, 1)\n"
     ]
    }
   ],
   "source": [
    "print(patients_dict[\"c760\"])"
   ]
  },
  {
   "cell_type": "code",
   "execution_count": 52,
   "id": "54f8f3b9-683a-494d-9fdc-8693de59341f",
   "metadata": {},
   "outputs": [
    {
     "data": {
      "text/plain": [
       "dict_keys(['669f', '2edf', '0355', '5968', 'c760', '6b51', 'dbaf', 'b3b7', '3995', 'd6ff', '2d58', 'a1d4', '71e9', '65c1', '1edd', '277b', 'fe0e', '66d3', '3ff3', '4102', '12c9', '5b04', '1fef', '01c0', '57b5', '226c', 'c653', '94fd', 'ebf2', 'fc73', 'd4a0', 'a9f2', 'dc22', 'a6e7', '3fb2', '11cc', 'c9f5', 'a73f', 'dab2', '65a1', '8bcb', '4004', 'c2af', '8037', 'cb49', '2b4b', '80a8', 'ac50', '57ef', 'cc45', '9184', '84be', '0af0', 'bf77', 'c56c', '7d0c', 'c736', 'c5c8', '050a', 'a085'])"
      ]
     },
     "execution_count": 52,
     "metadata": {},
     "output_type": "execute_result"
    }
   ],
   "source": [
    "patients_dict.keys()"
   ]
  },
  {
   "cell_type": "code",
   "execution_count": 53,
   "id": "a5407a36-8d14-4c92-93b1-060e24573cd6",
   "metadata": {},
   "outputs": [
    {
     "data": {
      "text/plain": [
       "dict_values([(0, 0, 1, 3, 1, 2, 4, 7, 8, 3, 3, 3, 10, 5, 7, 4, 7, 7, 12, 18, 6, 13, 11, 11, 7, 7, 4, 6, 8, 8, 4, 4, 5, 7, 3, 4, 2, 3, 0, 0), (0, 1, 2, 1, 2, 1, 3, 2, 2, 6, 10, 11, 5, 9, 4, 4, 7, 16, 8, 6, 18, 4, 12, 5, 12, 7, 11, 5, 11, 3, 3, 5, 4, 4, 5, 5, 1, 1, 0, 1), (0, 1, 1, 3, 3, 2, 6, 2, 5, 9, 5, 7, 4, 5, 4, 15, 5, 11, 9, 10, 19, 14, 12, 17, 7, 12, 11, 7, 4, 2, 10, 5, 4, 2, 2, 3, 2, 2, 1, 1), (0, 0, 2, 0, 4, 2, 2, 1, 6, 7, 10, 7, 9, 13, 8, 8, 15, 10, 10, 7, 17, 4, 4, 7, 6, 15, 6, 4, 9, 11, 3, 5, 6, 3, 3, 4, 2, 3, 2, 1), (0, 1, 1, 3, 3, 1, 3, 5, 2, 4, 4, 7, 6, 5, 3, 10, 8, 10, 6, 17, 9, 14, 9, 7, 13, 9, 12, 6, 7, 7, 9, 6, 3, 2, 2, 4, 2, 0, 1, 1), (0, 0, 1, 2, 2, 4, 2, 1, 6, 4, 7, 6, 6, 9, 9, 15, 4, 16, 18, 12, 12, 5, 18, 9, 5, 3, 10, 3, 12, 7, 8, 4, 7, 3, 5, 4, 4, 3, 2, 1), (0, 0, 2, 2, 4, 2, 2, 5, 5, 8, 6, 5, 11, 9, 4, 13, 5, 12, 10, 6, 9, 17, 15, 8, 9, 3, 13, 7, 8, 2, 8, 8, 4, 2, 3, 5, 4, 1, 1, 1), (0, 0, 1, 2, 3, 1, 2, 3, 5, 3, 7, 8, 8, 5, 10, 9, 15, 11, 18, 19, 20, 8, 5, 13, 15, 10, 6, 10, 6, 7, 4, 9, 3, 5, 2, 5, 3, 2, 2, 1), (0, 0, 0, 3, 1, 5, 6, 5, 5, 8, 2, 4, 11, 12, 10, 11, 9, 10, 17, 11, 6, 16, 12, 6, 8, 14, 6, 13, 10, 11, 4, 6, 4, 7, 6, 3, 2, 1, 0, 0), (0, 1, 1, 2, 1, 3, 5, 3, 5, 8, 6, 8, 12, 5, 13, 6, 13, 8, 16, 8, 18, 15, 16, 14, 12, 7, 3, 8, 9, 11, 2, 5, 4, 5, 1, 4, 1, 2, 0, 0), (0, 1, 0, 0, 4, 3, 3, 5, 5, 4, 5, 8, 7, 10, 13, 3, 7, 13, 15, 18, 8, 15, 15, 16, 11, 14, 12, 4, 10, 10, 4, 3, 4, 5, 5, 3, 3, 2, 2, 1), (0, 1, 0, 0, 3, 4, 2, 7, 8, 5, 2, 8, 11, 5, 5, 8, 14, 11, 6, 11, 9, 16, 18, 6, 12, 5, 4, 3, 5, 7, 8, 3, 5, 4, 5, 5, 4, 0, 1, 1), (0, 0, 2, 1, 4, 3, 6, 4, 6, 7, 9, 9, 3, 11, 6, 12, 4, 17, 13, 15, 13, 12, 8, 7, 4, 7, 12, 9, 5, 6, 5, 4, 7, 3, 5, 4, 2, 3, 0, 1), (0, 0, 0, 0, 1, 3, 1, 6, 6, 5, 5, 6, 3, 6, 13, 3, 10, 13, 9, 16, 15, 9, 11, 4, 6, 4, 11, 11, 12, 3, 5, 8, 7, 4, 6, 4, 1, 3, 0, 0), (0, 1, 2, 1, 1, 1, 4, 1, 5, 2, 3, 3, 10, 7, 13, 5, 7, 17, 6, 9, 12, 13, 10, 4, 12, 4, 6, 7, 6, 10, 8, 2, 5, 1, 3, 4, 2, 0, 2, 0), (0, 1, 1, 0, 1, 2, 4, 3, 6, 4, 7, 5, 5, 7, 5, 10, 7, 8, 18, 17, 9, 8, 12, 11, 11, 11, 14, 6, 11, 2, 10, 9, 5, 6, 5, 3, 4, 2, 2, 0), (0, 0, 0, 0, 2, 3, 6, 5, 7, 4, 3, 2, 10, 7, 9, 11, 12, 5, 12, 9, 13, 19, 14, 17, 5, 13, 8, 11, 5, 10, 9, 8, 7, 5, 3, 1, 4, 0, 2, 1), (0, 0, 0, 1, 2, 1, 4, 3, 6, 7, 4, 2, 12, 6, 12, 4, 14, 7, 8, 14, 13, 19, 6, 9, 12, 6, 4, 13, 6, 7, 2, 3, 6, 5, 4, 2, 3, 0, 1, 0), (0, 0, 2, 1, 2, 5, 4, 2, 7, 8, 4, 7, 11, 9, 8, 11, 15, 17, 11, 12, 7, 12, 7, 6, 7, 4, 13, 5, 7, 6, 6, 9, 2, 1, 1, 2, 2, 0, 1, 0), (0, 1, 2, 0, 1, 4, 3, 2, 2, 7, 3, 3, 12, 13, 11, 13, 6, 5, 9, 16, 9, 19, 16, 11, 8, 9, 14, 12, 11, 9, 6, 6, 6, 1, 1, 2, 4, 3, 1, 1), (0, 1, 1, 3, 1, 4, 4, 1, 8, 2, 2, 3, 12, 12, 10, 15, 13, 6, 5, 5, 18, 19, 9, 6, 11, 12, 7, 6, 3, 6, 3, 2, 4, 3, 1, 5, 4, 2, 2, 0), (0, 0, 2, 3, 2, 3, 2, 6, 3, 8, 7, 4, 6, 6, 9, 5, 12, 12, 8, 5, 12, 10, 16, 7, 14, 12, 5, 4, 6, 9, 8, 5, 6, 6, 1, 4, 3, 0, 2, 0), (0, 0, 0, 3, 4, 5, 1, 7, 7, 8, 2, 5, 12, 4, 10, 14, 5, 5, 17, 13, 16, 15, 13, 6, 12, 9, 10, 3, 3, 7, 4, 4, 8, 2, 6, 5, 1, 0, 1, 0), (0, 1, 1, 1, 1, 3, 3, 2, 6, 3, 9, 7, 8, 8, 4, 13, 7, 14, 11, 15, 14, 13, 5, 13, 7, 14, 9, 10, 5, 11, 5, 3, 5, 1, 1, 4, 4, 1, 2, 0), (0, 1, 1, 1, 2, 3, 5, 3, 6, 3, 7, 10, 3, 8, 12, 4, 12, 9, 15, 5, 17, 16, 5, 10, 10, 15, 7, 5, 3, 11, 5, 5, 6, 1, 1, 1, 1, 0, 2, 1), (0, 0, 2, 1, 3, 3, 2, 7, 4, 4, 3, 8, 12, 9, 12, 9, 5, 16, 8, 17, 7, 11, 14, 7, 13, 11, 7, 12, 12, 7, 8, 5, 7, 2, 2, 4, 1, 1, 1, 0), (0, 0, 1, 2, 4, 2, 2, 3, 5, 7, 10, 5, 5, 12, 3, 13, 4, 13, 7, 15, 9, 12, 18, 14, 16, 12, 3, 11, 3, 2, 7, 4, 8, 2, 2, 1, 3, 0, 1, 1), (0, 0, 1, 1, 1, 5, 1, 5, 2, 2, 4, 10, 4, 8, 14, 6, 15, 6, 12, 15, 15, 13, 7, 17, 4, 5, 11, 4, 8, 7, 9, 4, 5, 3, 2, 5, 4, 3, 2, 1), (0, 0, 2, 2, 3, 4, 6, 3, 7, 6, 4, 5, 8, 4, 7, 7, 6, 11, 12, 19, 20, 18, 9, 5, 4, 7, 14, 8, 4, 3, 7, 7, 8, 3, 5, 4, 1, 3, 1, 0), (0, 0, 0, 1, 4, 4, 6, 3, 8, 6, 4, 10, 12, 3, 3, 6, 8, 7, 17, 16, 14, 15, 17, 4, 14, 13, 4, 4, 12, 11, 6, 9, 5, 5, 2, 5, 2, 1, 0, 1), (0, 1, 1, 0, 3, 2, 4, 6, 8, 6, 2, 3, 11, 3, 14, 14, 12, 8, 8, 16, 13, 7, 6, 9, 15, 7, 6, 4, 10, 8, 10, 4, 2, 6, 5, 5, 2, 3, 2, 1), (0, 0, 2, 3, 3, 4, 5, 3, 6, 7, 10, 5, 10, 13, 14, 3, 8, 10, 9, 9, 19, 15, 15, 6, 8, 8, 11, 5, 5, 7, 3, 6, 6, 4, 5, 2, 2, 3, 0, 0), (0, 1, 2, 2, 2, 3, 6, 6, 6, 7, 6, 3, 11, 12, 13, 15, 15, 10, 14, 11, 11, 8, 6, 12, 10, 5, 12, 7, 7, 11, 5, 8, 5, 2, 5, 5, 2, 0, 2, 1), (0, 0, 2, 1, 3, 5, 6, 7, 5, 8, 9, 3, 12, 10, 12, 4, 12, 9, 13, 10, 10, 6, 10, 11, 4, 15, 13, 7, 3, 4, 2, 9, 7, 2, 4, 2, 1, 2, 1, 1), (0, 0, 1, 2, 4, 1, 5, 5, 2, 3, 4, 8, 8, 12, 5, 15, 9, 17, 7, 19, 14, 18, 12, 17, 14, 4, 13, 13, 8, 11, 5, 6, 6, 2, 3, 5, 2, 1, 1, 1), (0, 0, 0, 3, 1, 3, 6, 4, 3, 4, 8, 3, 4, 8, 3, 11, 5, 7, 10, 5, 15, 9, 16, 17, 16, 3, 8, 9, 8, 3, 3, 9, 5, 1, 6, 5, 4, 2, 2, 0), (0, 1, 2, 2, 2, 5, 5, 1, 4, 6, 3, 6, 5, 9, 6, 7, 4, 7, 16, 7, 16, 13, 9, 16, 12, 6, 7, 9, 10, 3, 6, 4, 5, 4, 6, 3, 4, 3, 2, 1), (0, 1, 1, 2, 3, 1, 5, 1, 2, 2, 5, 7, 6, 6, 5, 10, 6, 7, 17, 13, 15, 16, 17, 14, 4, 4, 10, 10, 10, 11, 9, 9, 5, 4, 4, 2, 1, 0, 1, 0), (0, 1, 0, 3, 2, 4, 1, 1, 5, 9, 10, 7, 12, 10, 9, 15, 12, 13, 13, 6, 19, 9, 10, 6, 13, 5, 13, 6, 7, 2, 5, 5, 2, 1, 1, 1, 1, 3, 0, 1), (0, 1, 1, 3, 1, 1, 5, 5, 3, 7, 2, 2, 3, 12, 4, 6, 8, 15, 16, 16, 15, 4, 14, 5, 13, 10, 7, 10, 6, 3, 2, 3, 6, 3, 3, 5, 4, 3, 2, 1), (0, 0, 0, 2, 2, 1, 3, 4, 5, 5, 6, 5, 5, 12, 13, 5, 7, 5, 11, 15, 18, 7, 9, 10, 14, 12, 11, 9, 10, 3, 2, 9, 6, 2, 2, 5, 3, 0, 0, 1), (0, 0, 1, 3, 3, 1, 2, 1, 8, 9, 2, 8, 10, 3, 8, 6, 10, 13, 11, 17, 19, 6, 4, 11, 6, 12, 7, 5, 5, 4, 4, 8, 2, 6, 6, 4, 2, 2, 0, 0), (0, 1, 1, 3, 4, 5, 2, 1, 3, 7, 9, 6, 10, 5, 8, 15, 11, 12, 15, 6, 12, 16, 6, 4, 14, 3, 12, 9, 6, 11, 5, 8, 5, 5, 6, 1, 2, 1, 2, 0), (0, 0, 1, 3, 1, 4, 3, 6, 7, 8, 5, 7, 11, 3, 6, 11, 6, 10, 6, 19, 18, 14, 6, 10, 7, 9, 8, 5, 8, 3, 10, 2, 5, 1, 5, 4, 2, 1, 0, 1), (0, 1, 1, 3, 3, 4, 4, 6, 3, 4, 9, 9, 7, 6, 8, 15, 12, 15, 6, 11, 6, 18, 5, 14, 15, 12, 9, 8, 3, 6, 10, 6, 8, 7, 2, 5, 4, 3, 1, 1), (0, 1, 2, 2, 4, 3, 1, 4, 8, 9, 5, 10, 10, 3, 4, 6, 7, 11, 16, 6, 14, 9, 11, 10, 10, 7, 10, 8, 8, 4, 5, 8, 4, 4, 5, 2, 4, 1, 1, 0), (0, 0, 2, 3, 4, 5, 4, 6, 2, 9, 7, 4, 9, 10, 8, 11, 16, 12, 15, 17, 19, 10, 18, 13, 15, 11, 8, 4, 7, 11, 6, 7, 6, 5, 1, 3, 1, 0, 0, 0), (0, 1, 1, 3, 1, 4, 6, 2, 8, 2, 10, 3, 11, 9, 13, 15, 5, 15, 6, 10, 10, 5, 14, 15, 12, 7, 4, 5, 11, 4, 6, 9, 5, 6, 1, 1, 2, 1, 2, 1), (0, 0, 1, 3, 2, 5, 1, 2, 7, 6, 6, 3, 12, 9, 4, 14, 4, 6, 12, 9, 12, 7, 11, 7, 16, 8, 13, 6, 7, 6, 10, 7, 6, 3, 1, 5, 4, 3, 0, 0), (0, 0, 1, 2, 3, 4, 5, 7, 5, 4, 10, 5, 12, 12, 5, 4, 7, 9, 18, 16, 16, 10, 15, 15, 10, 4, 3, 7, 5, 9, 4, 6, 2, 4, 1, 4, 2, 2, 2, 1), (0, 1, 2, 1, 1, 3, 5, 3, 6, 3, 10, 10, 11, 10, 13, 10, 13, 6, 6, 14, 5, 4, 5, 5, 9, 4, 12, 7, 7, 4, 7, 9, 3, 3, 6, 3, 4, 1, 2, 0), (0, 1, 2, 2, 3, 5, 2, 4, 5, 6, 8, 3, 5, 4, 3, 15, 15, 12, 16, 7, 20, 15, 12, 8, 9, 6, 12, 5, 8, 3, 8, 5, 4, 1, 3, 2, 1, 3, 1, 0), (0, 0, 0, 2, 4, 4, 5, 3, 3, 3, 10, 4, 4, 4, 14, 11, 15, 13, 10, 14, 11, 17, 9, 11, 11, 7, 10, 12, 10, 10, 10, 8, 7, 5, 2, 2, 4, 1, 2, 1), (0, 0, 2, 1, 1, 4, 4, 7, 2, 9, 4, 10, 12, 7, 6, 6, 11, 12, 9, 15, 15, 6, 6, 13, 5, 12, 9, 6, 4, 7, 7, 6, 5, 4, 1, 4, 2, 2, 2, 1), (0, 1, 2, 1, 1, 4, 5, 4, 4, 5, 9, 7, 10, 3, 13, 13, 8, 9, 17, 16, 16, 15, 12, 13, 5, 12, 10, 9, 11, 9, 4, 5, 5, 2, 2, 5, 1, 0, 0, 1), (0, 0, 1, 3, 2, 3, 6, 4, 5, 7, 2, 4, 11, 11, 3, 8, 8, 16, 5, 13, 16, 5, 8, 8, 6, 9, 10, 10, 9, 3, 3, 5, 3, 5, 4, 5, 3, 3, 0, 1), (0, 1, 1, 2, 2, 5, 1, 7, 4, 2, 5, 5, 4, 6, 6, 4, 16, 11, 14, 16, 14, 14, 8, 17, 4, 14, 13, 7, 6, 3, 7, 7, 5, 6, 3, 4, 2, 2, 1, 1), (0, 1, 1, 1, 4, 1, 6, 4, 6, 3, 6, 5, 6, 4, 14, 13, 13, 9, 12, 19, 9, 10, 15, 10, 9, 10, 10, 7, 5, 6, 8, 6, 6, 4, 3, 5, 2, 1, 1, 1), (0, 0, 0, 1, 4, 5, 6, 3, 8, 7, 9, 10, 8, 6, 5, 12, 15, 5, 10, 5, 8, 13, 18, 17, 14, 9, 13, 4, 10, 11, 10, 8, 8, 6, 5, 5, 2, 0, 2, 0), (0, 0, 1, 0, 3, 2, 5, 4, 8, 2, 9, 3, 3, 10, 12, 9, 14, 11, 13, 8, 6, 18, 11, 9, 13, 11, 8, 5, 5, 2, 8, 5, 3, 5, 4, 1, 3, 1, 1, 0)])"
      ]
     },
     "execution_count": 53,
     "metadata": {},
     "output_type": "execute_result"
    }
   ],
   "source": [
    "patients_dict.values()"
   ]
  },
  {
   "cell_type": "code",
   "execution_count": 54,
   "id": "4d82cf16-fb2b-4a1e-bf68-3bf2cd9e1ac4",
   "metadata": {},
   "outputs": [
    {
     "data": {
      "text/plain": [
       "dict_items([('669f', (0, 0, 1, 3, 1, 2, 4, 7, 8, 3, 3, 3, 10, 5, 7, 4, 7, 7, 12, 18, 6, 13, 11, 11, 7, 7, 4, 6, 8, 8, 4, 4, 5, 7, 3, 4, 2, 3, 0, 0)), ('2edf', (0, 1, 2, 1, 2, 1, 3, 2, 2, 6, 10, 11, 5, 9, 4, 4, 7, 16, 8, 6, 18, 4, 12, 5, 12, 7, 11, 5, 11, 3, 3, 5, 4, 4, 5, 5, 1, 1, 0, 1)), ('0355', (0, 1, 1, 3, 3, 2, 6, 2, 5, 9, 5, 7, 4, 5, 4, 15, 5, 11, 9, 10, 19, 14, 12, 17, 7, 12, 11, 7, 4, 2, 10, 5, 4, 2, 2, 3, 2, 2, 1, 1)), ('5968', (0, 0, 2, 0, 4, 2, 2, 1, 6, 7, 10, 7, 9, 13, 8, 8, 15, 10, 10, 7, 17, 4, 4, 7, 6, 15, 6, 4, 9, 11, 3, 5, 6, 3, 3, 4, 2, 3, 2, 1)), ('c760', (0, 1, 1, 3, 3, 1, 3, 5, 2, 4, 4, 7, 6, 5, 3, 10, 8, 10, 6, 17, 9, 14, 9, 7, 13, 9, 12, 6, 7, 7, 9, 6, 3, 2, 2, 4, 2, 0, 1, 1)), ('6b51', (0, 0, 1, 2, 2, 4, 2, 1, 6, 4, 7, 6, 6, 9, 9, 15, 4, 16, 18, 12, 12, 5, 18, 9, 5, 3, 10, 3, 12, 7, 8, 4, 7, 3, 5, 4, 4, 3, 2, 1)), ('dbaf', (0, 0, 2, 2, 4, 2, 2, 5, 5, 8, 6, 5, 11, 9, 4, 13, 5, 12, 10, 6, 9, 17, 15, 8, 9, 3, 13, 7, 8, 2, 8, 8, 4, 2, 3, 5, 4, 1, 1, 1)), ('b3b7', (0, 0, 1, 2, 3, 1, 2, 3, 5, 3, 7, 8, 8, 5, 10, 9, 15, 11, 18, 19, 20, 8, 5, 13, 15, 10, 6, 10, 6, 7, 4, 9, 3, 5, 2, 5, 3, 2, 2, 1)), ('3995', (0, 0, 0, 3, 1, 5, 6, 5, 5, 8, 2, 4, 11, 12, 10, 11, 9, 10, 17, 11, 6, 16, 12, 6, 8, 14, 6, 13, 10, 11, 4, 6, 4, 7, 6, 3, 2, 1, 0, 0)), ('d6ff', (0, 1, 1, 2, 1, 3, 5, 3, 5, 8, 6, 8, 12, 5, 13, 6, 13, 8, 16, 8, 18, 15, 16, 14, 12, 7, 3, 8, 9, 11, 2, 5, 4, 5, 1, 4, 1, 2, 0, 0)), ('2d58', (0, 1, 0, 0, 4, 3, 3, 5, 5, 4, 5, 8, 7, 10, 13, 3, 7, 13, 15, 18, 8, 15, 15, 16, 11, 14, 12, 4, 10, 10, 4, 3, 4, 5, 5, 3, 3, 2, 2, 1)), ('a1d4', (0, 1, 0, 0, 3, 4, 2, 7, 8, 5, 2, 8, 11, 5, 5, 8, 14, 11, 6, 11, 9, 16, 18, 6, 12, 5, 4, 3, 5, 7, 8, 3, 5, 4, 5, 5, 4, 0, 1, 1)), ('71e9', (0, 0, 2, 1, 4, 3, 6, 4, 6, 7, 9, 9, 3, 11, 6, 12, 4, 17, 13, 15, 13, 12, 8, 7, 4, 7, 12, 9, 5, 6, 5, 4, 7, 3, 5, 4, 2, 3, 0, 1)), ('65c1', (0, 0, 0, 0, 1, 3, 1, 6, 6, 5, 5, 6, 3, 6, 13, 3, 10, 13, 9, 16, 15, 9, 11, 4, 6, 4, 11, 11, 12, 3, 5, 8, 7, 4, 6, 4, 1, 3, 0, 0)), ('1edd', (0, 1, 2, 1, 1, 1, 4, 1, 5, 2, 3, 3, 10, 7, 13, 5, 7, 17, 6, 9, 12, 13, 10, 4, 12, 4, 6, 7, 6, 10, 8, 2, 5, 1, 3, 4, 2, 0, 2, 0)), ('277b', (0, 1, 1, 0, 1, 2, 4, 3, 6, 4, 7, 5, 5, 7, 5, 10, 7, 8, 18, 17, 9, 8, 12, 11, 11, 11, 14, 6, 11, 2, 10, 9, 5, 6, 5, 3, 4, 2, 2, 0)), ('fe0e', (0, 0, 0, 0, 2, 3, 6, 5, 7, 4, 3, 2, 10, 7, 9, 11, 12, 5, 12, 9, 13, 19, 14, 17, 5, 13, 8, 11, 5, 10, 9, 8, 7, 5, 3, 1, 4, 0, 2, 1)), ('66d3', (0, 0, 0, 1, 2, 1, 4, 3, 6, 7, 4, 2, 12, 6, 12, 4, 14, 7, 8, 14, 13, 19, 6, 9, 12, 6, 4, 13, 6, 7, 2, 3, 6, 5, 4, 2, 3, 0, 1, 0)), ('3ff3', (0, 0, 2, 1, 2, 5, 4, 2, 7, 8, 4, 7, 11, 9, 8, 11, 15, 17, 11, 12, 7, 12, 7, 6, 7, 4, 13, 5, 7, 6, 6, 9, 2, 1, 1, 2, 2, 0, 1, 0)), ('4102', (0, 1, 2, 0, 1, 4, 3, 2, 2, 7, 3, 3, 12, 13, 11, 13, 6, 5, 9, 16, 9, 19, 16, 11, 8, 9, 14, 12, 11, 9, 6, 6, 6, 1, 1, 2, 4, 3, 1, 1)), ('12c9', (0, 1, 1, 3, 1, 4, 4, 1, 8, 2, 2, 3, 12, 12, 10, 15, 13, 6, 5, 5, 18, 19, 9, 6, 11, 12, 7, 6, 3, 6, 3, 2, 4, 3, 1, 5, 4, 2, 2, 0)), ('5b04', (0, 0, 2, 3, 2, 3, 2, 6, 3, 8, 7, 4, 6, 6, 9, 5, 12, 12, 8, 5, 12, 10, 16, 7, 14, 12, 5, 4, 6, 9, 8, 5, 6, 6, 1, 4, 3, 0, 2, 0)), ('1fef', (0, 0, 0, 3, 4, 5, 1, 7, 7, 8, 2, 5, 12, 4, 10, 14, 5, 5, 17, 13, 16, 15, 13, 6, 12, 9, 10, 3, 3, 7, 4, 4, 8, 2, 6, 5, 1, 0, 1, 0)), ('01c0', (0, 1, 1, 1, 1, 3, 3, 2, 6, 3, 9, 7, 8, 8, 4, 13, 7, 14, 11, 15, 14, 13, 5, 13, 7, 14, 9, 10, 5, 11, 5, 3, 5, 1, 1, 4, 4, 1, 2, 0)), ('57b5', (0, 1, 1, 1, 2, 3, 5, 3, 6, 3, 7, 10, 3, 8, 12, 4, 12, 9, 15, 5, 17, 16, 5, 10, 10, 15, 7, 5, 3, 11, 5, 5, 6, 1, 1, 1, 1, 0, 2, 1)), ('226c', (0, 0, 2, 1, 3, 3, 2, 7, 4, 4, 3, 8, 12, 9, 12, 9, 5, 16, 8, 17, 7, 11, 14, 7, 13, 11, 7, 12, 12, 7, 8, 5, 7, 2, 2, 4, 1, 1, 1, 0)), ('c653', (0, 0, 1, 2, 4, 2, 2, 3, 5, 7, 10, 5, 5, 12, 3, 13, 4, 13, 7, 15, 9, 12, 18, 14, 16, 12, 3, 11, 3, 2, 7, 4, 8, 2, 2, 1, 3, 0, 1, 1)), ('94fd', (0, 0, 1, 1, 1, 5, 1, 5, 2, 2, 4, 10, 4, 8, 14, 6, 15, 6, 12, 15, 15, 13, 7, 17, 4, 5, 11, 4, 8, 7, 9, 4, 5, 3, 2, 5, 4, 3, 2, 1)), ('ebf2', (0, 0, 2, 2, 3, 4, 6, 3, 7, 6, 4, 5, 8, 4, 7, 7, 6, 11, 12, 19, 20, 18, 9, 5, 4, 7, 14, 8, 4, 3, 7, 7, 8, 3, 5, 4, 1, 3, 1, 0)), ('fc73', (0, 0, 0, 1, 4, 4, 6, 3, 8, 6, 4, 10, 12, 3, 3, 6, 8, 7, 17, 16, 14, 15, 17, 4, 14, 13, 4, 4, 12, 11, 6, 9, 5, 5, 2, 5, 2, 1, 0, 1)), ('d4a0', (0, 1, 1, 0, 3, 2, 4, 6, 8, 6, 2, 3, 11, 3, 14, 14, 12, 8, 8, 16, 13, 7, 6, 9, 15, 7, 6, 4, 10, 8, 10, 4, 2, 6, 5, 5, 2, 3, 2, 1)), ('a9f2', (0, 0, 2, 3, 3, 4, 5, 3, 6, 7, 10, 5, 10, 13, 14, 3, 8, 10, 9, 9, 19, 15, 15, 6, 8, 8, 11, 5, 5, 7, 3, 6, 6, 4, 5, 2, 2, 3, 0, 0)), ('dc22', (0, 1, 2, 2, 2, 3, 6, 6, 6, 7, 6, 3, 11, 12, 13, 15, 15, 10, 14, 11, 11, 8, 6, 12, 10, 5, 12, 7, 7, 11, 5, 8, 5, 2, 5, 5, 2, 0, 2, 1)), ('a6e7', (0, 0, 2, 1, 3, 5, 6, 7, 5, 8, 9, 3, 12, 10, 12, 4, 12, 9, 13, 10, 10, 6, 10, 11, 4, 15, 13, 7, 3, 4, 2, 9, 7, 2, 4, 2, 1, 2, 1, 1)), ('3fb2', (0, 0, 1, 2, 4, 1, 5, 5, 2, 3, 4, 8, 8, 12, 5, 15, 9, 17, 7, 19, 14, 18, 12, 17, 14, 4, 13, 13, 8, 11, 5, 6, 6, 2, 3, 5, 2, 1, 1, 1)), ('11cc', (0, 0, 0, 3, 1, 3, 6, 4, 3, 4, 8, 3, 4, 8, 3, 11, 5, 7, 10, 5, 15, 9, 16, 17, 16, 3, 8, 9, 8, 3, 3, 9, 5, 1, 6, 5, 4, 2, 2, 0)), ('c9f5', (0, 1, 2, 2, 2, 5, 5, 1, 4, 6, 3, 6, 5, 9, 6, 7, 4, 7, 16, 7, 16, 13, 9, 16, 12, 6, 7, 9, 10, 3, 6, 4, 5, 4, 6, 3, 4, 3, 2, 1)), ('a73f', (0, 1, 1, 2, 3, 1, 5, 1, 2, 2, 5, 7, 6, 6, 5, 10, 6, 7, 17, 13, 15, 16, 17, 14, 4, 4, 10, 10, 10, 11, 9, 9, 5, 4, 4, 2, 1, 0, 1, 0)), ('dab2', (0, 1, 0, 3, 2, 4, 1, 1, 5, 9, 10, 7, 12, 10, 9, 15, 12, 13, 13, 6, 19, 9, 10, 6, 13, 5, 13, 6, 7, 2, 5, 5, 2, 1, 1, 1, 1, 3, 0, 1)), ('65a1', (0, 1, 1, 3, 1, 1, 5, 5, 3, 7, 2, 2, 3, 12, 4, 6, 8, 15, 16, 16, 15, 4, 14, 5, 13, 10, 7, 10, 6, 3, 2, 3, 6, 3, 3, 5, 4, 3, 2, 1)), ('8bcb', (0, 0, 0, 2, 2, 1, 3, 4, 5, 5, 6, 5, 5, 12, 13, 5, 7, 5, 11, 15, 18, 7, 9, 10, 14, 12, 11, 9, 10, 3, 2, 9, 6, 2, 2, 5, 3, 0, 0, 1)), ('4004', (0, 0, 1, 3, 3, 1, 2, 1, 8, 9, 2, 8, 10, 3, 8, 6, 10, 13, 11, 17, 19, 6, 4, 11, 6, 12, 7, 5, 5, 4, 4, 8, 2, 6, 6, 4, 2, 2, 0, 0)), ('c2af', (0, 1, 1, 3, 4, 5, 2, 1, 3, 7, 9, 6, 10, 5, 8, 15, 11, 12, 15, 6, 12, 16, 6, 4, 14, 3, 12, 9, 6, 11, 5, 8, 5, 5, 6, 1, 2, 1, 2, 0)), ('8037', (0, 0, 1, 3, 1, 4, 3, 6, 7, 8, 5, 7, 11, 3, 6, 11, 6, 10, 6, 19, 18, 14, 6, 10, 7, 9, 8, 5, 8, 3, 10, 2, 5, 1, 5, 4, 2, 1, 0, 1)), ('cb49', (0, 1, 1, 3, 3, 4, 4, 6, 3, 4, 9, 9, 7, 6, 8, 15, 12, 15, 6, 11, 6, 18, 5, 14, 15, 12, 9, 8, 3, 6, 10, 6, 8, 7, 2, 5, 4, 3, 1, 1)), ('2b4b', (0, 1, 2, 2, 4, 3, 1, 4, 8, 9, 5, 10, 10, 3, 4, 6, 7, 11, 16, 6, 14, 9, 11, 10, 10, 7, 10, 8, 8, 4, 5, 8, 4, 4, 5, 2, 4, 1, 1, 0)), ('80a8', (0, 0, 2, 3, 4, 5, 4, 6, 2, 9, 7, 4, 9, 10, 8, 11, 16, 12, 15, 17, 19, 10, 18, 13, 15, 11, 8, 4, 7, 11, 6, 7, 6, 5, 1, 3, 1, 0, 0, 0)), ('ac50', (0, 1, 1, 3, 1, 4, 6, 2, 8, 2, 10, 3, 11, 9, 13, 15, 5, 15, 6, 10, 10, 5, 14, 15, 12, 7, 4, 5, 11, 4, 6, 9, 5, 6, 1, 1, 2, 1, 2, 1)), ('57ef', (0, 0, 1, 3, 2, 5, 1, 2, 7, 6, 6, 3, 12, 9, 4, 14, 4, 6, 12, 9, 12, 7, 11, 7, 16, 8, 13, 6, 7, 6, 10, 7, 6, 3, 1, 5, 4, 3, 0, 0)), ('cc45', (0, 0, 1, 2, 3, 4, 5, 7, 5, 4, 10, 5, 12, 12, 5, 4, 7, 9, 18, 16, 16, 10, 15, 15, 10, 4, 3, 7, 5, 9, 4, 6, 2, 4, 1, 4, 2, 2, 2, 1)), ('9184', (0, 1, 2, 1, 1, 3, 5, 3, 6, 3, 10, 10, 11, 10, 13, 10, 13, 6, 6, 14, 5, 4, 5, 5, 9, 4, 12, 7, 7, 4, 7, 9, 3, 3, 6, 3, 4, 1, 2, 0)), ('84be', (0, 1, 2, 2, 3, 5, 2, 4, 5, 6, 8, 3, 5, 4, 3, 15, 15, 12, 16, 7, 20, 15, 12, 8, 9, 6, 12, 5, 8, 3, 8, 5, 4, 1, 3, 2, 1, 3, 1, 0)), ('0af0', (0, 0, 0, 2, 4, 4, 5, 3, 3, 3, 10, 4, 4, 4, 14, 11, 15, 13, 10, 14, 11, 17, 9, 11, 11, 7, 10, 12, 10, 10, 10, 8, 7, 5, 2, 2, 4, 1, 2, 1)), ('bf77', (0, 0, 2, 1, 1, 4, 4, 7, 2, 9, 4, 10, 12, 7, 6, 6, 11, 12, 9, 15, 15, 6, 6, 13, 5, 12, 9, 6, 4, 7, 7, 6, 5, 4, 1, 4, 2, 2, 2, 1)), ('c56c', (0, 1, 2, 1, 1, 4, 5, 4, 4, 5, 9, 7, 10, 3, 13, 13, 8, 9, 17, 16, 16, 15, 12, 13, 5, 12, 10, 9, 11, 9, 4, 5, 5, 2, 2, 5, 1, 0, 0, 1)), ('7d0c', (0, 0, 1, 3, 2, 3, 6, 4, 5, 7, 2, 4, 11, 11, 3, 8, 8, 16, 5, 13, 16, 5, 8, 8, 6, 9, 10, 10, 9, 3, 3, 5, 3, 5, 4, 5, 3, 3, 0, 1)), ('c736', (0, 1, 1, 2, 2, 5, 1, 7, 4, 2, 5, 5, 4, 6, 6, 4, 16, 11, 14, 16, 14, 14, 8, 17, 4, 14, 13, 7, 6, 3, 7, 7, 5, 6, 3, 4, 2, 2, 1, 1)), ('c5c8', (0, 1, 1, 1, 4, 1, 6, 4, 6, 3, 6, 5, 6, 4, 14, 13, 13, 9, 12, 19, 9, 10, 15, 10, 9, 10, 10, 7, 5, 6, 8, 6, 6, 4, 3, 5, 2, 1, 1, 1)), ('050a', (0, 0, 0, 1, 4, 5, 6, 3, 8, 7, 9, 10, 8, 6, 5, 12, 15, 5, 10, 5, 8, 13, 18, 17, 14, 9, 13, 4, 10, 11, 10, 8, 8, 6, 5, 5, 2, 0, 2, 0)), ('a085', (0, 0, 1, 0, 3, 2, 5, 4, 8, 2, 9, 3, 3, 10, 12, 9, 14, 11, 13, 8, 6, 18, 11, 9, 13, 11, 8, 5, 5, 2, 8, 5, 3, 5, 4, 1, 3, 1, 1, 0))])"
      ]
     },
     "execution_count": 54,
     "metadata": {},
     "output_type": "execute_result"
    }
   ],
   "source": [
    "patients_dict.items()"
   ]
  },
  {
   "cell_type": "code",
   "execution_count": 55,
   "id": "289e2620-50cf-486a-b0d8-ca29ef7b9336",
   "metadata": {},
   "outputs": [
    {
     "name": "stdout",
     "output_type": "stream",
     "text": [
      "Iterate by Keys - explicitly\n",
      "669f\n",
      "2edf\n",
      "0355\n",
      "5968\n",
      "c760\n",
      "6b51\n",
      "dbaf\n",
      "b3b7\n",
      "3995\n",
      "d6ff\n",
      "2d58\n",
      "a1d4\n",
      "71e9\n",
      "65c1\n",
      "1edd\n",
      "277b\n",
      "fe0e\n",
      "66d3\n",
      "3ff3\n",
      "4102\n",
      "12c9\n",
      "5b04\n",
      "1fef\n",
      "01c0\n",
      "57b5\n",
      "226c\n",
      "c653\n",
      "94fd\n",
      "ebf2\n",
      "fc73\n",
      "d4a0\n",
      "a9f2\n",
      "dc22\n",
      "a6e7\n",
      "3fb2\n",
      "11cc\n",
      "c9f5\n",
      "a73f\n",
      "dab2\n",
      "65a1\n",
      "8bcb\n",
      "4004\n",
      "c2af\n",
      "8037\n",
      "cb49\n",
      "2b4b\n",
      "80a8\n",
      "ac50\n",
      "57ef\n",
      "cc45\n",
      "9184\n",
      "84be\n",
      "0af0\n",
      "bf77\n",
      "c56c\n",
      "7d0c\n",
      "c736\n",
      "c5c8\n",
      "050a\n",
      "a085\n",
      "Iterate by keys - implicitly (as in default)\n",
      "669f\n",
      "2edf\n",
      "0355\n",
      "5968\n",
      "c760\n",
      "6b51\n",
      "dbaf\n",
      "b3b7\n",
      "3995\n",
      "d6ff\n",
      "2d58\n",
      "a1d4\n",
      "71e9\n",
      "65c1\n",
      "1edd\n",
      "277b\n",
      "fe0e\n",
      "66d3\n",
      "3ff3\n",
      "4102\n",
      "12c9\n",
      "5b04\n",
      "1fef\n",
      "01c0\n",
      "57b5\n",
      "226c\n",
      "c653\n",
      "94fd\n",
      "ebf2\n",
      "fc73\n",
      "d4a0\n",
      "a9f2\n",
      "dc22\n",
      "a6e7\n",
      "3fb2\n",
      "11cc\n",
      "c9f5\n",
      "a73f\n",
      "dab2\n",
      "65a1\n",
      "8bcb\n",
      "4004\n",
      "c2af\n",
      "8037\n",
      "cb49\n",
      "2b4b\n",
      "80a8\n",
      "ac50\n",
      "57ef\n",
      "cc45\n",
      "9184\n",
      "84be\n",
      "0af0\n",
      "bf77\n",
      "c56c\n",
      "7d0c\n",
      "c736\n",
      "c5c8\n",
      "050a\n",
      "a085\n",
      "Iterate by values\n",
      "(0, 0, 1, 3, 1, 2, 4, 7, 8, 3, 3, 3, 10, 5, 7, 4, 7, 7, 12, 18, 6, 13, 11, 11, 7, 7, 4, 6, 8, 8, 4, 4, 5, 7, 3, 4, 2, 3, 0, 0)\n",
      "(0, 1, 2, 1, 2, 1, 3, 2, 2, 6, 10, 11, 5, 9, 4, 4, 7, 16, 8, 6, 18, 4, 12, 5, 12, 7, 11, 5, 11, 3, 3, 5, 4, 4, 5, 5, 1, 1, 0, 1)\n",
      "(0, 1, 1, 3, 3, 2, 6, 2, 5, 9, 5, 7, 4, 5, 4, 15, 5, 11, 9, 10, 19, 14, 12, 17, 7, 12, 11, 7, 4, 2, 10, 5, 4, 2, 2, 3, 2, 2, 1, 1)\n",
      "(0, 0, 2, 0, 4, 2, 2, 1, 6, 7, 10, 7, 9, 13, 8, 8, 15, 10, 10, 7, 17, 4, 4, 7, 6, 15, 6, 4, 9, 11, 3, 5, 6, 3, 3, 4, 2, 3, 2, 1)\n",
      "(0, 1, 1, 3, 3, 1, 3, 5, 2, 4, 4, 7, 6, 5, 3, 10, 8, 10, 6, 17, 9, 14, 9, 7, 13, 9, 12, 6, 7, 7, 9, 6, 3, 2, 2, 4, 2, 0, 1, 1)\n",
      "(0, 0, 1, 2, 2, 4, 2, 1, 6, 4, 7, 6, 6, 9, 9, 15, 4, 16, 18, 12, 12, 5, 18, 9, 5, 3, 10, 3, 12, 7, 8, 4, 7, 3, 5, 4, 4, 3, 2, 1)\n",
      "(0, 0, 2, 2, 4, 2, 2, 5, 5, 8, 6, 5, 11, 9, 4, 13, 5, 12, 10, 6, 9, 17, 15, 8, 9, 3, 13, 7, 8, 2, 8, 8, 4, 2, 3, 5, 4, 1, 1, 1)\n",
      "(0, 0, 1, 2, 3, 1, 2, 3, 5, 3, 7, 8, 8, 5, 10, 9, 15, 11, 18, 19, 20, 8, 5, 13, 15, 10, 6, 10, 6, 7, 4, 9, 3, 5, 2, 5, 3, 2, 2, 1)\n",
      "(0, 0, 0, 3, 1, 5, 6, 5, 5, 8, 2, 4, 11, 12, 10, 11, 9, 10, 17, 11, 6, 16, 12, 6, 8, 14, 6, 13, 10, 11, 4, 6, 4, 7, 6, 3, 2, 1, 0, 0)\n",
      "(0, 1, 1, 2, 1, 3, 5, 3, 5, 8, 6, 8, 12, 5, 13, 6, 13, 8, 16, 8, 18, 15, 16, 14, 12, 7, 3, 8, 9, 11, 2, 5, 4, 5, 1, 4, 1, 2, 0, 0)\n",
      "(0, 1, 0, 0, 4, 3, 3, 5, 5, 4, 5, 8, 7, 10, 13, 3, 7, 13, 15, 18, 8, 15, 15, 16, 11, 14, 12, 4, 10, 10, 4, 3, 4, 5, 5, 3, 3, 2, 2, 1)\n",
      "(0, 1, 0, 0, 3, 4, 2, 7, 8, 5, 2, 8, 11, 5, 5, 8, 14, 11, 6, 11, 9, 16, 18, 6, 12, 5, 4, 3, 5, 7, 8, 3, 5, 4, 5, 5, 4, 0, 1, 1)\n",
      "(0, 0, 2, 1, 4, 3, 6, 4, 6, 7, 9, 9, 3, 11, 6, 12, 4, 17, 13, 15, 13, 12, 8, 7, 4, 7, 12, 9, 5, 6, 5, 4, 7, 3, 5, 4, 2, 3, 0, 1)\n",
      "(0, 0, 0, 0, 1, 3, 1, 6, 6, 5, 5, 6, 3, 6, 13, 3, 10, 13, 9, 16, 15, 9, 11, 4, 6, 4, 11, 11, 12, 3, 5, 8, 7, 4, 6, 4, 1, 3, 0, 0)\n",
      "(0, 1, 2, 1, 1, 1, 4, 1, 5, 2, 3, 3, 10, 7, 13, 5, 7, 17, 6, 9, 12, 13, 10, 4, 12, 4, 6, 7, 6, 10, 8, 2, 5, 1, 3, 4, 2, 0, 2, 0)\n",
      "(0, 1, 1, 0, 1, 2, 4, 3, 6, 4, 7, 5, 5, 7, 5, 10, 7, 8, 18, 17, 9, 8, 12, 11, 11, 11, 14, 6, 11, 2, 10, 9, 5, 6, 5, 3, 4, 2, 2, 0)\n",
      "(0, 0, 0, 0, 2, 3, 6, 5, 7, 4, 3, 2, 10, 7, 9, 11, 12, 5, 12, 9, 13, 19, 14, 17, 5, 13, 8, 11, 5, 10, 9, 8, 7, 5, 3, 1, 4, 0, 2, 1)\n",
      "(0, 0, 0, 1, 2, 1, 4, 3, 6, 7, 4, 2, 12, 6, 12, 4, 14, 7, 8, 14, 13, 19, 6, 9, 12, 6, 4, 13, 6, 7, 2, 3, 6, 5, 4, 2, 3, 0, 1, 0)\n",
      "(0, 0, 2, 1, 2, 5, 4, 2, 7, 8, 4, 7, 11, 9, 8, 11, 15, 17, 11, 12, 7, 12, 7, 6, 7, 4, 13, 5, 7, 6, 6, 9, 2, 1, 1, 2, 2, 0, 1, 0)\n",
      "(0, 1, 2, 0, 1, 4, 3, 2, 2, 7, 3, 3, 12, 13, 11, 13, 6, 5, 9, 16, 9, 19, 16, 11, 8, 9, 14, 12, 11, 9, 6, 6, 6, 1, 1, 2, 4, 3, 1, 1)\n",
      "(0, 1, 1, 3, 1, 4, 4, 1, 8, 2, 2, 3, 12, 12, 10, 15, 13, 6, 5, 5, 18, 19, 9, 6, 11, 12, 7, 6, 3, 6, 3, 2, 4, 3, 1, 5, 4, 2, 2, 0)\n",
      "(0, 0, 2, 3, 2, 3, 2, 6, 3, 8, 7, 4, 6, 6, 9, 5, 12, 12, 8, 5, 12, 10, 16, 7, 14, 12, 5, 4, 6, 9, 8, 5, 6, 6, 1, 4, 3, 0, 2, 0)\n",
      "(0, 0, 0, 3, 4, 5, 1, 7, 7, 8, 2, 5, 12, 4, 10, 14, 5, 5, 17, 13, 16, 15, 13, 6, 12, 9, 10, 3, 3, 7, 4, 4, 8, 2, 6, 5, 1, 0, 1, 0)\n",
      "(0, 1, 1, 1, 1, 3, 3, 2, 6, 3, 9, 7, 8, 8, 4, 13, 7, 14, 11, 15, 14, 13, 5, 13, 7, 14, 9, 10, 5, 11, 5, 3, 5, 1, 1, 4, 4, 1, 2, 0)\n",
      "(0, 1, 1, 1, 2, 3, 5, 3, 6, 3, 7, 10, 3, 8, 12, 4, 12, 9, 15, 5, 17, 16, 5, 10, 10, 15, 7, 5, 3, 11, 5, 5, 6, 1, 1, 1, 1, 0, 2, 1)\n",
      "(0, 0, 2, 1, 3, 3, 2, 7, 4, 4, 3, 8, 12, 9, 12, 9, 5, 16, 8, 17, 7, 11, 14, 7, 13, 11, 7, 12, 12, 7, 8, 5, 7, 2, 2, 4, 1, 1, 1, 0)\n",
      "(0, 0, 1, 2, 4, 2, 2, 3, 5, 7, 10, 5, 5, 12, 3, 13, 4, 13, 7, 15, 9, 12, 18, 14, 16, 12, 3, 11, 3, 2, 7, 4, 8, 2, 2, 1, 3, 0, 1, 1)\n",
      "(0, 0, 1, 1, 1, 5, 1, 5, 2, 2, 4, 10, 4, 8, 14, 6, 15, 6, 12, 15, 15, 13, 7, 17, 4, 5, 11, 4, 8, 7, 9, 4, 5, 3, 2, 5, 4, 3, 2, 1)\n",
      "(0, 0, 2, 2, 3, 4, 6, 3, 7, 6, 4, 5, 8, 4, 7, 7, 6, 11, 12, 19, 20, 18, 9, 5, 4, 7, 14, 8, 4, 3, 7, 7, 8, 3, 5, 4, 1, 3, 1, 0)\n",
      "(0, 0, 0, 1, 4, 4, 6, 3, 8, 6, 4, 10, 12, 3, 3, 6, 8, 7, 17, 16, 14, 15, 17, 4, 14, 13, 4, 4, 12, 11, 6, 9, 5, 5, 2, 5, 2, 1, 0, 1)\n",
      "(0, 1, 1, 0, 3, 2, 4, 6, 8, 6, 2, 3, 11, 3, 14, 14, 12, 8, 8, 16, 13, 7, 6, 9, 15, 7, 6, 4, 10, 8, 10, 4, 2, 6, 5, 5, 2, 3, 2, 1)\n",
      "(0, 0, 2, 3, 3, 4, 5, 3, 6, 7, 10, 5, 10, 13, 14, 3, 8, 10, 9, 9, 19, 15, 15, 6, 8, 8, 11, 5, 5, 7, 3, 6, 6, 4, 5, 2, 2, 3, 0, 0)\n",
      "(0, 1, 2, 2, 2, 3, 6, 6, 6, 7, 6, 3, 11, 12, 13, 15, 15, 10, 14, 11, 11, 8, 6, 12, 10, 5, 12, 7, 7, 11, 5, 8, 5, 2, 5, 5, 2, 0, 2, 1)\n",
      "(0, 0, 2, 1, 3, 5, 6, 7, 5, 8, 9, 3, 12, 10, 12, 4, 12, 9, 13, 10, 10, 6, 10, 11, 4, 15, 13, 7, 3, 4, 2, 9, 7, 2, 4, 2, 1, 2, 1, 1)\n",
      "(0, 0, 1, 2, 4, 1, 5, 5, 2, 3, 4, 8, 8, 12, 5, 15, 9, 17, 7, 19, 14, 18, 12, 17, 14, 4, 13, 13, 8, 11, 5, 6, 6, 2, 3, 5, 2, 1, 1, 1)\n",
      "(0, 0, 0, 3, 1, 3, 6, 4, 3, 4, 8, 3, 4, 8, 3, 11, 5, 7, 10, 5, 15, 9, 16, 17, 16, 3, 8, 9, 8, 3, 3, 9, 5, 1, 6, 5, 4, 2, 2, 0)\n",
      "(0, 1, 2, 2, 2, 5, 5, 1, 4, 6, 3, 6, 5, 9, 6, 7, 4, 7, 16, 7, 16, 13, 9, 16, 12, 6, 7, 9, 10, 3, 6, 4, 5, 4, 6, 3, 4, 3, 2, 1)\n",
      "(0, 1, 1, 2, 3, 1, 5, 1, 2, 2, 5, 7, 6, 6, 5, 10, 6, 7, 17, 13, 15, 16, 17, 14, 4, 4, 10, 10, 10, 11, 9, 9, 5, 4, 4, 2, 1, 0, 1, 0)\n",
      "(0, 1, 0, 3, 2, 4, 1, 1, 5, 9, 10, 7, 12, 10, 9, 15, 12, 13, 13, 6, 19, 9, 10, 6, 13, 5, 13, 6, 7, 2, 5, 5, 2, 1, 1, 1, 1, 3, 0, 1)\n",
      "(0, 1, 1, 3, 1, 1, 5, 5, 3, 7, 2, 2, 3, 12, 4, 6, 8, 15, 16, 16, 15, 4, 14, 5, 13, 10, 7, 10, 6, 3, 2, 3, 6, 3, 3, 5, 4, 3, 2, 1)\n",
      "(0, 0, 0, 2, 2, 1, 3, 4, 5, 5, 6, 5, 5, 12, 13, 5, 7, 5, 11, 15, 18, 7, 9, 10, 14, 12, 11, 9, 10, 3, 2, 9, 6, 2, 2, 5, 3, 0, 0, 1)\n",
      "(0, 0, 1, 3, 3, 1, 2, 1, 8, 9, 2, 8, 10, 3, 8, 6, 10, 13, 11, 17, 19, 6, 4, 11, 6, 12, 7, 5, 5, 4, 4, 8, 2, 6, 6, 4, 2, 2, 0, 0)\n",
      "(0, 1, 1, 3, 4, 5, 2, 1, 3, 7, 9, 6, 10, 5, 8, 15, 11, 12, 15, 6, 12, 16, 6, 4, 14, 3, 12, 9, 6, 11, 5, 8, 5, 5, 6, 1, 2, 1, 2, 0)\n",
      "(0, 0, 1, 3, 1, 4, 3, 6, 7, 8, 5, 7, 11, 3, 6, 11, 6, 10, 6, 19, 18, 14, 6, 10, 7, 9, 8, 5, 8, 3, 10, 2, 5, 1, 5, 4, 2, 1, 0, 1)\n",
      "(0, 1, 1, 3, 3, 4, 4, 6, 3, 4, 9, 9, 7, 6, 8, 15, 12, 15, 6, 11, 6, 18, 5, 14, 15, 12, 9, 8, 3, 6, 10, 6, 8, 7, 2, 5, 4, 3, 1, 1)\n",
      "(0, 1, 2, 2, 4, 3, 1, 4, 8, 9, 5, 10, 10, 3, 4, 6, 7, 11, 16, 6, 14, 9, 11, 10, 10, 7, 10, 8, 8, 4, 5, 8, 4, 4, 5, 2, 4, 1, 1, 0)\n",
      "(0, 0, 2, 3, 4, 5, 4, 6, 2, 9, 7, 4, 9, 10, 8, 11, 16, 12, 15, 17, 19, 10, 18, 13, 15, 11, 8, 4, 7, 11, 6, 7, 6, 5, 1, 3, 1, 0, 0, 0)\n",
      "(0, 1, 1, 3, 1, 4, 6, 2, 8, 2, 10, 3, 11, 9, 13, 15, 5, 15, 6, 10, 10, 5, 14, 15, 12, 7, 4, 5, 11, 4, 6, 9, 5, 6, 1, 1, 2, 1, 2, 1)\n",
      "(0, 0, 1, 3, 2, 5, 1, 2, 7, 6, 6, 3, 12, 9, 4, 14, 4, 6, 12, 9, 12, 7, 11, 7, 16, 8, 13, 6, 7, 6, 10, 7, 6, 3, 1, 5, 4, 3, 0, 0)\n",
      "(0, 0, 1, 2, 3, 4, 5, 7, 5, 4, 10, 5, 12, 12, 5, 4, 7, 9, 18, 16, 16, 10, 15, 15, 10, 4, 3, 7, 5, 9, 4, 6, 2, 4, 1, 4, 2, 2, 2, 1)\n",
      "(0, 1, 2, 1, 1, 3, 5, 3, 6, 3, 10, 10, 11, 10, 13, 10, 13, 6, 6, 14, 5, 4, 5, 5, 9, 4, 12, 7, 7, 4, 7, 9, 3, 3, 6, 3, 4, 1, 2, 0)\n",
      "(0, 1, 2, 2, 3, 5, 2, 4, 5, 6, 8, 3, 5, 4, 3, 15, 15, 12, 16, 7, 20, 15, 12, 8, 9, 6, 12, 5, 8, 3, 8, 5, 4, 1, 3, 2, 1, 3, 1, 0)\n",
      "(0, 0, 0, 2, 4, 4, 5, 3, 3, 3, 10, 4, 4, 4, 14, 11, 15, 13, 10, 14, 11, 17, 9, 11, 11, 7, 10, 12, 10, 10, 10, 8, 7, 5, 2, 2, 4, 1, 2, 1)\n",
      "(0, 0, 2, 1, 1, 4, 4, 7, 2, 9, 4, 10, 12, 7, 6, 6, 11, 12, 9, 15, 15, 6, 6, 13, 5, 12, 9, 6, 4, 7, 7, 6, 5, 4, 1, 4, 2, 2, 2, 1)\n",
      "(0, 1, 2, 1, 1, 4, 5, 4, 4, 5, 9, 7, 10, 3, 13, 13, 8, 9, 17, 16, 16, 15, 12, 13, 5, 12, 10, 9, 11, 9, 4, 5, 5, 2, 2, 5, 1, 0, 0, 1)\n",
      "(0, 0, 1, 3, 2, 3, 6, 4, 5, 7, 2, 4, 11, 11, 3, 8, 8, 16, 5, 13, 16, 5, 8, 8, 6, 9, 10, 10, 9, 3, 3, 5, 3, 5, 4, 5, 3, 3, 0, 1)\n",
      "(0, 1, 1, 2, 2, 5, 1, 7, 4, 2, 5, 5, 4, 6, 6, 4, 16, 11, 14, 16, 14, 14, 8, 17, 4, 14, 13, 7, 6, 3, 7, 7, 5, 6, 3, 4, 2, 2, 1, 1)\n",
      "(0, 1, 1, 1, 4, 1, 6, 4, 6, 3, 6, 5, 6, 4, 14, 13, 13, 9, 12, 19, 9, 10, 15, 10, 9, 10, 10, 7, 5, 6, 8, 6, 6, 4, 3, 5, 2, 1, 1, 1)\n",
      "(0, 0, 0, 1, 4, 5, 6, 3, 8, 7, 9, 10, 8, 6, 5, 12, 15, 5, 10, 5, 8, 13, 18, 17, 14, 9, 13, 4, 10, 11, 10, 8, 8, 6, 5, 5, 2, 0, 2, 0)\n",
      "(0, 0, 1, 0, 3, 2, 5, 4, 8, 2, 9, 3, 3, 10, 12, 9, 14, 11, 13, 8, 6, 18, 11, 9, 13, 11, 8, 5, 5, 2, 8, 5, 3, 5, 4, 1, 3, 1, 1, 0)\n"
     ]
    }
   ],
   "source": [
    "print(\"Iterate by Keys - explicitly\")\n",
    "for key in patients_dict.keys():\n",
    "    print(key)\n",
    "    \n",
    "print(\"Iterate by keys - implicitly (as in default)\")\n",
    "for key in patients_dict:\n",
    "    print(key)\n",
    "    \n",
    "print(\"Iterate by values\")\n",
    "for patient_data in patients_dict.values():\n",
    "    print(patient_data)"
   ]
  },
  {
   "cell_type": "code",
   "execution_count": 56,
   "id": "3e9b253c-8fb1-4657-a5ee-da8a33a8bc02",
   "metadata": {},
   "outputs": [
    {
     "data": {
      "text/plain": [
       "True"
      ]
     },
     "execution_count": 56,
     "metadata": {},
     "output_type": "execute_result"
    }
   ],
   "source": [
    "\"669f\" in patients_dict"
   ]
  },
  {
   "cell_type": "code",
   "execution_count": 57,
   "id": "7324f641-53b2-4ccd-800b-b00a97cb18ef",
   "metadata": {},
   "outputs": [
    {
     "name": "stdout",
     "output_type": "stream",
     "text": [
      "Patient(669f) -> (0, 0, 1, 3, 1, 2, 4, 7, 8, 3, 3, 3, 10, 5, 7, 4, 7, 7, 12, 18, 6, 13, 11, 11, 7, 7, 4, 6, 8, 8, 4, 4, 5, 7, 3, 4, 2, 3, 0, 0)\n",
      "Patient(2edf) -> (0, 1, 2, 1, 2, 1, 3, 2, 2, 6, 10, 11, 5, 9, 4, 4, 7, 16, 8, 6, 18, 4, 12, 5, 12, 7, 11, 5, 11, 3, 3, 5, 4, 4, 5, 5, 1, 1, 0, 1)\n",
      "Patient(0355) -> (0, 1, 1, 3, 3, 2, 6, 2, 5, 9, 5, 7, 4, 5, 4, 15, 5, 11, 9, 10, 19, 14, 12, 17, 7, 12, 11, 7, 4, 2, 10, 5, 4, 2, 2, 3, 2, 2, 1, 1)\n",
      "Patient(5968) -> (0, 0, 2, 0, 4, 2, 2, 1, 6, 7, 10, 7, 9, 13, 8, 8, 15, 10, 10, 7, 17, 4, 4, 7, 6, 15, 6, 4, 9, 11, 3, 5, 6, 3, 3, 4, 2, 3, 2, 1)\n",
      "Patient(c760) -> (0, 1, 1, 3, 3, 1, 3, 5, 2, 4, 4, 7, 6, 5, 3, 10, 8, 10, 6, 17, 9, 14, 9, 7, 13, 9, 12, 6, 7, 7, 9, 6, 3, 2, 2, 4, 2, 0, 1, 1)\n",
      "Patient(6b51) -> (0, 0, 1, 2, 2, 4, 2, 1, 6, 4, 7, 6, 6, 9, 9, 15, 4, 16, 18, 12, 12, 5, 18, 9, 5, 3, 10, 3, 12, 7, 8, 4, 7, 3, 5, 4, 4, 3, 2, 1)\n",
      "Patient(dbaf) -> (0, 0, 2, 2, 4, 2, 2, 5, 5, 8, 6, 5, 11, 9, 4, 13, 5, 12, 10, 6, 9, 17, 15, 8, 9, 3, 13, 7, 8, 2, 8, 8, 4, 2, 3, 5, 4, 1, 1, 1)\n",
      "Patient(b3b7) -> (0, 0, 1, 2, 3, 1, 2, 3, 5, 3, 7, 8, 8, 5, 10, 9, 15, 11, 18, 19, 20, 8, 5, 13, 15, 10, 6, 10, 6, 7, 4, 9, 3, 5, 2, 5, 3, 2, 2, 1)\n",
      "Patient(3995) -> (0, 0, 0, 3, 1, 5, 6, 5, 5, 8, 2, 4, 11, 12, 10, 11, 9, 10, 17, 11, 6, 16, 12, 6, 8, 14, 6, 13, 10, 11, 4, 6, 4, 7, 6, 3, 2, 1, 0, 0)\n",
      "Patient(d6ff) -> (0, 1, 1, 2, 1, 3, 5, 3, 5, 8, 6, 8, 12, 5, 13, 6, 13, 8, 16, 8, 18, 15, 16, 14, 12, 7, 3, 8, 9, 11, 2, 5, 4, 5, 1, 4, 1, 2, 0, 0)\n",
      "Patient(2d58) -> (0, 1, 0, 0, 4, 3, 3, 5, 5, 4, 5, 8, 7, 10, 13, 3, 7, 13, 15, 18, 8, 15, 15, 16, 11, 14, 12, 4, 10, 10, 4, 3, 4, 5, 5, 3, 3, 2, 2, 1)\n",
      "Patient(a1d4) -> (0, 1, 0, 0, 3, 4, 2, 7, 8, 5, 2, 8, 11, 5, 5, 8, 14, 11, 6, 11, 9, 16, 18, 6, 12, 5, 4, 3, 5, 7, 8, 3, 5, 4, 5, 5, 4, 0, 1, 1)\n",
      "Patient(71e9) -> (0, 0, 2, 1, 4, 3, 6, 4, 6, 7, 9, 9, 3, 11, 6, 12, 4, 17, 13, 15, 13, 12, 8, 7, 4, 7, 12, 9, 5, 6, 5, 4, 7, 3, 5, 4, 2, 3, 0, 1)\n",
      "Patient(65c1) -> (0, 0, 0, 0, 1, 3, 1, 6, 6, 5, 5, 6, 3, 6, 13, 3, 10, 13, 9, 16, 15, 9, 11, 4, 6, 4, 11, 11, 12, 3, 5, 8, 7, 4, 6, 4, 1, 3, 0, 0)\n",
      "Patient(1edd) -> (0, 1, 2, 1, 1, 1, 4, 1, 5, 2, 3, 3, 10, 7, 13, 5, 7, 17, 6, 9, 12, 13, 10, 4, 12, 4, 6, 7, 6, 10, 8, 2, 5, 1, 3, 4, 2, 0, 2, 0)\n",
      "Patient(277b) -> (0, 1, 1, 0, 1, 2, 4, 3, 6, 4, 7, 5, 5, 7, 5, 10, 7, 8, 18, 17, 9, 8, 12, 11, 11, 11, 14, 6, 11, 2, 10, 9, 5, 6, 5, 3, 4, 2, 2, 0)\n",
      "Patient(fe0e) -> (0, 0, 0, 0, 2, 3, 6, 5, 7, 4, 3, 2, 10, 7, 9, 11, 12, 5, 12, 9, 13, 19, 14, 17, 5, 13, 8, 11, 5, 10, 9, 8, 7, 5, 3, 1, 4, 0, 2, 1)\n",
      "Patient(66d3) -> (0, 0, 0, 1, 2, 1, 4, 3, 6, 7, 4, 2, 12, 6, 12, 4, 14, 7, 8, 14, 13, 19, 6, 9, 12, 6, 4, 13, 6, 7, 2, 3, 6, 5, 4, 2, 3, 0, 1, 0)\n",
      "Patient(3ff3) -> (0, 0, 2, 1, 2, 5, 4, 2, 7, 8, 4, 7, 11, 9, 8, 11, 15, 17, 11, 12, 7, 12, 7, 6, 7, 4, 13, 5, 7, 6, 6, 9, 2, 1, 1, 2, 2, 0, 1, 0)\n",
      "Patient(4102) -> (0, 1, 2, 0, 1, 4, 3, 2, 2, 7, 3, 3, 12, 13, 11, 13, 6, 5, 9, 16, 9, 19, 16, 11, 8, 9, 14, 12, 11, 9, 6, 6, 6, 1, 1, 2, 4, 3, 1, 1)\n",
      "Patient(12c9) -> (0, 1, 1, 3, 1, 4, 4, 1, 8, 2, 2, 3, 12, 12, 10, 15, 13, 6, 5, 5, 18, 19, 9, 6, 11, 12, 7, 6, 3, 6, 3, 2, 4, 3, 1, 5, 4, 2, 2, 0)\n",
      "Patient(5b04) -> (0, 0, 2, 3, 2, 3, 2, 6, 3, 8, 7, 4, 6, 6, 9, 5, 12, 12, 8, 5, 12, 10, 16, 7, 14, 12, 5, 4, 6, 9, 8, 5, 6, 6, 1, 4, 3, 0, 2, 0)\n",
      "Patient(1fef) -> (0, 0, 0, 3, 4, 5, 1, 7, 7, 8, 2, 5, 12, 4, 10, 14, 5, 5, 17, 13, 16, 15, 13, 6, 12, 9, 10, 3, 3, 7, 4, 4, 8, 2, 6, 5, 1, 0, 1, 0)\n",
      "Patient(01c0) -> (0, 1, 1, 1, 1, 3, 3, 2, 6, 3, 9, 7, 8, 8, 4, 13, 7, 14, 11, 15, 14, 13, 5, 13, 7, 14, 9, 10, 5, 11, 5, 3, 5, 1, 1, 4, 4, 1, 2, 0)\n",
      "Patient(57b5) -> (0, 1, 1, 1, 2, 3, 5, 3, 6, 3, 7, 10, 3, 8, 12, 4, 12, 9, 15, 5, 17, 16, 5, 10, 10, 15, 7, 5, 3, 11, 5, 5, 6, 1, 1, 1, 1, 0, 2, 1)\n",
      "Patient(226c) -> (0, 0, 2, 1, 3, 3, 2, 7, 4, 4, 3, 8, 12, 9, 12, 9, 5, 16, 8, 17, 7, 11, 14, 7, 13, 11, 7, 12, 12, 7, 8, 5, 7, 2, 2, 4, 1, 1, 1, 0)\n",
      "Patient(c653) -> (0, 0, 1, 2, 4, 2, 2, 3, 5, 7, 10, 5, 5, 12, 3, 13, 4, 13, 7, 15, 9, 12, 18, 14, 16, 12, 3, 11, 3, 2, 7, 4, 8, 2, 2, 1, 3, 0, 1, 1)\n",
      "Patient(94fd) -> (0, 0, 1, 1, 1, 5, 1, 5, 2, 2, 4, 10, 4, 8, 14, 6, 15, 6, 12, 15, 15, 13, 7, 17, 4, 5, 11, 4, 8, 7, 9, 4, 5, 3, 2, 5, 4, 3, 2, 1)\n",
      "Patient(ebf2) -> (0, 0, 2, 2, 3, 4, 6, 3, 7, 6, 4, 5, 8, 4, 7, 7, 6, 11, 12, 19, 20, 18, 9, 5, 4, 7, 14, 8, 4, 3, 7, 7, 8, 3, 5, 4, 1, 3, 1, 0)\n",
      "Patient(fc73) -> (0, 0, 0, 1, 4, 4, 6, 3, 8, 6, 4, 10, 12, 3, 3, 6, 8, 7, 17, 16, 14, 15, 17, 4, 14, 13, 4, 4, 12, 11, 6, 9, 5, 5, 2, 5, 2, 1, 0, 1)\n",
      "Patient(d4a0) -> (0, 1, 1, 0, 3, 2, 4, 6, 8, 6, 2, 3, 11, 3, 14, 14, 12, 8, 8, 16, 13, 7, 6, 9, 15, 7, 6, 4, 10, 8, 10, 4, 2, 6, 5, 5, 2, 3, 2, 1)\n",
      "Patient(a9f2) -> (0, 0, 2, 3, 3, 4, 5, 3, 6, 7, 10, 5, 10, 13, 14, 3, 8, 10, 9, 9, 19, 15, 15, 6, 8, 8, 11, 5, 5, 7, 3, 6, 6, 4, 5, 2, 2, 3, 0, 0)\n",
      "Patient(dc22) -> (0, 1, 2, 2, 2, 3, 6, 6, 6, 7, 6, 3, 11, 12, 13, 15, 15, 10, 14, 11, 11, 8, 6, 12, 10, 5, 12, 7, 7, 11, 5, 8, 5, 2, 5, 5, 2, 0, 2, 1)\n",
      "Patient(a6e7) -> (0, 0, 2, 1, 3, 5, 6, 7, 5, 8, 9, 3, 12, 10, 12, 4, 12, 9, 13, 10, 10, 6, 10, 11, 4, 15, 13, 7, 3, 4, 2, 9, 7, 2, 4, 2, 1, 2, 1, 1)\n",
      "Patient(3fb2) -> (0, 0, 1, 2, 4, 1, 5, 5, 2, 3, 4, 8, 8, 12, 5, 15, 9, 17, 7, 19, 14, 18, 12, 17, 14, 4, 13, 13, 8, 11, 5, 6, 6, 2, 3, 5, 2, 1, 1, 1)\n",
      "Patient(11cc) -> (0, 0, 0, 3, 1, 3, 6, 4, 3, 4, 8, 3, 4, 8, 3, 11, 5, 7, 10, 5, 15, 9, 16, 17, 16, 3, 8, 9, 8, 3, 3, 9, 5, 1, 6, 5, 4, 2, 2, 0)\n",
      "Patient(c9f5) -> (0, 1, 2, 2, 2, 5, 5, 1, 4, 6, 3, 6, 5, 9, 6, 7, 4, 7, 16, 7, 16, 13, 9, 16, 12, 6, 7, 9, 10, 3, 6, 4, 5, 4, 6, 3, 4, 3, 2, 1)\n",
      "Patient(a73f) -> (0, 1, 1, 2, 3, 1, 5, 1, 2, 2, 5, 7, 6, 6, 5, 10, 6, 7, 17, 13, 15, 16, 17, 14, 4, 4, 10, 10, 10, 11, 9, 9, 5, 4, 4, 2, 1, 0, 1, 0)\n",
      "Patient(dab2) -> (0, 1, 0, 3, 2, 4, 1, 1, 5, 9, 10, 7, 12, 10, 9, 15, 12, 13, 13, 6, 19, 9, 10, 6, 13, 5, 13, 6, 7, 2, 5, 5, 2, 1, 1, 1, 1, 3, 0, 1)\n",
      "Patient(65a1) -> (0, 1, 1, 3, 1, 1, 5, 5, 3, 7, 2, 2, 3, 12, 4, 6, 8, 15, 16, 16, 15, 4, 14, 5, 13, 10, 7, 10, 6, 3, 2, 3, 6, 3, 3, 5, 4, 3, 2, 1)\n",
      "Patient(8bcb) -> (0, 0, 0, 2, 2, 1, 3, 4, 5, 5, 6, 5, 5, 12, 13, 5, 7, 5, 11, 15, 18, 7, 9, 10, 14, 12, 11, 9, 10, 3, 2, 9, 6, 2, 2, 5, 3, 0, 0, 1)\n",
      "Patient(4004) -> (0, 0, 1, 3, 3, 1, 2, 1, 8, 9, 2, 8, 10, 3, 8, 6, 10, 13, 11, 17, 19, 6, 4, 11, 6, 12, 7, 5, 5, 4, 4, 8, 2, 6, 6, 4, 2, 2, 0, 0)\n",
      "Patient(c2af) -> (0, 1, 1, 3, 4, 5, 2, 1, 3, 7, 9, 6, 10, 5, 8, 15, 11, 12, 15, 6, 12, 16, 6, 4, 14, 3, 12, 9, 6, 11, 5, 8, 5, 5, 6, 1, 2, 1, 2, 0)\n",
      "Patient(8037) -> (0, 0, 1, 3, 1, 4, 3, 6, 7, 8, 5, 7, 11, 3, 6, 11, 6, 10, 6, 19, 18, 14, 6, 10, 7, 9, 8, 5, 8, 3, 10, 2, 5, 1, 5, 4, 2, 1, 0, 1)\n",
      "Patient(cb49) -> (0, 1, 1, 3, 3, 4, 4, 6, 3, 4, 9, 9, 7, 6, 8, 15, 12, 15, 6, 11, 6, 18, 5, 14, 15, 12, 9, 8, 3, 6, 10, 6, 8, 7, 2, 5, 4, 3, 1, 1)\n",
      "Patient(2b4b) -> (0, 1, 2, 2, 4, 3, 1, 4, 8, 9, 5, 10, 10, 3, 4, 6, 7, 11, 16, 6, 14, 9, 11, 10, 10, 7, 10, 8, 8, 4, 5, 8, 4, 4, 5, 2, 4, 1, 1, 0)\n",
      "Patient(80a8) -> (0, 0, 2, 3, 4, 5, 4, 6, 2, 9, 7, 4, 9, 10, 8, 11, 16, 12, 15, 17, 19, 10, 18, 13, 15, 11, 8, 4, 7, 11, 6, 7, 6, 5, 1, 3, 1, 0, 0, 0)\n",
      "Patient(ac50) -> (0, 1, 1, 3, 1, 4, 6, 2, 8, 2, 10, 3, 11, 9, 13, 15, 5, 15, 6, 10, 10, 5, 14, 15, 12, 7, 4, 5, 11, 4, 6, 9, 5, 6, 1, 1, 2, 1, 2, 1)\n",
      "Patient(57ef) -> (0, 0, 1, 3, 2, 5, 1, 2, 7, 6, 6, 3, 12, 9, 4, 14, 4, 6, 12, 9, 12, 7, 11, 7, 16, 8, 13, 6, 7, 6, 10, 7, 6, 3, 1, 5, 4, 3, 0, 0)\n",
      "Patient(cc45) -> (0, 0, 1, 2, 3, 4, 5, 7, 5, 4, 10, 5, 12, 12, 5, 4, 7, 9, 18, 16, 16, 10, 15, 15, 10, 4, 3, 7, 5, 9, 4, 6, 2, 4, 1, 4, 2, 2, 2, 1)\n",
      "Patient(9184) -> (0, 1, 2, 1, 1, 3, 5, 3, 6, 3, 10, 10, 11, 10, 13, 10, 13, 6, 6, 14, 5, 4, 5, 5, 9, 4, 12, 7, 7, 4, 7, 9, 3, 3, 6, 3, 4, 1, 2, 0)\n",
      "Patient(84be) -> (0, 1, 2, 2, 3, 5, 2, 4, 5, 6, 8, 3, 5, 4, 3, 15, 15, 12, 16, 7, 20, 15, 12, 8, 9, 6, 12, 5, 8, 3, 8, 5, 4, 1, 3, 2, 1, 3, 1, 0)\n",
      "Patient(0af0) -> (0, 0, 0, 2, 4, 4, 5, 3, 3, 3, 10, 4, 4, 4, 14, 11, 15, 13, 10, 14, 11, 17, 9, 11, 11, 7, 10, 12, 10, 10, 10, 8, 7, 5, 2, 2, 4, 1, 2, 1)\n",
      "Patient(bf77) -> (0, 0, 2, 1, 1, 4, 4, 7, 2, 9, 4, 10, 12, 7, 6, 6, 11, 12, 9, 15, 15, 6, 6, 13, 5, 12, 9, 6, 4, 7, 7, 6, 5, 4, 1, 4, 2, 2, 2, 1)\n",
      "Patient(c56c) -> (0, 1, 2, 1, 1, 4, 5, 4, 4, 5, 9, 7, 10, 3, 13, 13, 8, 9, 17, 16, 16, 15, 12, 13, 5, 12, 10, 9, 11, 9, 4, 5, 5, 2, 2, 5, 1, 0, 0, 1)\n",
      "Patient(7d0c) -> (0, 0, 1, 3, 2, 3, 6, 4, 5, 7, 2, 4, 11, 11, 3, 8, 8, 16, 5, 13, 16, 5, 8, 8, 6, 9, 10, 10, 9, 3, 3, 5, 3, 5, 4, 5, 3, 3, 0, 1)\n",
      "Patient(c736) -> (0, 1, 1, 2, 2, 5, 1, 7, 4, 2, 5, 5, 4, 6, 6, 4, 16, 11, 14, 16, 14, 14, 8, 17, 4, 14, 13, 7, 6, 3, 7, 7, 5, 6, 3, 4, 2, 2, 1, 1)\n",
      "Patient(c5c8) -> (0, 1, 1, 1, 4, 1, 6, 4, 6, 3, 6, 5, 6, 4, 14, 13, 13, 9, 12, 19, 9, 10, 15, 10, 9, 10, 10, 7, 5, 6, 8, 6, 6, 4, 3, 5, 2, 1, 1, 1)\n",
      "Patient(050a) -> (0, 0, 0, 1, 4, 5, 6, 3, 8, 7, 9, 10, 8, 6, 5, 12, 15, 5, 10, 5, 8, 13, 18, 17, 14, 9, 13, 4, 10, 11, 10, 8, 8, 6, 5, 5, 2, 0, 2, 0)\n",
      "Patient(a085) -> (0, 0, 1, 0, 3, 2, 5, 4, 8, 2, 9, 3, 3, 10, 12, 9, 14, 11, 13, 8, 6, 18, 11, 9, 13, 11, 8, 5, 5, 2, 8, 5, 3, 5, 4, 1, 3, 1, 1, 0)\n"
     ]
    }
   ],
   "source": [
    "for pid, pdata in patients_dict.items():\n",
    "    print(\"Patient({}) -> {}\".format(pid, pdata))"
   ]
  },
  {
   "cell_type": "markdown",
   "id": "f2643109-a925-49f3-a80e-a830b5a99f23",
   "metadata": {},
   "source": [
    "Let's practice with our new data structure"
   ]
  },
  {
   "cell_type": "code",
   "execution_count": null,
   "id": "4f03168d-d223-487a-a73c-40e05a40da76",
   "metadata": {},
   "outputs": [],
   "source": []
  },
  {
   "cell_type": "code",
   "execution_count": null,
   "id": "efe6dab4-fbd9-4b20-baa9-897fdf52dc7a",
   "metadata": {},
   "outputs": [],
   "source": []
  },
  {
   "cell_type": "code",
   "execution_count": null,
   "id": "d658d0c1-a451-4a5a-96e3-c0bc56c90431",
   "metadata": {},
   "outputs": [],
   "source": []
  },
  {
   "cell_type": "markdown",
   "id": "ae5424a8-53d5-4a0f-9a28-9fa1b8714777",
   "metadata": {},
   "source": [
    "Let's get on with the _real deal_ : let's gather some statistics!"
   ]
  },
  {
   "cell_type": "code",
   "execution_count": null,
   "id": "1ba867f5-daf0-415b-8a65-6178fa74a8f8",
   "metadata": {},
   "outputs": [],
   "source": []
  },
  {
   "cell_type": "code",
   "execution_count": null,
   "id": "c7c221bf-62c9-4640-a1e9-18ac0bdfb263",
   "metadata": {},
   "outputs": [],
   "source": []
  },
  {
   "cell_type": "code",
   "execution_count": null,
   "id": "bded191e-e0aa-4406-934c-4873de21e3b9",
   "metadata": {},
   "outputs": [],
   "source": []
  },
  {
   "cell_type": "code",
   "execution_count": null,
   "id": "c94458ea-bf76-41ab-93a6-949f40fbc10d",
   "metadata": {},
   "outputs": [],
   "source": []
  },
  {
   "cell_type": "code",
   "execution_count": null,
   "id": "d234ec24-3e1b-4408-bffd-f74634967ae6",
   "metadata": {},
   "outputs": [],
   "source": []
  },
  {
   "cell_type": "markdown",
   "id": "3b736e26-d4b7-459d-9ae5-ed011c932431",
   "metadata": {},
   "source": [
    "--- \n",
    "\n",
    "Well done for reaching this point! 🎉"
   ]
  },
  {
   "cell_type": "markdown",
   "id": "05c243c2-9f8e-4c3a-9c25-b5d81d8da3d8",
   "metadata": {},
   "source": [
    "**GREAT TIME FOR A BREAK NOW!** ☕️🧁🍪"
   ]
  },
  {
   "cell_type": "markdown",
   "id": "fe0323ce-2e9c-401e-93cb-cc1f4c548f79",
   "metadata": {},
   "source": [
    "---\n"
   ]
  },
  {
   "cell_type": "markdown",
   "id": "efb36e5f-ffbf-45d4-9406-2a04bb7a8e93",
   "metadata": {},
   "source": [
    "Dealing with more _realistic cases_ ❌"
   ]
  },
  {
   "cell_type": "code",
   "execution_count": null,
   "id": "8947d4c0-2eed-4fa9-8628-fd241b7aa30c",
   "metadata": {},
   "outputs": [],
   "source": []
  },
  {
   "cell_type": "code",
   "execution_count": null,
   "id": "4616e282-b58e-456e-a3e4-f304b0801be1",
   "metadata": {},
   "outputs": [],
   "source": []
  },
  {
   "cell_type": "code",
   "execution_count": null,
   "id": "e2c5dfd8-1d96-42a7-b04c-989c4e967ad7",
   "metadata": {},
   "outputs": [],
   "source": []
  },
  {
   "cell_type": "markdown",
   "id": "372f3ea2-a9c3-4677-9abc-c85f72e67a3f",
   "metadata": {},
   "source": [
    "Putting our helmets on (_with some testing_) ⛑"
   ]
  },
  {
   "cell_type": "code",
   "execution_count": null,
   "id": "1576ca52-cb1f-4fb8-b7d7-007c8d9921a0",
   "metadata": {},
   "outputs": [],
   "source": []
  },
  {
   "cell_type": "code",
   "execution_count": null,
   "id": "167454f9-57b7-4ffc-bb02-3dc369ba7a7e",
   "metadata": {},
   "outputs": [],
   "source": []
  },
  {
   "cell_type": "code",
   "execution_count": null,
   "id": "f2d68ada-bae5-4cb1-b889-c7590e323498",
   "metadata": {},
   "outputs": [],
   "source": []
  },
  {
   "cell_type": "markdown",
   "id": "5f661261-c368-4978-99cf-aed9253a1209",
   "metadata": {},
   "source": [
    "Now it's time to rethink about our Data (Abstractions): let's define our own **new type**!"
   ]
  },
  {
   "cell_type": "code",
   "execution_count": null,
   "id": "f32e649c-7e9c-4f6d-beda-0c32ef7704cf",
   "metadata": {},
   "outputs": [],
   "source": []
  },
  {
   "cell_type": "code",
   "execution_count": null,
   "id": "e9a8be34-50f3-4eff-b908-5d07504af535",
   "metadata": {},
   "outputs": [],
   "source": []
  },
  {
   "cell_type": "code",
   "execution_count": null,
   "id": "9dc9a5bd-dd82-4a01-8aa4-1f309f729f1c",
   "metadata": {},
   "outputs": [],
   "source": []
  },
  {
   "cell_type": "code",
   "execution_count": null,
   "id": "841d13aa-ebda-48fd-93f3-a09ea2b16484",
   "metadata": {},
   "outputs": [],
   "source": []
  },
  {
   "cell_type": "code",
   "execution_count": null,
   "id": "2d9c8e33-edd2-4d39-81af-9b9807f1a77d",
   "metadata": {},
   "outputs": [],
   "source": []
  }
 ],
 "metadata": {
  "kernelspec": {
   "display_name": "Python 3 (ipykernel)",
   "language": "python",
   "name": "python3"
  },
  "language_info": {
   "codemirror_mode": {
    "name": "ipython",
    "version": 3
   },
   "file_extension": ".py",
   "mimetype": "text/x-python",
   "name": "python",
   "nbconvert_exporter": "python",
   "pygments_lexer": "ipython3",
   "version": "3.9.7"
  }
 },
 "nbformat": 4,
 "nbformat_minor": 5
}
