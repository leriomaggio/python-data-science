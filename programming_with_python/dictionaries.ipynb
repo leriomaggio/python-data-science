{
 "cells": [
  {
   "cell_type": "markdown",
   "metadata": {
    "slideshow": {
     "slide_type": "slide"
    }
   },
   "source": [
    "# Dictionaries"
   ]
  },
  {
   "cell_type": "markdown",
   "metadata": {
    "slideshow": {
     "slide_type": "fragment"
    }
   },
   "source": [
    "A dictionary is like a list, but more general. \n",
    "\n",
    "In a list, the indices have to be integers; in a dictionary they can be (almost) \n",
    "any type.\n",
    "\n",
    "You can think of a dictionary as a **mapping** between a set of indices \n",
    "(which are called `keys`) and a set of **values**. Each key maps to a value. \n",
    "\n",
    "The association of a key and a value is called a **key-value pair** or sometimes an \n",
    "**item**."
   ]
  },
  {
   "cell_type": "markdown",
   "metadata": {
    "slideshow": {
     "slide_type": "subslide"
    }
   },
   "source": [
    "### General Syntax\n",
    "\n",
    "A general dictionary in Python looks something like this:"
   ]
  },
  {
   "cell_type": "markdown",
   "metadata": {
    "slideshow": {
     "slide_type": "fragment"
    }
   },
   "source": [
    "```python\n",
    "dictionary_name = {key_1: value_1, key_2: value_2, key_3: value_3}\n",
    "```"
   ]
  },
  {
   "cell_type": "markdown",
   "metadata": {
    "slideshow": {
     "slide_type": "fragment"
    }
   },
   "source": [
    "Since the keys and values in dictionaries can be long, we often write just one key-value pair on a line. You might see dictionaries that look more like this:"
   ]
  },
  {
   "cell_type": "markdown",
   "metadata": {
    "slideshow": {
     "slide_type": "fragment"
    }
   },
   "source": [
    "```python \n",
    "dictionary_name = {key_1: value_1,\n",
    "                   key_2: value_2,\n",
    "                   key_3: value_3,\n",
    "                   }\n",
    "```"
   ]
  },
  {
   "cell_type": "markdown",
   "metadata": {
    "slideshow": {
     "slide_type": "fragment"
    }
   },
   "source": [
    "This is a bit easier to read, especially if the values are long."
   ]
  },
  {
   "cell_type": "markdown",
   "metadata": {
    "slideshow": {
     "slide_type": "subslide"
    }
   },
   "source": [
    "#### Example\n",
    "\n",
    "As an example, we’ll build a dictionary that maps from English to Spanish words, so the keys and the values are all strings."
   ]
  },
  {
   "cell_type": "markdown",
   "metadata": {},
   "source": [
    "The function `dict` creates a new dictionary with no items. \n",
    "Because `dict` is the name of a built-in function, you should avoid using it as a \n",
    "variable name.\n",
    "    \n",
    "```python\n",
    ">>> eng2sp = dict()\n",
    ">>> print(eng2sp)\n",
    "{}\n",
    "    \n",
    "```"
   ]
  },
  {
   "cell_type": "markdown",
   "metadata": {
    "slideshow": {
     "slide_type": "subslide"
    }
   },
   "source": [
    "To add items to the dictionary, you can use square brackets:\n",
    "```python \n",
    ">>> eng2sp['one'] = 'uno'\n",
    "```\n",
    "\n",
    "This line creates an item that maps from the key `’one’` to the value `'uno'`. \n",
    "\n",
    "If we print the dictionary again, we see a key-value pair with a colon between \n",
    "the key and value:\n",
    "\n",
    "```python\n",
    ">>> print eng2sp\n",
    "{'one': 'uno'}\n",
    "```"
   ]
  },
  {
   "cell_type": "markdown",
   "metadata": {
    "slideshow": {
     "slide_type": "subslide"
    }
   },
   "source": [
    "This output format is also an **input** format. \n",
    "\n",
    "For example, you can create a new dictionary with three items:\n",
    "```python\n",
    ">>> eng2sp = {'one': 'uno', 'two': 'dos', 'three': 'tres'}\n",
    "```"
   ]
  },
  {
   "cell_type": "markdown",
   "metadata": {
    "slideshow": {
     "slide_type": "subslide"
    }
   },
   "source": [
    "## Another Example\n",
    "\n",
    "Another example of dictionary - still mapping words (`str`) to definitions (`str`) - is the\n",
    "a map associating to each Python **keywords** its corresponding definition.\n"
   ]
  },
  {
   "cell_type": "markdown",
   "metadata": {
    "slideshow": {
     "slide_type": "subslide"
    }
   },
   "source": [
    "```python \n",
    "python_words = {'list': 'A collection of values that are not connected, but have an order.',\n",
    "                'dictionary': 'A collection of key-value pairs.',\n",
    "                'function': 'A named set of instructions that defines a set of actions in Python.',\n",
    "                }\n",
    "```"
   ]
  },
  {
   "cell_type": "markdown",
   "metadata": {
    "slideshow": {
     "slide_type": "slide"
    }
   },
   "source": [
    "### Retrieving an Item"
   ]
  },
  {
   "cell_type": "markdown",
   "metadata": {
    "slideshow": {
     "slide_type": "subslide"
    }
   },
   "source": [
    "We can get individual items out of the dictionary, by giving the dictionary's name, and the key in square brackets:"
   ]
  },
  {
   "cell_type": "markdown",
   "metadata": {
    "slideshow": {
     "slide_type": "fragment"
    }
   },
   "source": [
    "```python \n",
    ">>> print(\"\\nWord: 'list'\")\n",
    "Word: 'list'\n",
    ">>> print(\"Meaning: \", python_words['list'])\n",
    "Meaning: A collection of values that are not connected, but have an order.\n",
    "```\n",
    "```python\n",
    ">>> print(\"\\nWord: dictionary'\")\n",
    "Word: 'dictionary'\n",
    ">>> print(\"Meaning: \", python_words['dictionary'])\n",
    "Meaning: A collection of key-value pairs.\n",
    "```"
   ]
  },
  {
   "cell_type": "markdown",
   "metadata": {
    "slideshow": {
     "slide_type": "subslide"
    }
   },
   "source": [
    "This code looks pretty repetitive, and it is. \n",
    "\n",
    "Dictionaries have their own for-loop syntax, but since there are \n",
    "**two kinds** of information in dictionaries, there are more alternatives to \n",
    "loop this structure than there are for lists."
   ]
  },
  {
   "cell_type": "markdown",
   "metadata": {
    "slideshow": {
     "slide_type": "slide"
    }
   },
   "source": [
    "## Traversing Dictionaries"
   ]
  },
  {
   "cell_type": "markdown",
   "metadata": {
    "slideshow": {
     "slide_type": "subslide"
    }
   },
   "source": [
    "Since dictionaries are really about connecting bits of information.\n",
    "\n",
    "The classic use of this data structure is to add key-value pairs whenever new data has been \n",
    "received, and then the key-value pairs are retrieved. We will see more on this \n",
    "in the next section about **operations with dictionaries**. \n",
    "\n",
    "Sometimes, however, you will want to **traverse** the entire map. \n",
    "\n",
    "There are several ways to do this:\n",
    "\n",
    "- You can loop through all key-value pairs;\n",
    "- You can loop through the keys, and pull out the values for any keys that you care about;\n",
    "- You can loop through the values."
   ]
  },
  {
   "cell_type": "markdown",
   "metadata": {
    "slideshow": {
     "slide_type": "subslide"
    }
   },
   "source": [
    "### Looping through all key-value pairs\n",
    "This is the kind of loop that was shown in the first example. Here's what this loop looks like, in a general format:"
   ]
  },
  {
   "cell_type": "markdown",
   "metadata": {
    "slideshow": {
     "slide_type": "fragment"
    }
   },
   "source": [
    "```python \n",
    "my_dict = {'key_1': 'value_1',\n",
    "    'key_2': 'value_2',\n",
    "    'key_3': 'value_3',\n",
    "    }\n",
    "\n",
    "for key, value in my_dict.items():\n",
    "    print('Key: ', key)\n",
    "    print('Value: ', value)\n",
    "```"
   ]
  },
  {
   "cell_type": "markdown",
   "metadata": {
    "slideshow": {
     "slide_type": "subslide"
    }
   },
   "source": [
    "This works because the method `.items()` pulls all **key-value pairs** from a dictionary \n",
    "into a list of tuples:"
   ]
  },
  {
   "cell_type": "markdown",
   "metadata": {
    "slideshow": {
     "slide_type": "fragment"
    }
   },
   "source": [
    "```python \n",
    ">>> print(my_dict.items())\n",
    "dict_items([('key_2', 'value_2'), ('key_3', 'value_3'), ('key_1', 'value_1')])\n",
    "```"
   ]
  },
  {
   "cell_type": "markdown",
   "metadata": {
    "slideshow": {
     "slide_type": "subslide"
    }
   },
   "source": [
    "The syntax `for key, value in my_dict.items():` does the work of looping through this list of tuples, and pulling the first and second item from each tuple for us."
   ]
  },
  {
   "cell_type": "markdown",
   "metadata": {
    "slideshow": {
     "slide_type": "subslide"
    }
   },
   "source": [
    "### Looping through all keys in a dictionary\n",
    "\n",
    "Python provides a clear syntax for looping through just the keys in a dictionary:"
   ]
  },
  {
   "cell_type": "markdown",
   "metadata": {
    "slideshow": {
     "slide_type": "fragment"
    }
   },
   "source": [
    "```python \n",
    ">>> my_dict = {'key_1': 'value_1',\n",
    "...    'key_2': 'value_2',\n",
    "...    'key_3': 'value_3',\n",
    "...    }\n",
    ">>> for key in my_dict.keys():\n",
    "...    print('Key: ', key)\n",
    "Key: key_1\n",
    "Key: key_2\n",
    "Key: key_3\n",
    "```    "
   ]
  },
  {
   "cell_type": "markdown",
   "metadata": {
    "slideshow": {
     "slide_type": "subslide"
    }
   },
   "source": [
    "This is actually the **default behavior** of looping through the dictionary itself. \n",
    "\n",
    "So you can leave out the `.keys()` part, and get the exact same behavior:"
   ]
  },
  {
   "cell_type": "markdown",
   "metadata": {
    "slideshow": {
     "slide_type": "fragment"
    }
   },
   "source": [
    "```python\n",
    ">>> for key in my_dict:\n",
    "...    print('Key: ', key)\n",
    "Key: key_1\n",
    "Key: key_2\n",
    "Key: key_3\n",
    "```"
   ]
  },
  {
   "cell_type": "markdown",
   "metadata": {
    "slideshow": {
     "slide_type": "subslide"
    }
   },
   "source": [
    "The only advantage of using the `.keys()` in the code is a little bit of clarity. \n",
    "\n",
    "But anyone who knows Python reasonably well is going to recognize what the second version does. \n",
    "\n",
    "In the rest of our code, we will leave out the `.keys()` when we want this behavior.\n",
    "\n",
    "You can pull out the value of any key that you are interested in within your loop, \n",
    "using the standard notation for accessing a dictionary value from a key:"
   ]
  },
  {
   "cell_type": "markdown",
   "metadata": {
    "slideshow": {
     "slide_type": "fragment"
    }
   },
   "source": [
    "```python\n",
    ">>> for key in my_dict:\n",
    "...    print('Key: ', key)\n",
    "...    if key == 'key_2':\n",
    "...        print(\"\\tThe value for key_2 is: \", my_dict[key])\n",
    "Key: key_1\n",
    "Key: key_2\n",
    "    The value for key_2 is value_2.\n",
    "Key: key_3\n",
    "```"
   ]
  },
  {
   "cell_type": "markdown",
   "metadata": {
    "slideshow": {
     "slide_type": "subslide"
    }
   },
   "source": [
    "### Looping through all values in a dictionary\n",
    "\n",
    "Python provides a straightforward syntax for looping through **all the values** in a dictionary, as well:"
   ]
  },
  {
   "cell_type": "markdown",
   "metadata": {
    "slideshow": {
     "slide_type": "fragment"
    }
   },
   "source": [
    "```python \n",
    ">>> my_dict = {'key_1': 'value_1',\n",
    "...    'key_2': 'value_2',\n",
    "...    'key_3': 'value_3',\n",
    "...    }\n",
    ">>> for value in my_dict.values():\n",
    "...    print('Value: ', value)\n",
    "Value: value_1\n",
    "Value: value_2\n",
    "Value: value_3\n",
    "```"
   ]
  },
  {
   "cell_type": "markdown",
   "metadata": {
    "slideshow": {
     "slide_type": "slide"
    }
   },
   "source": [
    "<a name='common_operations'></a>Common operations with dictionaries\n",
    "===\n",
    "There are a few common things you will want to do with dictionaries. These include adding new key-value pairs, modifying information in the dictionary, and removing items from dictionaries."
   ]
  },
  {
   "cell_type": "markdown",
   "metadata": {
    "slideshow": {
     "slide_type": "subslide"
    }
   },
   "source": [
    "### Adding new key-value pairs\n",
    "To add a new key-value pair, you give the dictionary name followed by the new key in square brackets, and set that equal to the new value. We will show this by starting with an empty dictionary, and re-creating the dictionary from the example above."
   ]
  },
  {
   "cell_type": "markdown",
   "metadata": {
    "slideshow": {
     "slide_type": "fragment"
    }
   },
   "source": [
    "```python \n",
    "# Create an empty dictionary.\n",
    "python_words = {}\n",
    "\n",
    "# Fill the dictionary, pair by pair.\n",
    "python_words['list'] ='A collection of values that are not connected, but have an order.'\n",
    "python_words['dictionary'] = 'A collection of key-value pairs.'\n",
    "python_words['function'] = 'A named set of instructions that defines a set of actions in Python.'\n",
    "```"
   ]
  },
  {
   "cell_type": "markdown",
   "metadata": {
    "slideshow": {
     "slide_type": "subslide"
    }
   },
   "source": [
    "### Modifying values in a dictionary\n",
    "\n",
    "At some point you may want to modify one of the values in your dictionary. Modifying a value in a dictionary is pretty similar to modifying an element in a list. You give the name of the dictionary and then the key in square brackets, and set that equal to the new value."
   ]
  },
  {
   "cell_type": "markdown",
   "metadata": {
    "slideshow": {
     "slide_type": "fragment"
    }
   },
   "source": [
    "```python \n",
    "python_words = {'list': 'A collection of values that are not connected, but have an order.',\n",
    "                'dictionary': 'A collection of key-value pairs.',\n",
    "                'function': 'A named set of instructions that defines a set of actions in Python.',\n",
    "                }\n",
    "\n",
    "print('dictionary: ' + python_words['dictionary'])\n",
    "    \n",
    "# Clarify one of the meanings.\n",
    "python_words['dictionary'] = 'A collection of key-value pairs. \\\n",
    "                              Each key can be used to access its corresponding value.'\n",
    "\n",
    "print('\\ndictionary: ' + python_words['dictionary'])\n",
    "```"
   ]
  },
  {
   "cell_type": "markdown",
   "metadata": {
    "slideshow": {
     "slide_type": "subslide"
    }
   },
   "source": [
    "### Removing key-value pairs\n",
    "\n",
    "You may want to remove some key-value pairs from one of your dictionaries at some point. \n",
    "\n",
    "You can do this using a very similar `pop` function like we used for lists. \n",
    "\n",
    "The `pop` function will accept in input a `key`, and will remove the `key-value` pair from the dictionary (if any), returning the `value`.\n",
    "\n",
    "If the `key` is **not** in the dictionary, an `IndexError` exception is raised."
   ]
  },
  {
   "cell_type": "markdown",
   "metadata": {
    "slideshow": {
     "slide_type": "subslide"
    }
   },
   "source": [
    "```python \n",
    "\n",
    "python_words = {'list': 'A collection of values that are not connected, but have an order.',\n",
    "                'dictionary': 'A collection of key-value pairs.',\n",
    "                'function': 'A named set of instructions that defines a set of actions in Python.',\n",
    "                }\n",
    "    \n",
    "# Remove the word 'list' and its meaning.\n",
    "definition = python_words.pop('list')\n",
    "print('List definition: ', definition)\n",
    "\n",
    "# Show the current set of words and meanings.\n",
    "print(\"\\n\\nThese are the Python words I know:\")\n",
    "for word, meaning in python_words.items():\n",
    "    print(\"\\nWord: \", word)\n",
    "    print(\"Meaning: \", meaning)\n",
    "```"
   ]
  },
  {
   "cell_type": "markdown",
   "metadata": {
    "slideshow": {
     "slide_type": "subslide"
    }
   },
   "source": [
    "#### The `popitem` function"
   ]
  },
  {
   "cell_type": "markdown",
   "metadata": {
    "slideshow": {
     "slide_type": "fragment"
    }
   },
   "source": [
    "In addition, dictionaries have another function to remove a `key-value` pair from a dictionary called `popitem`.\n",
    "\n",
    "The `popitem` function will accept no arguments and will remove the **last inserted** key-value pair in the dictionary, returning it.\n",
    "\n"
   ]
  },
  {
   "cell_type": "markdown",
   "metadata": {
    "slideshow": {
     "slide_type": "subslide"
    }
   },
   "source": [
    "```python \n",
    ">>> python_words = {'list': 'A collection of values that are not connected, \\\n",
    "...                          but have an order.',\n",
    "...                'dictionary': 'A collection of key-value pairs.',\n",
    "...                'function': 'A named set of instructions that defines a set of \\\n",
    "...                             actions in Python.',\n",
    "...                }\n",
    "\n",
    ">>> pair = python_words.popitem()\n",
    ">>> print(pair)\n",
    "('function',\n",
    " 'A named set of instructions that defines a set of actions in Python.')\n",
    "```"
   ]
  },
  {
   "cell_type": "markdown",
   "metadata": {
    "slideshow": {
     "slide_type": "skip"
    }
   },
   "source": [
    "---"
   ]
  },
  {
   "cell_type": "markdown",
   "metadata": {
    "slideshow": {
     "slide_type": "slide"
    }
   },
   "source": [
    "## More on Dictionaries"
   ]
  },
  {
   "cell_type": "markdown",
   "metadata": {
    "slideshow": {
     "slide_type": "subslide"
    }
   },
   "source": [
    "Now that you have a clear idea of what a dictionary is, you might start wondering \n",
    "**what** can be stored in a dictionary. \n",
    "\n",
    "In other words, what **types** can be saved in a dictionary, and more **specifically** what can be used as a `key`, and what can be saved as `value`."
   ]
  },
  {
   "cell_type": "markdown",
   "metadata": {
    "slideshow": {
     "slide_type": "fragment"
    }
   },
   "source": [
    "1. Any Python object can be stored as a **value** of a dictionary\n",
    "2. Any Python object that is **hashable**."
   ]
  },
  {
   "cell_type": "markdown",
   "metadata": {
    "slideshow": {
     "slide_type": "subslide"
    }
   },
   "source": [
    "A dictionary is implemented using a **hashtable** and that means that the \n",
    "keys have to be hashable.\n",
    "\n",
    "A **hash** is a function that takes a value (of any kind) and returns an integer.\n",
    "\n",
    "Dictionaries use these integers, called **hash values**, to store and look up \n",
    "key-value pairs.\n",
    "\n",
    "This system works fine if the keys are **immutable**. But if the keys are **mutable**, like lists, bad things happen. \n",
    "\n",
    "For example, when you create a key-value pair, Python hashes the key and stores it in the corresponding location. \n",
    "\n",
    "If you modify the key and then hash it again, it would go to a different location. \n",
    "\n",
    "In that case you might have two entries for the same key, or you might not be able to find a key. Either way, the dictionary wouldn’t work correctly.\n",
    "\n",
    "That’s why **the keys have to be hashable**, and why mutable types like lists aren’t. \n",
    "\n",
    "The simplest way to get around this limitation is to use `tuples`.\n",
    "\n",
    "Since **dictionaries are mutable**, they **cannot** be used as keys, but they can be used as values."
   ]
  },
  {
   "cell_type": "markdown",
   "metadata": {
    "slideshow": {
     "slide_type": "slide"
    }
   },
   "source": [
    "## Nesting\n",
    "\n",
    "Nesting is one of the most powerful concepts we have come to so far. Nesting involves putting a list or dictionary inside another list or dictionary. We will look at two examples here, lists inside of a dictionary and dictionaries inside of a dictionary. With nesting, the kind of information we can model in our programs is expanded greatly."
   ]
  },
  {
   "cell_type": "markdown",
   "metadata": {
    "slideshow": {
     "slide_type": "subslide"
    }
   },
   "source": [
    "### Lists in a dictionary\n",
    "\n",
    "A dictionary connects two pieces of information. Those two pieces of information can be any kind of data structure in Python. Let's keep using strings for our keys, but let's try giving a list as a value.\n",
    "\n",
    "The first example will involve storing a number of people's favorite numbers. The keys consist of people's names, and the values are lists of each person's favorite numbers. In this first example, we will access each person's list one at a time."
   ]
  },
  {
   "cell_type": "markdown",
   "metadata": {
    "slideshow": {
     "slide_type": "subslide"
    }
   },
   "source": [
    "```python \n",
    "# This program stores people's favorite numbers, and displays them.\n",
    "favorite_numbers = {'eric': [3, 11, 19, 23, 42],\n",
    "                    'ever': [2, 4, 5],\n",
    "                    'willie': [5, 35, 120],\n",
    "                    }\n",
    "\n",
    "# Display each person's favorite numbers.\n",
    "print(\"Eric's favorite numbers are:\")\n",
    "print(favorite_numbers['eric'])\n",
    "\n",
    "print(\"\\nEver's favorite numbers are:\")\n",
    "print(favorite_numbers['ever'])\n",
    "\n",
    "print(\"\\nWillie's favorite numbers are:\")\n",
    "print(favorite_numbers['willie'])\n",
    "```"
   ]
  },
  {
   "cell_type": "markdown",
   "metadata": {
    "slideshow": {
     "slide_type": "subslide"
    }
   },
   "source": [
    "Things get a little more complicated inside the for loop. The value is a list of favorite numbers, so the for loop pulls each *favorite\\_number* out of the list one at a time. If it makes more sense to you, you are free to store the list in a new variable, and use that to define your for loop:\n"
   ]
  },
  {
   "cell_type": "markdown",
   "metadata": {
    "slideshow": {
     "slide_type": "fragment"
    }
   },
   "source": [
    "```python \n",
    "# This program stores people's favorite numbers, and displays them.\n",
    "favorite_numbers = {'eric': [3, 11, 19, 23, 42],\n",
    "                    'ever': [2, 4, 5],\n",
    "                    'willie': [5, 35, 120],\n",
    "                    }\n",
    "\n",
    "# Display each person's favorite numbers.\n",
    "for name in favorite_numbers:\n",
    "    print(\"\\n%s's favorite numbers are:\" % name.title())\n",
    "    # Each value is itself a list, so let's put that list in a variable.\n",
    "    current_favorite_numbers = favorite_numbers[name]\n",
    "    for favorite_number in current_favorite_numbers:\n",
    "        print(favorite_number)        \n",
    "```"
   ]
  },
  {
   "cell_type": "markdown",
   "metadata": {
    "slideshow": {
     "slide_type": "slide"
    }
   },
   "source": [
    "<a name='dictionaries_in_dictionary'></a>Dictionaries in a dictionary\n",
    "---\n",
    "The most powerful nesting concept we will cover right now is nesting a dictionary inside of a dictionary.\n",
    "\n",
    "To demonstrate this, let's make a dictionary of pets, with some information about each pet. The keys for this dictionary will consist of the pet's name. The values will include information such as the kind of animal, the owner, and whether the pet has been vaccinated."
   ]
  },
  {
   "cell_type": "markdown",
   "metadata": {
    "slideshow": {
     "slide_type": "fragment"
    }
   },
   "source": [
    "```python \n",
    "# This program stores information about pets. For each pet,\n",
    "#   we store the kind of animal, the owner's name, and\n",
    "#   the breed.\n",
    "pets = {'willie': {'kind': 'dog', 'owner': 'eric', 'vaccinated': True},\n",
    "        'walter': {'kind': 'cockroach', 'owner': 'eric', 'vaccinated': False},\n",
    "        'peso': {'kind': 'dog', 'owner': 'chloe', 'vaccinated': True},\n",
    "        }\n",
    "\n",
    "# Let's show all the information for each pet.\n",
    "for pet_name, pet_information in pets.items():\n",
    "    print(\"\\nHere is what I know about %s:\" % pet_name.title())\n",
    "    print(\"kind: \" + pet_information['kind'])\n",
    "    print(\"owner: \" + pet_information['owner'])\n",
    "    print(\"vaccinated: \" + str(pet_information['vaccinated']))\n",
    "```"
   ]
  },
  {
   "cell_type": "markdown",
   "metadata": {
    "slideshow": {
     "slide_type": "subslide"
    }
   },
   "source": [
    "<a name='important_note'></a>An important note about nesting\n",
    "---\n",
    "While one level of nesting is really useful, nesting much deeper than that gets really complicated, really quickly. There are other structures such as classes which can be even more useful for modeling information. In addition to this, we can use Python to store information in a database, which is the proper tool for storing deeply nested information.\n",
    "\n",
    "Often times when you are storing information in a database you will pull a small set of that information out and put it into a dictionary, or a slightly nested structure, and then work with it. But you will rarely, if ever, work with Python data structures nested more than one level deep."
   ]
  },
  {
   "cell_type": "markdown",
   "metadata": {
    "slideshow": {
     "slide_type": "subslide"
    }
   },
   "source": [
    "## Exercises\n",
    "\n",
    "> **Ex 1:** Implement a (dense) `matrix` data structure. A matrix is a two dimensional array (table) in which each element is uniquely identified by a pair of coordinates.\n",
    "Create a function that takes in input two values, `N` and `M`, corresponding to the number of rows and columns of the matrix, respectively, and returns the data structure.\n",
    ">\n",
    "> - **1.1**: Use only lists\n",
    "> -  **1.2**: Use dictionaries\n",
    "\n",
    "> **Ex 2:** Implement a (sparse) `matrix` data structure. A matrix is _sparse_ when it is **not** dense. In other words, there can be pairs of coordinates with no value.\n",
    ">\n",
    "> - **2.1**: Use only lists\n",
    "> - **2.2**: Use dictionaries"
   ]
  },
  {
   "cell_type": "markdown",
   "metadata": {
    "slideshow": {
     "slide_type": "skip"
    }
   },
   "source": [
    "---"
   ]
  },
  {
   "cell_type": "markdown",
   "metadata": {
    "slideshow": {
     "slide_type": "slide"
    }
   },
   "source": [
    "# Recursion and Memoization"
   ]
  },
  {
   "cell_type": "markdown",
   "metadata": {
    "slideshow": {
     "slide_type": "subslide"
    }
   },
   "source": [
    "It is legal for one function to call another; it is also legal for a function **to call itself**. \n",
    "\n",
    "It may not be obvious why that is a good thing, but it turns out to be one of the most magical things a program can do. \n",
    "\n",
    "For example, look at the following function:\n",
    "\n",
    "```python \n",
    "def countdown(n): \n",
    "    if n <= 0:\n",
    "        print('Blastoff!')\n",
    "    else:\n",
    "        print(n)\n",
    "        countdown(n-1)\n",
    "```"
   ]
  },
  {
   "cell_type": "markdown",
   "metadata": {
    "slideshow": {
     "slide_type": "subslide"
    }
   },
   "source": [
    "If `n` is `0` or negative, it outputs the word, `“Blastoff !”`.\n",
    "Otherwise, the function outputs `n` and then calls a function named `countdown` \n",
    "— itself — passing `n-1` as an argument.\n",
    "\n",
    "What happens if we call this function like this?\n",
    "```python \n",
    ">>> countdown(3)\n",
    "```"
   ]
  },
  {
   "cell_type": "markdown",
   "metadata": {
    "slideshow": {
     "slide_type": "fragment"
    }
   },
   "source": [
    "Every time a function gets called, Python creates a new function frame, which contains the function’s local variables and parameters. \n",
    "\n",
    "For a recursive function, there might be more than one frame on the stack at the same time."
   ]
  },
  {
   "cell_type": "markdown",
   "metadata": {
    "slideshow": {
     "slide_type": "subslide"
    }
   },
   "source": [
    "![recursion stack](../images/recursion.png)"
   ]
  },
  {
   "cell_type": "markdown",
   "metadata": {
    "slideshow": {
     "slide_type": "subslide"
    }
   },
   "source": [
    "As usual, the top of the stack is the frame for `__main__`. \n",
    "\n",
    "It is empty because we did not create any variables in `__main__` or pass any arguments to it.\n",
    "\n",
    "The four `countdown` frames have different values for the parameter `n`. The bottom of the stack, where `n=0`, is called the **base case**. \n",
    "\n",
    "It does not make a recursive call, so there are no more frames."
   ]
  },
  {
   "cell_type": "markdown",
   "metadata": {
    "slideshow": {
     "slide_type": "subslide"
    }
   },
   "source": [
    "## Another Example: Fibonacci"
   ]
  },
  {
   "cell_type": "markdown",
   "metadata": {
    "slideshow": {
     "slide_type": "subslide"
    }
   },
   "source": [
    "One of the most common example of a recursively defined mathematical function is **fibonacci**, which has the following definition (see \n",
    "[http://en.wikipedia.org/wiki/Fibonacci_number]()):\n",
    "\n",
    "```\n",
    "fibonacci(0) = 0\n",
    "fibonacci(1) = 1\n",
    "fibonacci(n) = fibonacci(n - 1) + fibonacci(n - 2)\n",
    "```"
   ]
  },
  {
   "cell_type": "markdown",
   "metadata": {
    "slideshow": {
     "slide_type": "subslide"
    }
   },
   "source": [
    "Translated into Python, it looks like this:\n",
    "\n",
    "```python \n",
    "def fibonacci (n): \n",
    "    if n==0:\n",
    "        return 0 \n",
    "    elif n==1:\n",
    "        return 1 \n",
    "    else:\n",
    "        return fibonacci(n-1) + fibonacci(n-2)\n",
    "```"
   ]
  },
  {
   "cell_type": "markdown",
   "metadata": {
    "slideshow": {
     "slide_type": "subslide"
    }
   },
   "source": [
    "If you play a bit with this `fibonacci` function, you might soon notice that \n",
    "**the bigger** the argument you provide, **the longer** the function takes to run. \n",
    "\n",
    "Furthermore, the run time increases very quickly.\n",
    "\n",
    "To understand why, please take a look at the **call graph** for `fibonacci` with \n",
    "`n=4`:\n"
   ]
  },
  {
   "cell_type": "markdown",
   "metadata": {
    "slideshow": {
     "slide_type": "subslide"
    }
   },
   "source": [
    "![Fibonacci](../images/fibonacci.png)"
   ]
  },
  {
   "cell_type": "markdown",
   "metadata": {
    "slideshow": {
     "slide_type": "subslide"
    }
   },
   "source": [
    "A call graph shows a set of function frames, with lines connecting each frame to the frames of the functions it calls. \n",
    "\n",
    "At the top of the graph, fibonacci with `n=4` calls fibonacci with `n=3` and `n=2`. \n",
    "\n",
    "In turn, fibonacci with `n=3` calls fibonacci with `n=2` and `n=1`. And so on.\n",
    "\n",
    "Count how many times `fibonacci(0)` and `fibonacci(1)` are called. \n",
    "\n",
    "This is an inefficient solution to the problem, and it gets worse as the argument gets bigger.\n",
    "\n",
    "One solution is to keep track of values that have already been computed by **storing them in a dictionary.**\n",
    "\n",
    "This operation of memorising the results of function calls is called **memoization**."
   ]
  },
  {
   "cell_type": "markdown",
   "metadata": {
    "slideshow": {
     "slide_type": "fragment"
    }
   },
   "source": [
    "> **Exercise**: Re-implement `fibonacci` function with **memoization**"
   ]
  }
 ],
 "metadata": {
  "kernelspec": {
   "display_name": "Python 3 (ipykernel)",
   "language": "python",
   "name": "python3"
  },
  "language_info": {
   "codemirror_mode": {
    "name": "ipython",
    "version": 3
   },
   "file_extension": ".py",
   "mimetype": "text/x-python",
   "name": "python",
   "nbconvert_exporter": "python",
   "pygments_lexer": "ipython3",
   "version": "3.9.6"
  }
 },
 "nbformat": 4,
 "nbformat_minor": 4
}
