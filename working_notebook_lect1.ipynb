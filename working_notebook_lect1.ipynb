{
 "cells": [
  {
   "cell_type": "markdown",
   "id": "8ab55536-1c75-4728-8a58-a7a66dc3d7db",
   "metadata": {},
   "source": [
    "# Working Notebook\n",
    "\n",
    "Welcome to the _Programming with Python_ course! We will be using this notebook to go through the lecture materials, as well as to work _together_ on practical examples and exercises."
   ]
  },
  {
   "cell_type": "markdown",
   "id": "8376b782-cfd1-48d8-91db-1d53565675cf",
   "metadata": {},
   "source": [
    "## first thing: let's familiarise with the environment\n",
    "\n",
    "Let's talk about **Jupyter Notebooks** for a second."
   ]
  },
  {
   "cell_type": "code",
   "execution_count": null,
   "id": "f53bb072-e218-492a-bef6-e6d78dc9ffdf",
   "metadata": {},
   "outputs": [],
   "source": [
    "# code cell"
   ]
  },
  {
   "cell_type": "markdown",
   "id": "39a01f33-d622-4c65-a545-ed1b6daebbbe",
   "metadata": {},
   "source": [
    "Text Cell"
   ]
  },
  {
   "cell_type": "code",
   "execution_count": null,
   "id": "f0b90233-2a73-46a4-9717-9a68c365be69",
   "metadata": {},
   "outputs": [],
   "source": []
  },
  {
   "cell_type": "code",
   "execution_count": null,
   "id": "060f82c9-e4b8-45e8-b05c-2f969447fb61",
   "metadata": {},
   "outputs": [],
   "source": []
  },
  {
   "cell_type": "code",
   "execution_count": null,
   "id": "fd36f8e1-5b40-411f-beb7-5e6a3e3d47e7",
   "metadata": {},
   "outputs": [],
   "source": []
  },
  {
   "cell_type": "markdown",
   "id": "05bf6893-81bf-4863-a024-b029dad9614a",
   "metadata": {},
   "source": [
    "---"
   ]
  },
  {
   "cell_type": "markdown",
   "id": "8a59ce6b-9cdc-4009-a6c3-f453a8ed00ae",
   "metadata": {},
   "source": [
    "$\\rightarrow$ _Adapted from_ : [**Software Carpentries: Programming with Python**]()\n",
    "\n",
    "## Arthritis Inflammation\n",
    "We are studying **inflammation in patients** who have been given a new treatment for arthritis.\n",
    "\n",
    "There are `60` patients, who had their inflammation levels recorded for `40` days.\n",
    "We want to analyze these recordings to study the effect of the new arthritis treatment.\n",
    "\n",
    "To see how the treatment is affecting the patients in general, we would like to:\n",
    "\n",
    "1. Process the file to extract data for each patient;\n",
    "2. Calculate some statistics on each patient;\n",
    "    - e.g. average inflammation over the `40` days (or `min`, `max` .. and so on)\n",
    "    - e.g average statistics per week (we will assume `40` days account for `5` weeks)\n",
    "    - `...` (open to ideas)\n",
    "3. Calculate some statistics on the dataset.\n",
    "    - e.g. min and max inflammation registered overall in the clinical study;\n",
    "    - e.g. the average inflammation per day across all patients.\n",
    "    - `...` (open to ideas)\n",
    "\n",
    "\n",
    "![3-step flowchart shows inflammation data records for patients moving to the Analysis step\n",
    "where a heat map of provided data is generated moving to the Conclusion step that asks the\n",
    "question, How does the medication affect patients?](\n",
    "https://raw.githubusercontent.com/swcarpentry/python-novice-inflammation/gh-pages/fig/lesson-overview.svg \"Lesson Overview\")\n",
    "\n",
    "\n",
    "### Data Format\n",
    "\n",
    "The data sets are stored in\n",
    "[comma-separated values] (CSV) format:\n",
    "\n",
    "- each row holds information for a single patient,\n",
    "- columns represent successive days.\n",
    "\n",
    "The first three rows of our first file look like this:\n",
    "~~~\n",
    "0,0,1,3,1,2,4,7,8,3,3,3,10,5,7,4,7,7,12,18,6,13,11,11,7,7,4,6,8,8,4,4,5,7,3,4,2,3,0,0\n",
    "0,1,2,1,2,1,3,2,2,6,10,11,5,9,4,4,7,16,8,6,18,4,12,5,12,7,11,5,11,3,3,5,4,4,5,5,1,1,0,1\n",
    "0,1,1,3,3,2,6,2,5,9,5,7,4,5,4,15,5,11,9,10,19,14,12,17,7,12,11,7,4,2,10,5,4,2,2,3,2,2,1,1\n",
    "~~~\n",
    "\n",
    "Each number represents the number of inflammation bouts that a particular patient experienced on a\n",
    "given day.\n",
    "\n",
    "For example, value \"6\" at row 3 column 7 of the data set above means that the third\n",
    "patient was experiencing inflammation six times on the seventh day of the clinical study.\n",
    "\n",
    "Our **task** is to gather as much information as possible from the dataset, and to report back to colleagues to foster future discussions."
   ]
  },
  {
   "cell_type": "markdown",
   "id": "31f65289-4826-49db-b213-5152e363f9db",
   "metadata": {},
   "source": [
    "### Let'make a plan\n",
    "\n",
    "- Problem description (step by step) in NATURAL LANGUAGE (**strict rule**) - imagine you're explaining this to someone who doesn't know **anything** about programming.\n",
    "- What do we need to start\n",
    "- Where do we start"
   ]
  },
  {
   "cell_type": "code",
   "execution_count": null,
   "id": "1741f9bc-95a7-4174-9301-d8a2b7e5bb4d",
   "metadata": {},
   "outputs": [],
   "source": [
    "# I'll go first - let's create a dummy file to practice named dummy, two rows, ten values"
   ]
  },
  {
   "cell_type": "code",
   "execution_count": null,
   "id": "6cf6afcb-d86e-47de-b9f8-4a088e95392f",
   "metadata": {},
   "outputs": [],
   "source": []
  },
  {
   "cell_type": "code",
   "execution_count": null,
   "id": "0b4c4c53-9451-455a-806b-52561209b644",
   "metadata": {},
   "outputs": [],
   "source": []
  },
  {
   "cell_type": "markdown",
   "id": "84761636-aa4d-4e4d-b3cf-4f8b6a32bee1",
   "metadata": {},
   "source": [
    "Read the file"
   ]
  },
  {
   "cell_type": "code",
   "execution_count": null,
   "id": "83f71ca3-14ec-4a00-b0e9-88ba1a9e5748",
   "metadata": {},
   "outputs": [],
   "source": []
  },
  {
   "cell_type": "code",
   "execution_count": null,
   "id": "a75846a5-c0f6-49c9-ace5-b1f364e4846b",
   "metadata": {},
   "outputs": [],
   "source": []
  },
  {
   "cell_type": "markdown",
   "id": "aa16a789-4cca-4ca5-b232-5d67ffedc296",
   "metadata": {},
   "source": [
    "How to collect information from data file"
   ]
  },
  {
   "cell_type": "code",
   "execution_count": null,
   "id": "60493a2b-6a43-45d6-b67c-6bfd967211c5",
   "metadata": {},
   "outputs": [],
   "source": []
  },
  {
   "cell_type": "code",
   "execution_count": null,
   "id": "25285a44-dd0c-41a5-a7cc-3e22f74b0a5b",
   "metadata": {},
   "outputs": [],
   "source": []
  },
  {
   "cell_type": "markdown",
   "id": "8772ca9b-80a6-4794-8039-654e0294450d",
   "metadata": {},
   "source": [
    "Play with what we have so far: iteration"
   ]
  },
  {
   "cell_type": "code",
   "execution_count": null,
   "id": "38f35ae1-ce44-47f5-9265-2f32ec3bfad1",
   "metadata": {},
   "outputs": [],
   "source": []
  },
  {
   "cell_type": "code",
   "execution_count": null,
   "id": "1e200c2d-49de-4e82-a919-78eef3e68d2b",
   "metadata": {},
   "outputs": [],
   "source": []
  },
  {
   "cell_type": "markdown",
   "id": "68e0ce79-78ee-40a6-b8e0-eef3ff3ec819",
   "metadata": {},
   "source": [
    "(_fancy word_) **Slicing**"
   ]
  },
  {
   "cell_type": "markdown",
   "id": "b17eb294-bd53-4489-9138-10a84e17bf08",
   "metadata": {},
   "source": [
    "![slicing example](https://swcarpentry.github.io/python-novice-inflammation/fig/python-zero-index.svg)"
   ]
  },
  {
   "cell_type": "markdown",
   "id": "712bb90e-c2f9-4f22-be2b-65afc16400a4",
   "metadata": {},
   "source": [
    "Source: [Software Carpentries](https://swcarpentry.github.io/python-novice-inflammation/02-numpy/index.html)"
   ]
  },
  {
   "cell_type": "code",
   "execution_count": null,
   "id": "868a1b97-f825-488a-bf3a-984949111895",
   "metadata": {},
   "outputs": [],
   "source": []
  },
  {
   "cell_type": "code",
   "execution_count": null,
   "id": "61b2cb3c-9686-434c-8eba-efffd0cae647",
   "metadata": {},
   "outputs": [],
   "source": []
  },
  {
   "cell_type": "markdown",
   "id": "a947bde6-c61a-4aef-b1af-a9e6b31d33ce",
   "metadata": {},
   "source": [
    "Now let's move to the _real_ data file: **how can we re-use the same algorithm?**"
   ]
  },
  {
   "cell_type": "code",
   "execution_count": null,
   "id": "6866f778-3b98-4114-8bbb-8764eccf0c1c",
   "metadata": {},
   "outputs": [],
   "source": []
  },
  {
   "cell_type": "code",
   "execution_count": null,
   "id": "84e9f8df-5a87-47f8-8fcb-e22e951e52d6",
   "metadata": {},
   "outputs": [],
   "source": []
  },
  {
   "cell_type": "markdown",
   "id": "c6f34a5d-3bc7-47a2-bb31-4272970e5299",
   "metadata": {},
   "source": [
    "_now we have 60 patiens to deal with_ - how can we do that?"
   ]
  },
  {
   "cell_type": "code",
   "execution_count": null,
   "id": "257289a9-adfd-462c-9731-0971255fd016",
   "metadata": {},
   "outputs": [],
   "source": []
  },
  {
   "cell_type": "code",
   "execution_count": null,
   "id": "4df67359-ea08-40ff-8b79-d077aa117de0",
   "metadata": {},
   "outputs": [],
   "source": []
  },
  {
   "cell_type": "markdown",
   "id": "7545c8de-4946-47e4-868d-51e3f05eb8fa",
   "metadata": {},
   "source": [
    "What if we also add in a reference ID for each patient? (see `data/inflammation02.csv`)"
   ]
  },
  {
   "cell_type": "code",
   "execution_count": null,
   "id": "401d50af-6438-4dc0-ac94-712cefb201c8",
   "metadata": {},
   "outputs": [],
   "source": []
  },
  {
   "cell_type": "code",
   "execution_count": null,
   "id": "6138dbb3-7226-4bf0-a422-7d050b3f8784",
   "metadata": {},
   "outputs": [],
   "source": []
  },
  {
   "cell_type": "markdown",
   "id": "f2643109-a925-49f3-a80e-a830b5a99f23",
   "metadata": {},
   "source": [
    "Let's practice with our new data structure"
   ]
  },
  {
   "cell_type": "code",
   "execution_count": null,
   "id": "4f03168d-d223-487a-a73c-40e05a40da76",
   "metadata": {},
   "outputs": [],
   "source": []
  },
  {
   "cell_type": "code",
   "execution_count": null,
   "id": "efe6dab4-fbd9-4b20-baa9-897fdf52dc7a",
   "metadata": {},
   "outputs": [],
   "source": []
  },
  {
   "cell_type": "code",
   "execution_count": null,
   "id": "d658d0c1-a451-4a5a-96e3-c0bc56c90431",
   "metadata": {},
   "outputs": [],
   "source": []
  },
  {
   "cell_type": "markdown",
   "id": "ae5424a8-53d5-4a0f-9a28-9fa1b8714777",
   "metadata": {},
   "source": [
    "Let's get on with the _real deal_ : let's gather some statistics!"
   ]
  },
  {
   "cell_type": "code",
   "execution_count": null,
   "id": "1ba867f5-daf0-415b-8a65-6178fa74a8f8",
   "metadata": {},
   "outputs": [],
   "source": []
  },
  {
   "cell_type": "code",
   "execution_count": null,
   "id": "c7c221bf-62c9-4640-a1e9-18ac0bdfb263",
   "metadata": {},
   "outputs": [],
   "source": []
  },
  {
   "cell_type": "code",
   "execution_count": null,
   "id": "bded191e-e0aa-4406-934c-4873de21e3b9",
   "metadata": {},
   "outputs": [],
   "source": []
  },
  {
   "cell_type": "code",
   "execution_count": null,
   "id": "c94458ea-bf76-41ab-93a6-949f40fbc10d",
   "metadata": {},
   "outputs": [],
   "source": []
  },
  {
   "cell_type": "code",
   "execution_count": null,
   "id": "d234ec24-3e1b-4408-bffd-f74634967ae6",
   "metadata": {},
   "outputs": [],
   "source": []
  }
 ],
 "metadata": {
  "kernelspec": {
   "display_name": "Python 3 (ipykernel)",
   "language": "python",
   "name": "python3"
  },
  "language_info": {
   "codemirror_mode": {
    "name": "ipython",
    "version": 3
   },
   "file_extension": ".py",
   "mimetype": "text/x-python",
   "name": "python",
   "nbconvert_exporter": "python",
   "pygments_lexer": "ipython3",
   "version": "3.9.7"
  }
 },
 "nbformat": 4,
 "nbformat_minor": 5
}
