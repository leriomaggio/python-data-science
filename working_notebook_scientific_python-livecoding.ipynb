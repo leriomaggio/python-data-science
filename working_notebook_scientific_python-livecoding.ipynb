{
 "cells": [
  {
   "cell_type": "markdown",
   "id": "d1eb9cff-8082-49d7-b5db-8006b476df93",
   "metadata": {
    "tags": []
   },
   "source": [
    "### Intro to Scientific Python Ecosystem"
   ]
  },
  {
   "cell_type": "code",
   "execution_count": 1,
   "id": "f0b90233-2a73-46a4-9717-9a68c365be69",
   "metadata": {
    "tags": []
   },
   "outputs": [],
   "source": [
    "import numpy as np"
   ]
  },
  {
   "cell_type": "code",
   "execution_count": 2,
   "id": "b6d27f88-0a85-4498-8ee0-f82eb7f0c90b",
   "metadata": {},
   "outputs": [
    {
     "name": "stdout",
     "output_type": "stream",
     "text": [
      "0,0,1,3,1,2,4\n",
      "0,1,2,1,2,1,3\n",
      "0,1,1,3,3,2,6"
     ]
    }
   ],
   "source": [
    "!head dummy.csv"
   ]
  },
  {
   "cell_type": "markdown",
   "id": "e5453327-3699-47b0-acc1-8d623c33581f",
   "metadata": {},
   "source": [
    "Read dummy dataset with numpy"
   ]
  },
  {
   "cell_type": "code",
   "execution_count": 3,
   "id": "dc6b43b5-c1f3-4b98-ba52-6f0dfd7068d0",
   "metadata": {},
   "outputs": [
    {
     "data": {
      "text/plain": [
       "\u001b[0;31mSignature:\u001b[0m\n",
       "\u001b[0mnp\u001b[0m\u001b[0;34m.\u001b[0m\u001b[0mloadtxt\u001b[0m\u001b[0;34m(\u001b[0m\u001b[0;34m\u001b[0m\n",
       "\u001b[0;34m\u001b[0m    \u001b[0mfname\u001b[0m\u001b[0;34m,\u001b[0m\u001b[0;34m\u001b[0m\n",
       "\u001b[0;34m\u001b[0m    \u001b[0mdtype\u001b[0m\u001b[0;34m=\u001b[0m\u001b[0;34m<\u001b[0m\u001b[0;32mclass\u001b[0m \u001b[0;34m'float'\u001b[0m\u001b[0;34m>\u001b[0m\u001b[0;34m,\u001b[0m\u001b[0;34m\u001b[0m\n",
       "\u001b[0;34m\u001b[0m    \u001b[0mcomments\u001b[0m\u001b[0;34m=\u001b[0m\u001b[0;34m'#'\u001b[0m\u001b[0;34m,\u001b[0m\u001b[0;34m\u001b[0m\n",
       "\u001b[0;34m\u001b[0m    \u001b[0mdelimiter\u001b[0m\u001b[0;34m=\u001b[0m\u001b[0;32mNone\u001b[0m\u001b[0;34m,\u001b[0m\u001b[0;34m\u001b[0m\n",
       "\u001b[0;34m\u001b[0m    \u001b[0mconverters\u001b[0m\u001b[0;34m=\u001b[0m\u001b[0;32mNone\u001b[0m\u001b[0;34m,\u001b[0m\u001b[0;34m\u001b[0m\n",
       "\u001b[0;34m\u001b[0m    \u001b[0mskiprows\u001b[0m\u001b[0;34m=\u001b[0m\u001b[0;36m0\u001b[0m\u001b[0;34m,\u001b[0m\u001b[0;34m\u001b[0m\n",
       "\u001b[0;34m\u001b[0m    \u001b[0musecols\u001b[0m\u001b[0;34m=\u001b[0m\u001b[0;32mNone\u001b[0m\u001b[0;34m,\u001b[0m\u001b[0;34m\u001b[0m\n",
       "\u001b[0;34m\u001b[0m    \u001b[0munpack\u001b[0m\u001b[0;34m=\u001b[0m\u001b[0;32mFalse\u001b[0m\u001b[0;34m,\u001b[0m\u001b[0;34m\u001b[0m\n",
       "\u001b[0;34m\u001b[0m    \u001b[0mndmin\u001b[0m\u001b[0;34m=\u001b[0m\u001b[0;36m0\u001b[0m\u001b[0;34m,\u001b[0m\u001b[0;34m\u001b[0m\n",
       "\u001b[0;34m\u001b[0m    \u001b[0mencoding\u001b[0m\u001b[0;34m=\u001b[0m\u001b[0;34m'bytes'\u001b[0m\u001b[0;34m,\u001b[0m\u001b[0;34m\u001b[0m\n",
       "\u001b[0;34m\u001b[0m    \u001b[0mmax_rows\u001b[0m\u001b[0;34m=\u001b[0m\u001b[0;32mNone\u001b[0m\u001b[0;34m,\u001b[0m\u001b[0;34m\u001b[0m\n",
       "\u001b[0;34m\u001b[0m    \u001b[0;34m*\u001b[0m\u001b[0;34m,\u001b[0m\u001b[0;34m\u001b[0m\n",
       "\u001b[0;34m\u001b[0m    \u001b[0mlike\u001b[0m\u001b[0;34m=\u001b[0m\u001b[0;32mNone\u001b[0m\u001b[0;34m,\u001b[0m\u001b[0;34m\u001b[0m\n",
       "\u001b[0;34m\u001b[0m\u001b[0;34m)\u001b[0m\u001b[0;34m\u001b[0m\u001b[0;34m\u001b[0m\u001b[0m\n",
       "\u001b[0;31mDocstring:\u001b[0m\n",
       "Load data from a text file.\n",
       "\n",
       "Each row in the text file must have the same number of values.\n",
       "\n",
       "Parameters\n",
       "----------\n",
       "fname : file, str, or pathlib.Path\n",
       "    File, filename, or generator to read.  If the filename extension is\n",
       "    ``.gz`` or ``.bz2``, the file is first decompressed. Note that\n",
       "    generators should return byte strings.\n",
       "dtype : data-type, optional\n",
       "    Data-type of the resulting array; default: float.  If this is a\n",
       "    structured data-type, the resulting array will be 1-dimensional, and\n",
       "    each row will be interpreted as an element of the array.  In this\n",
       "    case, the number of columns used must match the number of fields in\n",
       "    the data-type.\n",
       "comments : str or sequence of str, optional\n",
       "    The characters or list of characters used to indicate the start of a\n",
       "    comment. None implies no comments. For backwards compatibility, byte\n",
       "    strings will be decoded as 'latin1'. The default is '#'.\n",
       "delimiter : str, optional\n",
       "    The string used to separate values. For backwards compatibility, byte\n",
       "    strings will be decoded as 'latin1'. The default is whitespace.\n",
       "converters : dict, optional\n",
       "    A dictionary mapping column number to a function that will parse the\n",
       "    column string into the desired value.  E.g., if column 0 is a date\n",
       "    string: ``converters = {0: datestr2num}``.  Converters can also be\n",
       "    used to provide a default value for missing data (but see also\n",
       "    `genfromtxt`): ``converters = {3: lambda s: float(s.strip() or 0)}``.\n",
       "    Default: None.\n",
       "skiprows : int, optional\n",
       "    Skip the first `skiprows` lines, including comments; default: 0.\n",
       "usecols : int or sequence, optional\n",
       "    Which columns to read, with 0 being the first. For example,\n",
       "    ``usecols = (1,4,5)`` will extract the 2nd, 5th and 6th columns.\n",
       "    The default, None, results in all columns being read.\n",
       "\n",
       "    .. versionchanged:: 1.11.0\n",
       "        When a single column has to be read it is possible to use\n",
       "        an integer instead of a tuple. E.g ``usecols = 3`` reads the\n",
       "        fourth column the same way as ``usecols = (3,)`` would.\n",
       "unpack : bool, optional\n",
       "    If True, the returned array is transposed, so that arguments may be\n",
       "    unpacked using ``x, y, z = loadtxt(...)``.  When used with a\n",
       "    structured data-type, arrays are returned for each field.\n",
       "    Default is False.\n",
       "ndmin : int, optional\n",
       "    The returned array will have at least `ndmin` dimensions.\n",
       "    Otherwise mono-dimensional axes will be squeezed.\n",
       "    Legal values: 0 (default), 1 or 2.\n",
       "\n",
       "    .. versionadded:: 1.6.0\n",
       "encoding : str, optional\n",
       "    Encoding used to decode the inputfile. Does not apply to input streams.\n",
       "    The special value 'bytes' enables backward compatibility workarounds\n",
       "    that ensures you receive byte arrays as results if possible and passes\n",
       "    'latin1' encoded strings to converters. Override this value to receive\n",
       "    unicode arrays and pass strings as input to converters.  If set to None\n",
       "    the system default is used. The default value is 'bytes'.\n",
       "\n",
       "    .. versionadded:: 1.14.0\n",
       "max_rows : int, optional\n",
       "    Read `max_rows` lines of content after `skiprows` lines. The default\n",
       "    is to read all the lines.\n",
       "\n",
       "    .. versionadded:: 1.16.0\n",
       "like : array_like\n",
       "    Reference object to allow the creation of arrays which are not\n",
       "    NumPy arrays. If an array-like passed in as ``like`` supports\n",
       "    the ``__array_function__`` protocol, the result will be defined\n",
       "    by it. In this case, it ensures the creation of an array object\n",
       "    compatible with that passed in via this argument.\n",
       "\n",
       "    .. versionadded:: 1.20.0\n",
       "\n",
       "Returns\n",
       "-------\n",
       "out : ndarray\n",
       "    Data read from the text file.\n",
       "\n",
       "See Also\n",
       "--------\n",
       "load, fromstring, fromregex\n",
       "genfromtxt : Load data with missing values handled as specified.\n",
       "scipy.io.loadmat : reads MATLAB data files\n",
       "\n",
       "Notes\n",
       "-----\n",
       "This function aims to be a fast reader for simply formatted files.  The\n",
       "`genfromtxt` function provides more sophisticated handling of, e.g.,\n",
       "lines with missing values.\n",
       "\n",
       ".. versionadded:: 1.10.0\n",
       "\n",
       "The strings produced by the Python float.hex method can be used as\n",
       "input for floats.\n",
       "\n",
       "Examples\n",
       "--------\n",
       ">>> from io import StringIO   # StringIO behaves like a file object\n",
       ">>> c = StringIO(\"0 1\\n2 3\")\n",
       ">>> np.loadtxt(c)\n",
       "array([[0., 1.],\n",
       "       [2., 3.]])\n",
       "\n",
       ">>> d = StringIO(\"M 21 72\\nF 35 58\")\n",
       ">>> np.loadtxt(d, dtype={'names': ('gender', 'age', 'weight'),\n",
       "...                      'formats': ('S1', 'i4', 'f4')})\n",
       "array([(b'M', 21, 72.), (b'F', 35, 58.)],\n",
       "      dtype=[('gender', 'S1'), ('age', '<i4'), ('weight', '<f4')])\n",
       "\n",
       ">>> c = StringIO(\"1,0,2\\n3,0,4\")\n",
       ">>> x, y = np.loadtxt(c, delimiter=',', usecols=(0, 2), unpack=True)\n",
       ">>> x\n",
       "array([1., 3.])\n",
       ">>> y\n",
       "array([2., 4.])\n",
       "\n",
       "This example shows how `converters` can be used to convert a field\n",
       "with a trailing minus sign into a negative number.\n",
       "\n",
       ">>> s = StringIO('10.01 31.25-\\n19.22 64.31\\n17.57- 63.94')\n",
       ">>> def conv(fld):\n",
       "...     return -float(fld[:-1]) if fld.endswith(b'-') else float(fld)\n",
       "...\n",
       ">>> np.loadtxt(s, converters={0: conv, 1: conv})\n",
       "array([[ 10.01, -31.25],\n",
       "       [ 19.22,  64.31],\n",
       "       [-17.57,  63.94]])\n",
       "\u001b[0;31mFile:\u001b[0m      ~/anaconda3/envs/pyds/lib/python3.9/site-packages/numpy/lib/npyio.py\n",
       "\u001b[0;31mType:\u001b[0m      function\n"
      ]
     },
     "metadata": {},
     "output_type": "display_data"
    }
   ],
   "source": [
    "np.loadtxt?"
   ]
  },
  {
   "cell_type": "code",
   "execution_count": 4,
   "id": "366c480b-c21e-4cce-8d5c-444841b98fe3",
   "metadata": {},
   "outputs": [],
   "source": [
    "import os\n",
    "from pathlib import Path\n",
    "\n",
    "\n",
    "BASE_FOLDER = Path(os.path.abspath(os.path.curdir))\n",
    "DATA_FOLDER = BASE_FOLDER / \"data\""
   ]
  },
  {
   "cell_type": "code",
   "execution_count": 5,
   "id": "b6bc96ae-f431-4c94-948e-8072eff83b4e",
   "metadata": {},
   "outputs": [],
   "source": [
    "dummy_data = np.loadtxt(\"dummy.csv\", delimiter=\",\")"
   ]
  },
  {
   "cell_type": "markdown",
   "id": "13a49539-cb86-47a5-8a18-b62bb4c94731",
   "metadata": {},
   "source": [
    "Playing with Attribute of `ndarray`"
   ]
  },
  {
   "cell_type": "code",
   "execution_count": 6,
   "id": "8ce3997c-f047-4906-a904-d1f6c82f1d9b",
   "metadata": {},
   "outputs": [
    {
     "data": {
      "text/plain": [
       "numpy.ndarray"
      ]
     },
     "execution_count": 6,
     "metadata": {},
     "output_type": "execute_result"
    }
   ],
   "source": [
    "type(dummy_data)"
   ]
  },
  {
   "cell_type": "code",
   "execution_count": 7,
   "id": "b38f0a87-17dd-49bf-a0b1-2e3617d85a44",
   "metadata": {},
   "outputs": [
    {
     "data": {
      "text/plain": [
       "(3, 7)"
      ]
     },
     "execution_count": 7,
     "metadata": {},
     "output_type": "execute_result"
    }
   ],
   "source": [
    "dummy_data.shape"
   ]
  },
  {
   "cell_type": "code",
   "execution_count": 8,
   "id": "129a52cc-8141-4b27-bf5a-8eeba66b70a7",
   "metadata": {},
   "outputs": [
    {
     "data": {
      "text/plain": [
       "dtype('float64')"
      ]
     },
     "execution_count": 8,
     "metadata": {},
     "output_type": "execute_result"
    }
   ],
   "source": [
    "dummy_data.dtype"
   ]
  },
  {
   "cell_type": "code",
   "execution_count": 9,
   "id": "30ac400c-f076-4a23-96e0-d6c26b9b6be1",
   "metadata": {},
   "outputs": [
    {
     "data": {
      "text/plain": [
       "array([[0., 0., 1., 3., 1., 2., 4.],\n",
       "       [0., 1., 2., 1., 2., 1., 3.],\n",
       "       [0., 1., 1., 3., 3., 2., 6.]])"
      ]
     },
     "execution_count": 9,
     "metadata": {},
     "output_type": "execute_result"
    }
   ],
   "source": [
    "dummy_data"
   ]
  },
  {
   "cell_type": "code",
   "execution_count": 10,
   "id": "510d7a43-8706-488e-9532-d209a5aca162",
   "metadata": {},
   "outputs": [],
   "source": [
    "dummy_data = np.loadtxt(\"dummy.csv\", delimiter=\",\", dtype=np.int32)"
   ]
  },
  {
   "cell_type": "code",
   "execution_count": 11,
   "id": "e0c385b9-63a1-4e11-8686-2262ba31243c",
   "metadata": {},
   "outputs": [
    {
     "data": {
      "text/plain": [
       "dtype('int32')"
      ]
     },
     "execution_count": 11,
     "metadata": {},
     "output_type": "execute_result"
    }
   ],
   "source": [
    "dummy_data.dtype"
   ]
  },
  {
   "cell_type": "code",
   "execution_count": 12,
   "id": "35705acd-d06d-4fbc-b67c-4fefed7c9bd0",
   "metadata": {},
   "outputs": [
    {
     "data": {
      "text/plain": [
       "array([[0, 0, 1, 3, 1, 2, 4],\n",
       "       [0, 1, 2, 1, 2, 1, 3],\n",
       "       [0, 1, 1, 3, 3, 2, 6]], dtype=int32)"
      ]
     },
     "execution_count": 12,
     "metadata": {},
     "output_type": "execute_result"
    }
   ],
   "source": [
    "dummy_data"
   ]
  },
  {
   "cell_type": "code",
   "execution_count": null,
   "id": "53464ab4-02a0-4fe0-860c-013cb2b0b182",
   "metadata": {},
   "outputs": [],
   "source": []
  },
  {
   "cell_type": "markdown",
   "id": "efff31de-e61e-4f48-ad8f-c28eaba368e7",
   "metadata": {},
   "source": [
    "### Let's switch to some real data"
   ]
  },
  {
   "cell_type": "markdown",
   "id": "1335a0ae-488f-4c79-a2e9-de0c87433eec",
   "metadata": {
    "tags": []
   },
   "source": [
    "$\\rightarrow$ _Adapted from_ : [**Software Carpentries: Programming with Python**]()\n",
    "\n",
    "## Arthritis Inflammation\n",
    "We are studying **inflammation in patients** who have been given a new treatment for arthritis.\n",
    "\n",
    "There are `60` patients, who had their inflammation levels recorded for `40` days.\n",
    "We want to analyze these recordings to study the effect of the new arthritis treatment.\n",
    "\n",
    "To see how the treatment is affecting the patients in general, we would like to:\n",
    "\n",
    "1. Process the file to extract data for each patient;\n",
    "2. Calculate some statistics on each patient;\n",
    "    - e.g. average inflammation over the `40` days (or `min`, `max` .. and so on)\n",
    "    - e.g average statistics per week (we will assume `40` days account for `5` weeks)\n",
    "    - `...` (open to ideas)\n",
    "3. Calculate some statistics on the dataset.\n",
    "    - e.g. min and max inflammation registered overall in the clinical study;\n",
    "    - e.g. the average inflammation per day across all patients.\n",
    "    - `...` (open to ideas)\n",
    "\n",
    "\n",
    "![3-step flowchart shows inflammation data records for patients moving to the Analysis step\n",
    "where a heat map of provided data is generated moving to the Conclusion step that asks the\n",
    "question, How does the medication affect patients?](\n",
    "https://raw.githubusercontent.com/swcarpentry/python-novice-inflammation/gh-pages/fig/lesson-overview.svg \"Lesson Overview\")\n",
    "\n",
    "\n",
    "### Data Format\n",
    "\n",
    "The data sets are stored in\n",
    "[comma-separated values] (CSV) format:\n",
    "\n",
    "- each row holds information for a single patient,\n",
    "- columns represent successive days.\n",
    "\n",
    "The first three rows of our first file look like this:\n",
    "~~~\n",
    "0,0,1,3,1,2,4,7,8,3,3,3,10,5,7,4,7,7,12,18,6,13,11,11,7,7,4,6,8,8,4,4,5,7,3,4,2,3,0,0\n",
    "0,1,2,1,2,1,3,2,2,6,10,11,5,9,4,4,7,16,8,6,18,4,12,5,12,7,11,5,11,3,3,5,4,4,5,5,1,1,0,1\n",
    "0,1,1,3,3,2,6,2,5,9,5,7,4,5,4,15,5,11,9,10,19,14,12,17,7,12,11,7,4,2,10,5,4,2,2,3,2,2,1,1\n",
    "~~~\n",
    "\n",
    "Each number represents the number of inflammation bouts that a particular patient experienced on a\n",
    "given day.\n",
    "\n",
    "For example, value \"6\" at row 3 column 7 of the data set above means that the third\n",
    "patient was experiencing inflammation six times on the seventh day of the clinical study.\n",
    "\n",
    "Our **task** is to gather as much information as possible from the dataset, and to report back to colleagues to foster future discussions."
   ]
  },
  {
   "cell_type": "code",
   "execution_count": 13,
   "id": "b8ef92d7-3925-4f11-9ff4-65bace6bb112",
   "metadata": {},
   "outputs": [],
   "source": [
    "if_data_01 = DATA_FOLDER / \"inflammation-01.csv\""
   ]
  },
  {
   "cell_type": "code",
   "execution_count": 14,
   "id": "43a618c0-9cc5-4d7c-87da-93a567e33174",
   "metadata": {},
   "outputs": [],
   "source": [
    "inf_data = np.loadtxt(if_data_01, delimiter=\",\", dtype=np.int32)"
   ]
  },
  {
   "cell_type": "code",
   "execution_count": 15,
   "id": "ddbb51c6-dfce-4573-8106-7e819f3f078d",
   "metadata": {},
   "outputs": [
    {
     "data": {
      "text/plain": [
       "(60, 40)"
      ]
     },
     "execution_count": 15,
     "metadata": {},
     "output_type": "execute_result"
    }
   ],
   "source": [
    "inf_data.shape"
   ]
  },
  {
   "cell_type": "code",
   "execution_count": 16,
   "id": "5f110622-0f7e-4d0f-8445-ad71901087ef",
   "metadata": {},
   "outputs": [
    {
     "data": {
      "text/plain": [
       "dtype('int32')"
      ]
     },
     "execution_count": 16,
     "metadata": {},
     "output_type": "execute_result"
    }
   ],
   "source": [
    "inf_data.dtype"
   ]
  },
  {
   "cell_type": "code",
   "execution_count": 17,
   "id": "961e414c-d8b3-48f9-a527-5cd29d42f6a8",
   "metadata": {},
   "outputs": [
    {
     "data": {
      "text/plain": [
       "2400"
      ]
     },
     "execution_count": 17,
     "metadata": {},
     "output_type": "execute_result"
    }
   ],
   "source": [
    "inf_data.size"
   ]
  },
  {
   "cell_type": "code",
   "execution_count": 18,
   "id": "9efcc1fd-a114-4b5f-874d-fe012a7064b8",
   "metadata": {},
   "outputs": [
    {
     "data": {
      "text/plain": [
       "4"
      ]
     },
     "execution_count": 18,
     "metadata": {},
     "output_type": "execute_result"
    }
   ],
   "source": [
    "inf_data.itemsize"
   ]
  },
  {
   "cell_type": "markdown",
   "id": "9c8ec418-bdad-4ed8-9943-dfaab66c8e86",
   "metadata": {},
   "source": [
    "#### Slicing"
   ]
  },
  {
   "cell_type": "code",
   "execution_count": 19,
   "id": "f75aa7c4-0337-4565-82bd-afb9c1df1515",
   "metadata": {},
   "outputs": [
    {
     "data": {
      "text/plain": [
       "array([[ 0,  0,  1,  3,  1,  2,  4,  7,  8,  3,  3,  3, 10,  5,  7,  4,\n",
       "         7,  7, 12, 18,  6, 13, 11, 11,  7,  7,  4,  6,  8,  8,  4,  4,\n",
       "         5,  7,  3,  4,  2,  3,  0,  0],\n",
       "       [ 0,  1,  2,  1,  2,  1,  3,  2,  2,  6, 10, 11,  5,  9,  4,  4,\n",
       "         7, 16,  8,  6, 18,  4, 12,  5, 12,  7, 11,  5, 11,  3,  3,  5,\n",
       "         4,  4,  5,  5,  1,  1,  0,  1],\n",
       "       [ 0,  1,  1,  3,  3,  2,  6,  2,  5,  9,  5,  7,  4,  5,  4, 15,\n",
       "         5, 11,  9, 10, 19, 14, 12, 17,  7, 12, 11,  7,  4,  2, 10,  5,\n",
       "         4,  2,  2,  3,  2,  2,  1,  1]], dtype=int32)"
      ]
     },
     "execution_count": 19,
     "metadata": {},
     "output_type": "execute_result"
    }
   ],
   "source": [
    "inf_data[:3]"
   ]
  },
  {
   "cell_type": "code",
   "execution_count": 20,
   "id": "d9f5ec4f-7590-465e-bb5e-970d833a24de",
   "metadata": {},
   "outputs": [
    {
     "data": {
      "text/plain": [
       "array([[0, 0, 1, 3, 1, 2, 4],\n",
       "       [0, 1, 2, 1, 2, 1, 3],\n",
       "       [0, 1, 1, 3, 3, 2, 6]], dtype=int32)"
      ]
     },
     "execution_count": 20,
     "metadata": {},
     "output_type": "execute_result"
    }
   ],
   "source": [
    "inf_data[:3, :7]"
   ]
  },
  {
   "cell_type": "markdown",
   "id": "b544b219-f362-4b13-8a4a-89f00c458c05",
   "metadata": {},
   "source": [
    "### Performance Comparison Numpy vs Lists"
   ]
  },
  {
   "cell_type": "code",
   "execution_count": 21,
   "id": "ed5d8aa7-1a8b-45b1-b7dd-eea7dc28ff6b",
   "metadata": {},
   "outputs": [
    {
     "name": "stdout",
     "output_type": "stream",
     "text": [
      "1.03 s ± 36.1 ms per loop (mean ± std. dev. of 7 runs, 1 loop each)\n"
     ]
    }
   ],
   "source": [
    "%%timeit\n",
    "matrix_lol = []\n",
    "for i in range(10000):\n",
    "    row = list()\n",
    "    for j in range(1000):\n",
    "        row.append(j)\n",
    "    matrix_lol.append(row)\n"
   ]
  },
  {
   "cell_type": "code",
   "execution_count": 22,
   "id": "25dfe716-1580-4ffe-9eec-28203a5468b7",
   "metadata": {},
   "outputs": [
    {
     "name": "stdout",
     "output_type": "stream",
     "text": [
      "1.98 s ± 134 ms per loop (mean ± std. dev. of 7 runs, 1 loop each)\n"
     ]
    }
   ],
   "source": [
    "%%timeit\n",
    "matrix_np = np.empty((10000, 1000), dtype=np.int32)\n",
    "for i in range(10000):\n",
    "    for j in range(1000):\n",
    "        matrix_np[i, j] = j"
   ]
  },
  {
   "cell_type": "code",
   "execution_count": 23,
   "id": "c2cfc3ff-7975-45fa-b53a-7fef02c8dcba",
   "metadata": {},
   "outputs": [
    {
     "name": "stdout",
     "output_type": "stream",
     "text": [
      "19.3 ms ± 699 µs per loop (mean ± std. dev. of 7 runs, 10 loops each)\n"
     ]
    }
   ],
   "source": [
    "%%timeit\n",
    "matrix_np_faster = np.arange(10000*1000).reshape(10000, 1000)"
   ]
  },
  {
   "cell_type": "markdown",
   "id": "c20fb192-4d7e-4922-91c7-1a150b672afb",
   "metadata": {},
   "source": [
    "### Let's talk about patients"
   ]
  },
  {
   "cell_type": "markdown",
   "id": "ccc911c0-c940-4c16-ad3a-91ee62a315c7",
   "metadata": {},
   "source": [
    "1. average inflammations per day (max and min)\n",
    "2. median\n",
    "3. standard deviation"
   ]
  },
  {
   "cell_type": "markdown",
   "id": "a0160c81-f2b3-425c-be31-3ee344c12bf1",
   "metadata": {},
   "source": [
    "#### Compute patient's averages with vanilla python"
   ]
  },
  {
   "cell_type": "code",
   "execution_count": 24,
   "id": "b6129f7c-c2e1-4560-9532-635db49a4a4a",
   "metadata": {},
   "outputs": [],
   "source": [
    "patients = list()\n",
    "with open(if_data_01) as data_file:\n",
    "    for line in data_file:\n",
    "        line = line.strip()\n",
    "        if not line:\n",
    "            continue\n",
    "        values = line.split(\",\")\n",
    "        patient_data = list()\n",
    "        for value in values:\n",
    "            patient_data.append(int(value))\n",
    "        patients.append(tuple(patient_data))\n",
    "    "
   ]
  },
  {
   "cell_type": "code",
   "execution_count": 25,
   "id": "128ac3f0-3103-4ac9-8e9b-a047aa15b632",
   "metadata": {},
   "outputs": [
    {
     "data": {
      "text/plain": [
       "60"
      ]
     },
     "execution_count": 25,
     "metadata": {},
     "output_type": "execute_result"
    }
   ],
   "source": [
    "len(patients)"
   ]
  },
  {
   "cell_type": "code",
   "execution_count": 26,
   "id": "e7351eb7-19e1-4b07-9268-6b0bd01a2442",
   "metadata": {},
   "outputs": [],
   "source": [
    "from typing import List, Tuple\n",
    "\n",
    "def overall_average(patients: List[Tuple[int]]) -> float:\n",
    "    n_values = 0\n",
    "    sum_values = 0\n",
    "    for patient in patients:\n",
    "        n_values += len(patient)\n",
    "        sum_values += sum(patient)\n",
    "    return sum_values / n_values"
   ]
  },
  {
   "cell_type": "code",
   "execution_count": 27,
   "id": "62255c54-7afa-4c12-b282-a5096da35f43",
   "metadata": {},
   "outputs": [
    {
     "name": "stdout",
     "output_type": "stream",
     "text": [
      "32.8 µs ± 798 ns per loop (mean ± std. dev. of 7 runs, 10000 loops each)\n"
     ]
    }
   ],
   "source": [
    "%timeit overall_average(patients)"
   ]
  },
  {
   "cell_type": "markdown",
   "id": "831e598b-e9a2-4372-a3b4-3d16839ea6bb",
   "metadata": {},
   "source": [
    "#### Average of the whole dataset with `np.mean`"
   ]
  },
  {
   "cell_type": "code",
   "execution_count": 28,
   "id": "cf6d5b68-f9e6-4228-8ac1-9b1a87087db7",
   "metadata": {},
   "outputs": [
    {
     "name": "stdout",
     "output_type": "stream",
     "text": [
      "12.2 µs ± 350 ns per loop (mean ± std. dev. of 7 runs, 100000 loops each)\n"
     ]
    }
   ],
   "source": [
    "%timeit inf_data.mean()"
   ]
  },
  {
   "cell_type": "code",
   "execution_count": 29,
   "id": "af162472-9c83-4f87-852a-be07e17a99c9",
   "metadata": {},
   "outputs": [
    {
     "data": {
      "text/plain": [
       "6.14875"
      ]
     },
     "execution_count": 29,
     "metadata": {},
     "output_type": "execute_result"
    }
   ],
   "source": [
    "overall_average(patients)"
   ]
  },
  {
   "cell_type": "code",
   "execution_count": 30,
   "id": "8a79c169-80ad-4df8-b886-faafaf096f7c",
   "metadata": {},
   "outputs": [
    {
     "data": {
      "text/plain": [
       "6.14875"
      ]
     },
     "execution_count": 30,
     "metadata": {},
     "output_type": "execute_result"
    }
   ],
   "source": [
    "inf_data.mean()"
   ]
  },
  {
   "cell_type": "markdown",
   "id": "f5607cc2-9c1c-47c1-b50a-d2f5fcf05214",
   "metadata": {},
   "source": [
    "#### Average for each patient"
   ]
  },
  {
   "cell_type": "code",
   "execution_count": 31,
   "id": "81292841-fa7e-4469-997c-b32a03d1b860",
   "metadata": {},
   "outputs": [],
   "source": [
    "average_per_patient = inf_data.mean(axis=1)"
   ]
  },
  {
   "cell_type": "code",
   "execution_count": 32,
   "id": "653e396e-ee46-4277-9dae-ee434009c3c5",
   "metadata": {},
   "outputs": [
    {
     "data": {
      "text/plain": [
       "(60,)"
      ]
     },
     "execution_count": 32,
     "metadata": {},
     "output_type": "execute_result"
    }
   ],
   "source": [
    "average_per_patient.shape"
   ]
  },
  {
   "cell_type": "code",
   "execution_count": 33,
   "id": "490da866-989d-46ca-9858-bf459b199438",
   "metadata": {},
   "outputs": [
    {
     "data": {
      "text/plain": [
       "array([5.45 , 5.425, 6.1  , 5.9  , 5.55 , 6.225, 5.975, 6.65 , 6.625,\n",
       "       6.525, 6.775, 5.8  , 6.225, 5.75 , 5.225, 6.3  , 6.55 , 5.7  ,\n",
       "       5.85 , 6.55 , 5.775, 5.825, 6.175, 6.1  , 5.8  , 6.425, 6.05 ,\n",
       "       6.025, 6.175, 6.55 , 6.175, 6.35 , 6.725, 6.125, 7.075, 5.725,\n",
       "       5.925, 6.15 , 6.075, 5.75 , 5.975, 5.725, 6.3  , 5.9  , 6.75 ,\n",
       "       5.925, 7.225, 6.15 , 5.95 , 6.275, 5.7  , 6.1  , 6.825, 5.975,\n",
       "       6.725, 5.7  , 6.25 , 6.4  , 7.05 , 5.9  ])"
      ]
     },
     "execution_count": 33,
     "metadata": {},
     "output_type": "execute_result"
    }
   ],
   "source": [
    "average_per_patient"
   ]
  },
  {
   "cell_type": "markdown",
   "id": "5ef90736-9543-41c9-8f2e-263764810f9f",
   "metadata": {},
   "source": [
    "**Start Lect 4**:\n",
    "\n",
    "Let's compare time execution to Vanilla Python Implementation"
   ]
  },
  {
   "cell_type": "code",
   "execution_count": null,
   "id": "3a0856dc-6a92-4310-a291-7ddb91343cb5",
   "metadata": {},
   "outputs": [],
   "source": []
  },
  {
   "cell_type": "code",
   "execution_count": null,
   "id": "01b81ce7-878b-4b83-b23e-2f755af579a0",
   "metadata": {},
   "outputs": [],
   "source": []
  },
  {
   "cell_type": "markdown",
   "id": "7563c65f-a897-4e51-b677-44b65ea68600",
   "metadata": {},
   "source": [
    "#### Exercise:\n",
    "\n",
    "Calculate Daily Inflammation Average"
   ]
  },
  {
   "cell_type": "code",
   "execution_count": null,
   "id": "5a2019b3-6f19-465a-9bef-18e933c4d237",
   "metadata": {},
   "outputs": [],
   "source": [
    "# Vanilla Python Implementation"
   ]
  },
  {
   "cell_type": "code",
   "execution_count": null,
   "id": "31f0ad2d-ef65-4a88-bb07-9bf04fb83c6b",
   "metadata": {},
   "outputs": [],
   "source": []
  },
  {
   "cell_type": "code",
   "execution_count": null,
   "id": "ec14dbf5-e2bc-43c4-a1f8-8d9a2207adfa",
   "metadata": {},
   "outputs": [],
   "source": [
    "#Numpy"
   ]
  },
  {
   "cell_type": "code",
   "execution_count": null,
   "id": "c8a635bc-5ad5-4236-b51c-d8f9b808fd58",
   "metadata": {},
   "outputs": [],
   "source": []
  },
  {
   "cell_type": "markdown",
   "id": "6153dd78-b869-40c1-8f96-970c44c14dbd",
   "metadata": {},
   "source": [
    "### Plotting with `matplotlib`\n",
    "\n",
    "We will be using `matplotlib` to add in some visualisation of the Data"
   ]
  },
  {
   "cell_type": "code",
   "execution_count": null,
   "id": "be35e5a0-96e9-4974-8e38-2f2148c72e03",
   "metadata": {},
   "outputs": [],
   "source": [
    "from matplotlib import pyplot as plt"
   ]
  },
  {
   "cell_type": "code",
   "execution_count": null,
   "id": "e515402f-c768-4055-b0dc-d3289540c7d9",
   "metadata": {},
   "outputs": [],
   "source": [
    "# plot a line with the computed means\n",
    "plt.plot(inf_data.mean(axis=1))\n",
    "\n",
    "# set the tile\n",
    "plt.title(\"Avg inflammations per day\")\n",
    "\n",
    "# set the label for the x-axis\n",
    "plt.xlabel(\"Patient ID\")\n",
    "\n",
    "# set the label for the y-axis\n",
    "plt.ylabel(\"Avg inflammations\")"
   ]
  },
  {
   "cell_type": "markdown",
   "id": "b43f4fd5-2914-4abd-83d9-35a52ef347c9",
   "metadata": {},
   "source": [
    "#### Plot with scatter points instead of a continuous line"
   ]
  },
  {
   "cell_type": "code",
   "execution_count": null,
   "id": "9373d2c4-1dcd-4493-a173-cbb42240e20f",
   "metadata": {},
   "outputs": [],
   "source": [
    "plt.plot(inf_data.mean(axis=1), 'o')\n",
    "\n",
    "plt.title(\"Avg inflammations per day\")\n",
    "plt.xlabel(\"Patient ID\")\n",
    "plt.ylabel(\"Avg inflammations\")"
   ]
  },
  {
   "cell_type": "markdown",
   "id": "0f4229c2-5cbf-4421-aad4-fbf545769c0e",
   "metadata": {},
   "source": [
    "#### Compute mean and standard deviation (i.e. spread) of the distribution"
   ]
  },
  {
   "cell_type": "code",
   "execution_count": null,
   "id": "be93982a-fdc5-4669-a911-591607646477",
   "metadata": {},
   "outputs": [],
   "source": [
    "patient_means = inf_data.mean(axis=1)\n",
    "patient_means.mean(), patient_means.std()"
   ]
  },
  {
   "cell_type": "code",
   "execution_count": null,
   "id": "b60f2581-0689-487f-888d-d047ad761be9",
   "metadata": {},
   "outputs": [],
   "source": [
    "plt.plot(inf_data.mean(axis=1), 'o')\n",
    "\n",
    "# plot an horizontal line\n",
    "plt.axhline(patient_means.mean(), color='k')\n",
    "\n",
    "# plot an horizontal line with a different style\n",
    "plt.axhline(\n",
    "    patient_means.mean() - patient_means.std(), \n",
    "    linestyle='--', \n",
    "    color='k'\n",
    ")\n",
    "plt.axhline(\n",
    "    patient_means.mean() + patient_means.std(), \n",
    "    linestyle='--', \n",
    "    color='k'\n",
    ")\n",
    "\n",
    "plt.title(\"Avg inflammations per day\")\n",
    "plt.xlabel(\"Patient ID\")\n",
    "plt.ylabel(\"Avg inflammations\")"
   ]
  },
  {
   "cell_type": "markdown",
   "id": "64e955e6-6135-4d79-96c1-d6ad30c76ccf",
   "metadata": {},
   "source": [
    "#### Plot the line of a single patient"
   ]
  },
  {
   "cell_type": "code",
   "execution_count": null,
   "id": "2bb68cf3-2ebd-4c06-8b1c-4767a57c00f3",
   "metadata": {},
   "outputs": [],
   "source": [
    "plt.plot(inf_data[0])"
   ]
  },
  {
   "cell_type": "markdown",
   "id": "59e5de59-22e7-4747-94da-2c2bd99136fa",
   "metadata": {},
   "source": [
    "#### Plot a single line representing the daily averages"
   ]
  },
  {
   "cell_type": "code",
   "execution_count": null,
   "id": "01c2a676-3fa5-45e8-a357-329b27e9b614",
   "metadata": {},
   "outputs": [],
   "source": [
    "plt.plot(inf_data.mean(axis=0))"
   ]
  },
  {
   "cell_type": "markdown",
   "id": "f5a8dd0f-c360-4753-b5a8-04601d218300",
   "metadata": {},
   "source": [
    "#### Try to plot all the lines together"
   ]
  },
  {
   "cell_type": "code",
   "execution_count": null,
   "id": "24e5ef93-41b8-4fa3-8aea-54e89cc417f7",
   "metadata": {},
   "outputs": [],
   "source": [
    "# create a figure of a larger size, 20x10 inches\n",
    "plt.figure(figsize=(20, 10))\n",
    "\n",
    "# data.T transposes the matrix, i.e. swap rows and columns\n",
    "# the alpha parameter add some transparency\n",
    "_ = plt.plot(inf_data.T, color='green', alpha=0.1)"
   ]
  },
  {
   "cell_type": "markdown",
   "id": "dafc1825-d1a6-4454-95ff-715ab97cc60b",
   "metadata": {},
   "source": [
    "#### Visualize the whole dataset with a heatmap"
   ]
  },
  {
   "cell_type": "code",
   "execution_count": null,
   "id": "95695f64-0692-42de-87c4-8cd78ef3070c",
   "metadata": {},
   "outputs": [],
   "source": [
    "plt.imshow(inf_data, cmap='Spectral_r')\n",
    "plt.colorbar()\n",
    "plt.show()"
   ]
  },
  {
   "cell_type": "markdown",
   "id": "a76516d6-f7ae-4be9-86e8-6596b6a17ea8",
   "metadata": {},
   "source": [
    "---"
   ]
  },
  {
   "cell_type": "markdown",
   "id": "5a476e31-0cbf-4e7a-b545-eee76af6c60f",
   "metadata": {},
   "source": [
    "## Solution 2 with Dictionary VS Numpy"
   ]
  },
  {
   "cell_type": "markdown",
   "id": "47d1efdf-7fc0-4c3c-aaa1-23a60bf40da3",
   "metadata": {},
   "source": [
    "```python\n",
    "def overall_average(patients: Dataset) -> float:\n",
    "    num_values = 0\n",
    "    sum_of_values = 0\n",
    "    for inflammation_data in patients.values():\n",
    "        num_values += len(inflammation_data)\n",
    "        sum_of_values += sum(inflammation_data)\n",
    "    return sum_of_values / num_values\n",
    "```"
   ]
  },
  {
   "cell_type": "markdown",
   "id": "40744f04-0952-4131-9387-9c002211d0b5",
   "metadata": {},
   "source": [
    "Let's recall what the implementation was like"
   ]
  },
  {
   "cell_type": "code",
   "execution_count": null,
   "id": "f09064d6-f746-4ecf-a648-4a1a5e618d53",
   "metadata": {},
   "outputs": [],
   "source": []
  },
  {
   "cell_type": "code",
   "execution_count": null,
   "id": "1bbc677e-b209-4e31-9ef7-1f22b4e7a3fc",
   "metadata": {},
   "outputs": [],
   "source": []
  },
  {
   "cell_type": "markdown",
   "id": "2aaa4070-8b4c-4dae-aefd-c2a402a97623",
   "metadata": {},
   "source": [
    "Let's Now try to load `inflammation-02.csv` file in Numpy"
   ]
  },
  {
   "cell_type": "code",
   "execution_count": null,
   "id": "542a16b8-04c5-416e-b730-5b98d7786581",
   "metadata": {},
   "outputs": [],
   "source": []
  },
  {
   "cell_type": "code",
   "execution_count": null,
   "id": "8333d1b3-b7f9-48a6-b759-e1d8d326fd66",
   "metadata": {},
   "outputs": [],
   "source": []
  },
  {
   "cell_type": "markdown",
   "id": "7440a644-6d34-40be-a81f-d7069131469e",
   "metadata": {},
   "source": [
    "Looking for a better solution: introducing `pandas`"
   ]
  },
  {
   "cell_type": "code",
   "execution_count": null,
   "id": "4b007efb-8779-4796-afb5-08878a44e167",
   "metadata": {},
   "outputs": [],
   "source": [
    "import pandas as pd"
   ]
  },
  {
   "cell_type": "code",
   "execution_count": null,
   "id": "a6445981-79d0-4a6b-8b06-c91abc6864fd",
   "metadata": {},
   "outputs": [],
   "source": []
  },
  {
   "cell_type": "markdown",
   "id": "93536f43-9c80-4088-a666-088fd829be59",
   "metadata": {},
   "source": [
    "Slicing & `pd.Series`"
   ]
  },
  {
   "cell_type": "code",
   "execution_count": null,
   "id": "9d2c6514-e681-4d12-b0d4-dbf14b99c33b",
   "metadata": {},
   "outputs": [],
   "source": []
  },
  {
   "cell_type": "code",
   "execution_count": null,
   "id": "66dc53e1-06fa-45ed-b637-a85255c586e4",
   "metadata": {},
   "outputs": [],
   "source": []
  },
  {
   "cell_type": "markdown",
   "id": "6bb98734-e383-4e54-87c0-6cbb28d652c4",
   "metadata": {},
   "source": [
    "Adding information on Columns"
   ]
  },
  {
   "cell_type": "code",
   "execution_count": null,
   "id": "60113efa-b487-415a-af2d-30c1a8a16087",
   "metadata": {},
   "outputs": [],
   "source": []
  },
  {
   "cell_type": "code",
   "execution_count": null,
   "id": "3b9c2c17-21b3-4389-830b-c8437d723bf0",
   "metadata": {},
   "outputs": [],
   "source": []
  },
  {
   "cell_type": "markdown",
   "id": "531369a6-2230-4a89-b6d9-f023d1e79918",
   "metadata": {},
   "source": [
    "Calculate Statistics with Pandas"
   ]
  },
  {
   "cell_type": "code",
   "execution_count": null,
   "id": "1f088b00-8aed-4678-8c1d-9241462afc7c",
   "metadata": {},
   "outputs": [],
   "source": []
  },
  {
   "cell_type": "code",
   "execution_count": null,
   "id": "5a6852c7-5836-47a1-88b7-8cc6be2cd706",
   "metadata": {},
   "outputs": [],
   "source": []
  },
  {
   "cell_type": "markdown",
   "id": "ab2073b0-3dff-4d46-88fc-1c703c852377",
   "metadata": {},
   "source": [
    "Plot with Pandas"
   ]
  },
  {
   "cell_type": "code",
   "execution_count": null,
   "id": "19844db4-989d-4ddb-b762-1e6d3dc1b527",
   "metadata": {},
   "outputs": [],
   "source": []
  },
  {
   "cell_type": "code",
   "execution_count": null,
   "id": "9b5d6192-7a36-4427-b3b9-dbb52726ed86",
   "metadata": {},
   "outputs": [],
   "source": []
  },
  {
   "cell_type": "code",
   "execution_count": null,
   "id": "3c9dcc51-9d17-446a-acd7-15dce7e1f006",
   "metadata": {},
   "outputs": [],
   "source": []
  },
  {
   "cell_type": "markdown",
   "id": "09552d44-b36b-4600-84e5-cfed58946efe",
   "metadata": {},
   "source": [
    "**GREAT TIME FOR A BREAK NOW!** ☕️🧁🍪"
   ]
  }
 ],
 "metadata": {
  "kernelspec": {
   "display_name": "Python 3 (ipykernel)",
   "language": "python",
   "name": "python3"
  },
  "language_info": {
   "codemirror_mode": {
    "name": "ipython",
    "version": 3
   },
   "file_extension": ".py",
   "mimetype": "text/x-python",
   "name": "python",
   "nbconvert_exporter": "python",
   "pygments_lexer": "ipython3",
   "version": "3.9.7"
  }
 },
 "nbformat": 4,
 "nbformat_minor": 5
}
