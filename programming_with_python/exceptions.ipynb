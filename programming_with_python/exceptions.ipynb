{
 "cells": [
  {
   "cell_type": "markdown",
   "metadata": {
    "slideshow": {
     "slide_type": "slide"
    }
   },
   "source": [
    "# Exceptions"
   ]
  },
  {
   "cell_type": "markdown",
   "metadata": {
    "slideshow": {
     "slide_type": "subslide"
    }
   },
   "source": [
    "Exceptions are events that can modify the *flow* of control through a program. \n",
    "\n",
    "In Python, exceptions are triggered automatically on errors, and they can be triggered and intercepted by your code.\n",
    "\n",
    "They are processed by **four** statements we’ll study in this notebook, the first of which has two variations (listed separately here) and the last of which was an optional extension until Python 2.6 and 3.0:\n",
    "\n",
    "* `try/except`:\n",
    "    * Catch and recover from exceptions raised by Python, or by you\n",
    "    \n",
    "* `try/finally`:\n",
    "    * Perform cleanup actions, whether exceptions occur or not.\n",
    "\n",
    "* `raise`:\n",
    "    * Trigger an exception manually in your code.\n",
    "    \n",
    "* `assert`:\n",
    "    * Conditionally trigger an exception in your code.\n",
    "    \n",
    "* `with/as`:\n",
    "    * Implement context managers in Python 2.6, 3.0, and later (optional in 2.5)."
   ]
  },
  {
   "cell_type": "markdown",
   "metadata": {
    "slideshow": {
     "slide_type": "slide"
    }
   },
   "source": [
    "# `try/except` Statement"
   ]
  },
  {
   "cell_type": "markdown",
   "metadata": {
    "slideshow": {
     "slide_type": "fragment"
    }
   },
   "source": [
    "```\n",
    "try:\n",
    "    statements           # Run this main action first\n",
    "except name1:       \n",
    "  # Run if name1 is raised during try block\n",
    "    statements\n",
    "except (name2, name3):   \n",
    "   # Run if any of these exceptions occur\n",
    "    statements \n",
    "except name4 as var:     \n",
    "     # Run if name4 is raised, assign instance raised to var \n",
    "    statements\n",
    "except:                  # Run for all other exceptions raised\n",
    "    statements\n",
    "else:\n",
    "    statements           # Run if no exception was raised during try block\n",
    "```"
   ]
  },
  {
   "cell_type": "code",
   "execution_count": 1,
   "metadata": {
    "scrolled": true,
    "slideshow": {
     "slide_type": "subslide"
    }
   },
   "outputs": [
    {
     "name": "stdout",
     "output_type": "stream",
     "text": [
      "[1, 2, 3, 4, 5, 6, 7, 8, 9, 10, 11, 12, 13, 14, 15, 16, 17, 18, 19, 20, 21, 22, 23, 24, 25, 26, 27, 28, 29, 30, 31, 32, 33, 34, 35, 36, 37, 38, 39, 40, 41, 42, 43, 44, 45, 46, 47, 48, 49, 50, 51, 52, 53, 54, 55, 56, 57, 58, 59, 60, 61, 62, 63, 64, 65, 66, 67, 68, 69, 70, 71, 72, 73, 74, 75, 76, 77, 78, 79, 80, 81, 82, 83, 84, 85, 86, 87, 88, 89, 90, 91, 92, 93, 94, 95, 96, 97, 98, 99]\n"
     ]
    }
   ],
   "source": [
    "list_of_numbers = [number for number in range(1, 100)]\n",
    "print(list_of_numbers)"
   ]
  },
  {
   "cell_type": "code",
   "execution_count": 2,
   "metadata": {},
   "outputs": [],
   "source": [
    "dictionary_of_numbers = {}\n",
    "for number in list_of_numbers:\n",
    "    dictionary_of_numbers[number**2] = number"
   ]
  },
  {
   "cell_type": "code",
   "execution_count": 3,
   "metadata": {
    "scrolled": true
   },
   "outputs": [
    {
     "data": {
      "text/plain": [
       "{1: 1,\n",
       " 4: 2,\n",
       " 9: 3,\n",
       " 16: 4,\n",
       " 25: 5,\n",
       " 36: 6,\n",
       " 49: 7,\n",
       " 64: 8,\n",
       " 81: 9,\n",
       " 100: 10,\n",
       " 121: 11,\n",
       " 144: 12,\n",
       " 169: 13,\n",
       " 196: 14,\n",
       " 225: 15,\n",
       " 256: 16,\n",
       " 289: 17,\n",
       " 324: 18,\n",
       " 361: 19,\n",
       " 400: 20,\n",
       " 441: 21,\n",
       " 484: 22,\n",
       " 529: 23,\n",
       " 576: 24,\n",
       " 625: 25,\n",
       " 676: 26,\n",
       " 729: 27,\n",
       " 784: 28,\n",
       " 841: 29,\n",
       " 900: 30,\n",
       " 961: 31,\n",
       " 1024: 32,\n",
       " 1089: 33,\n",
       " 1156: 34,\n",
       " 1225: 35,\n",
       " 1296: 36,\n",
       " 1369: 37,\n",
       " 1444: 38,\n",
       " 1521: 39,\n",
       " 1600: 40,\n",
       " 1681: 41,\n",
       " 1764: 42,\n",
       " 1849: 43,\n",
       " 1936: 44,\n",
       " 2025: 45,\n",
       " 2116: 46,\n",
       " 2209: 47,\n",
       " 2304: 48,\n",
       " 2401: 49,\n",
       " 2500: 50,\n",
       " 2601: 51,\n",
       " 2704: 52,\n",
       " 2809: 53,\n",
       " 2916: 54,\n",
       " 3025: 55,\n",
       " 3136: 56,\n",
       " 3249: 57,\n",
       " 3364: 58,\n",
       " 3481: 59,\n",
       " 3600: 60,\n",
       " 3721: 61,\n",
       " 3844: 62,\n",
       " 3969: 63,\n",
       " 4096: 64,\n",
       " 4225: 65,\n",
       " 4356: 66,\n",
       " 4489: 67,\n",
       " 4624: 68,\n",
       " 4761: 69,\n",
       " 4900: 70,\n",
       " 5041: 71,\n",
       " 5184: 72,\n",
       " 5329: 73,\n",
       " 5476: 74,\n",
       " 5625: 75,\n",
       " 5776: 76,\n",
       " 5929: 77,\n",
       " 6084: 78,\n",
       " 6241: 79,\n",
       " 6400: 80,\n",
       " 6561: 81,\n",
       " 6724: 82,\n",
       " 6889: 83,\n",
       " 7056: 84,\n",
       " 7225: 85,\n",
       " 7396: 86,\n",
       " 7569: 87,\n",
       " 7744: 88,\n",
       " 7921: 89,\n",
       " 8100: 90,\n",
       " 8281: 91,\n",
       " 8464: 92,\n",
       " 8649: 93,\n",
       " 8836: 94,\n",
       " 9025: 95,\n",
       " 9216: 96,\n",
       " 9409: 97,\n",
       " 9604: 98,\n",
       " 9801: 99}"
      ]
     },
     "execution_count": 3,
     "metadata": {},
     "output_type": "execute_result"
    }
   ],
   "source": [
    "dictionary_of_numbers"
   ]
  },
  {
   "cell_type": "code",
   "execution_count": null,
   "metadata": {
    "slideshow": {
     "slide_type": "fragment"
    }
   },
   "outputs": [],
   "source": [
    "try:\n",
    "    index = list_of_numbers.index(2)\n",
    "    value = dictionary_of_numbers[index]\n",
    "except (ValueError, KeyError):\n",
    "    print('Error Raised, but Controlled! ')\n",
    "else: \n",
    "    # This executes ONLY if no exception is raised\n",
    "    print('Getting number at position %d : %d' % (index, value))\n",
    "finally:\n",
    "    # Do cleanup operations\n",
    "    print('Cleaning UP')"
   ]
  },
  {
   "cell_type": "markdown",
   "metadata": {
    "slideshow": {
     "slide_type": "slide"
    }
   },
   "source": [
    "# `try/finally` Statement"
   ]
  },
  {
   "cell_type": "markdown",
   "metadata": {
    "slideshow": {
     "slide_type": "subslide"
    }
   },
   "source": [
    "The other flavor of the try statement is a specialization that has to do with finalization (a.k.a. termination) actions. If a finally clause is included in a try, Python will always run its block of statements “on the way out” of the try statement, whether an exception occurred while the try block was running or not. \n",
    "\n",
    "In it's general form, it is:\n",
    "\n",
    "```\n",
    "try:\n",
    "    statements # Run this action first \n",
    "finally:\n",
    "    statements # Always run this code on the way out\n",
    "```"
   ]
  },
  {
   "cell_type": "markdown",
   "metadata": {
    "slideshow": {
     "slide_type": "subslide"
    }
   },
   "source": [
    "# `with/as` Context Managers"
   ]
  },
  {
   "cell_type": "markdown",
   "metadata": {
    "slideshow": {
     "slide_type": "fragment"
    }
   },
   "source": [
    "Python 2.6 and 3.0 introduced a new exception-related statement—the with, and its optional as clause. This statement is designed to work with context manager objects, which support a new method-based protocol, similar in spirit to the way that iteration tools work with methods of the iteration protocol. "
   ]
  },
  {
   "cell_type": "markdown",
   "metadata": {
    "slideshow": {
     "slide_type": "subslide"
    }
   },
   "source": [
    "## Context Manager Intro"
   ]
  },
  {
   "cell_type": "markdown",
   "metadata": {
    "slideshow": {
     "slide_type": "fragment"
    }
   },
   "source": [
    "### Basic Usage:\n",
    "\n",
    "```\n",
    "with expression [as variable]: \n",
    "    with-block\n",
    "```"
   ]
  },
  {
   "cell_type": "markdown",
   "metadata": {
    "slideshow": {
     "slide_type": "subslide"
    }
   },
   "source": [
    "### Classical Usage\n",
    "\n",
    "```python\n",
    "\n",
    "with open(r'C:\\misc\\data') as myfile: \n",
    "    for line in myfile:\n",
    "        print(line)\n",
    "    # ...more code here...\n",
    "```\n",
    "\n",
    "... even using multiple context managers:\n",
    "\n",
    "```python\n",
    "with open('script1.py') as f1, open('script2.py') as f2: \n",
    "    for (linenum, (line1, line2)) in enumerate(zip(f1, f2)):\n",
    "        if line1 != line2:\n",
    "            print('%s\\n%r\\n%r' % (linenum, line1, line2))\n",
    "```"
   ]
  },
  {
   "cell_type": "markdown",
   "metadata": {
    "slideshow": {
     "slide_type": "subslide"
    }
   },
   "source": [
    "### How it works\n",
    "\n",
    "1. The expression is evaluated,resulting in an object known as a **context manager** that must have `__enter__` and `__exit__` methods\n",
    "\n",
    "2. The context manager’s `__enter__` method is called. The value it returns is assigned to the variable in the as clause if present, or simply discarded otherwise\n",
    "\n",
    "3. The code in the nested with block is executed.\n",
    "\n",
    "4. If the with block raises an exception, the `__exit__(type,value,traceback)` method is called with the exception details. These are the same three values returned by `sys.exc_info` (Python function). If this method returns a `false` value, the exception is **re-raised**; otherwise, the exception is terminated. The exception should normally be reraised so that it is propagated outside the with statement.\n",
    "\n",
    "5. If the with block does not raise an exception, the `__exit__` method is still called, but its type, value, and traceback arguments are all passed in as `None`."
   ]
  },
  {
   "cell_type": "markdown",
   "metadata": {
    "slideshow": {
     "slide_type": "slide"
    }
   },
   "source": [
    "## Usage with Exceptions"
   ]
  },
  {
   "cell_type": "code",
   "execution_count": null,
   "metadata": {
    "collapsed": true,
    "jupyter": {
     "outputs_hidden": true
    },
    "slideshow": {
     "slide_type": "subslide"
    }
   },
   "outputs": [],
   "source": [
    "class TraceBlock:\n",
    "    def message(self, arg):\n",
    "        print('running ' + arg) \n",
    "        \n",
    "    def __enter__(self):\n",
    "        print('starting with block')\n",
    "        return self\n",
    "    \n",
    "    def __exit__(self, exc_type, exc_value, exc_tb):\n",
    "        if exc_type is None: \n",
    "            print('exited normally\\n')\n",
    "        else:\n",
    "            print('raise an exception! ' + str(exc_type)) \n",
    "            return False # Propagate"
   ]
  },
  {
   "cell_type": "code",
   "execution_count": null,
   "metadata": {
    "slideshow": {
     "slide_type": "fragment"
    }
   },
   "outputs": [],
   "source": [
    "with TraceBlock() as action: \n",
    "    action.message('test 1')\n",
    "    print('reached')"
   ]
  },
  {
   "cell_type": "code",
   "execution_count": null,
   "metadata": {
    "slideshow": {
     "slide_type": "fragment"
    }
   },
   "outputs": [],
   "source": [
    "with TraceBlock() as action: \n",
    "    action.message('test 2') \n",
    "    raise TypeError()\n",
    "    print('not reached')"
   ]
  },
  {
   "cell_type": "markdown",
   "metadata": {
    "slideshow": {
     "slide_type": "subslide"
    }
   },
   "source": [
    "## User Defined Exceptions"
   ]
  },
  {
   "cell_type": "code",
   "execution_count": null,
   "metadata": {
    "collapsed": true,
    "jupyter": {
     "outputs_hidden": true
    },
    "slideshow": {
     "slide_type": "fragment"
    }
   },
   "outputs": [],
   "source": [
    "class AlreadyGotOne(Exception): \n",
    "    pass\n",
    "\n",
    "def gail():\n",
    "    raise AlreadyGotOne()"
   ]
  },
  {
   "cell_type": "code",
   "execution_count": null,
   "metadata": {
    "slideshow": {
     "slide_type": "fragment"
    }
   },
   "outputs": [],
   "source": [
    "try:\n",
    "    gail()\n",
    "except AlreadyGotOne:\n",
    "    print('got exception')"
   ]
  },
  {
   "cell_type": "code",
   "execution_count": null,
   "metadata": {
    "scrolled": true,
    "slideshow": {
     "slide_type": "subslide"
    }
   },
   "outputs": [],
   "source": [
    "class Career(Exception):\n",
    "    \n",
    "    def __init__(self, job, *args, **kwargs):\n",
    "        super(Career, self).__init__(*args, **kwargs)\n",
    "        self._job = job\n",
    "    \n",
    "    def __str__(self): \n",
    "        return 'So I became a waiter of {}'.format(self._job)\n",
    "    \n",
    "raise Career('Engineer')"
   ]
  }
 ],
 "metadata": {
  "kernelspec": {
   "display_name": "Python 3 (ipykernel)",
   "language": "python",
   "name": "python3"
  },
  "language_info": {
   "codemirror_mode": {
    "name": "ipython",
    "version": 3
   },
   "file_extension": ".py",
   "mimetype": "text/x-python",
   "name": "python",
   "nbconvert_exporter": "python",
   "pygments_lexer": "ipython3",
   "version": "3.9.6"
  }
 },
 "nbformat": 4,
 "nbformat_minor": 4
}
